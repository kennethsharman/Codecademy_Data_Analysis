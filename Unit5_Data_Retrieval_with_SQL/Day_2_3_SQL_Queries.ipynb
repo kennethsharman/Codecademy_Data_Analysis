{
 "cells": [
  {
   "cell_type": "markdown",
   "metadata": {},
   "source": [
    "### Introduction\n",
    "In this lesson, we will be learning different SQL commands to query a single table in a database.\n",
    "\n",
    "One of the core purposes of the SQL language is to retrieve information stored in a database. This is commonly referred to as querying. Queries allow us to communicate with the database by asking questions and having the result set return data relevant to the question.\n",
    "\n",
    "We will be querying a database with one table named movies.\n",
    "\n",
    "Let's get started!\n",
    "\n",
    "Fun fact: IBM started out SQL as SEQUEL (Structured English QUEry Language) in the 70's to query databases.\n",
    "\n",
    "We should get acquainted with the movies table.\n",
    "\n",
    "In the editor, type the following:"
   ]
  },
  {
   "cell_type": "code",
   "execution_count": 2,
   "metadata": {},
   "outputs": [],
   "source": [
    "# SELECT * FROM movies;"
   ]
  },
  {
   "cell_type": "markdown",
   "metadata": {},
   "source": [
    "### Select\n",
    "Previously, we learned that SELECT is used every time you want to query data from a database.\n",
    "\n",
    "Suppose we are only interested in two of the columns. We can select individual columns by their names (separated by a comma):"
   ]
  },
  {
   "cell_type": "code",
   "execution_count": 4,
   "metadata": {},
   "outputs": [],
   "source": [
    "# SELECT column1, column2 \n",
    "# FROM table_name;\n",
    "\n",
    "# OR\n",
    "# SELECT column1, column2 FROM table_name;"
   ]
  },
  {
   "cell_type": "markdown",
   "metadata": {},
   "source": [
    "To make it easier to read, we moved FROM to another line.\n",
    "\n",
    "Line breaks don't mean anything specific in SQL. We could write this entire query in one line, and it would run just fine.\n",
    "\n",
    "Let's only select the name and genre columns of the table."
   ]
  },
  {
   "cell_type": "code",
   "execution_count": 5,
   "metadata": {},
   "outputs": [],
   "source": [
    "# SELECT name, genre FROM movies;"
   ]
  },
  {
   "cell_type": "markdown",
   "metadata": {},
   "source": [
    "Now we want to include a third column."
   ]
  },
  {
   "cell_type": "code",
   "execution_count": 6,
   "metadata": {},
   "outputs": [],
   "source": [
    "# SELECT name, genre, year FROM movies;"
   ]
  },
  {
   "cell_type": "markdown",
   "metadata": {},
   "source": [
    "### As\n",
    "Knowing how SELECT works, suppose we have the code below:"
   ]
  },
  {
   "cell_type": "code",
   "execution_count": 7,
   "metadata": {},
   "outputs": [],
   "source": [
    "# SELECT name AS 'Titles' FROM movies;"
   ]
  },
  {
   "cell_type": "markdown",
   "metadata": {},
   "source": [
    "Can you guess what AS does?\n",
    "\n",
    "AS is a keyword in SQL that allows you to rename a column or table using an alias. The new name can be anything you want as long as you put it inside of single quotes. Here we renamed the name column as Titles.\n",
    "\n",
    "It is important to remember that the columns have not been renamed in the table. The aliases only appear in the result.\n",
    "\n",
    "To showcase what the AS does, select the name column and rename it with an alias of your choosing."
   ]
  },
  {
   "cell_type": "code",
   "execution_count": 8,
   "metadata": {},
   "outputs": [],
   "source": [
    "# SELECT name AS 'Movie Names' FROM movies;"
   ]
  },
  {
   "cell_type": "markdown",
   "metadata": {},
   "source": [
    "Edit the query so that instead of selecting and renaming the name column, select the imdb_rating column and rename it as IMDb."
   ]
  },
  {
   "cell_type": "code",
   "execution_count": 9,
   "metadata": {},
   "outputs": [],
   "source": [
    "# SELECT imdb_rating AS 'IMDb' FROM movies;"
   ]
  },
  {
   "cell_type": "markdown",
   "metadata": {},
   "source": [
    "### Distinct\n",
    "When we are examining data in a table, it can be helpful to know what distinct values exist in a particular column.\n",
    "\n",
    "DISTINCT is used to return unique values in the output. It filters out all duplicate values in the specified column(s).\n",
    "\n",
    "Filtering the results of a query is an important skill in SQL. It is easier to see the different possible genres in the movie table after the data has been filtered than to scan every row in the table."
   ]
  },
  {
   "cell_type": "code",
   "execution_count": 10,
   "metadata": {},
   "outputs": [],
   "source": [
    "# SELECT DISTINCT genre FROM movies;"
   ]
  },
  {
   "cell_type": "markdown",
   "metadata": {},
   "source": [
    "### Where\n",
    "We can restrict our query results using the WHERE clause in order to obtain only the information we want.\n",
    "\n",
    "Following this format, the statement below filters the result set to only include top rated movies (IMDb ratings greater than 8):"
   ]
  },
  {
   "cell_type": "code",
   "execution_count": 11,
   "metadata": {},
   "outputs": [],
   "source": [
    "# SELECT *\n",
    "# FROM movies\n",
    "# WHERE imdb_rating > 8;"
   ]
  },
  {
   "cell_type": "markdown",
   "metadata": {},
   "source": [
    "How does it work?\n",
    "\n",
    "WHERE clause filters the result set to only include rows where the following condition is true.\n",
    "\n",
    "imdb_rating > 8 is the condition. Here, only rows with a value greater than 8 in the imdb_rating column will be returned.\n",
    "\n",
    "The > is an operator. Operators create a condition that can be evaluated as either true or false.\n",
    "\n",
    "Comparison operators used with the WHERE clause are:\n",
    "\n",
    "    = equal to\n",
    "    != not equal to\n",
    "    > greater than\n",
    "    < less than\n",
    "    >= greater than or equal to\n",
    "    <= less than or equal to\n",
    "There are also some special operators that we will learn more about in the upcoming exercises.\n",
    "\n",
    "Suppose we want to take a peek at all the not-so-well-received movies in the database."
   ]
  },
  {
   "cell_type": "markdown",
   "metadata": {},
   "source": [
    "Edit the query so that it will now retrieve all the recent movies, specifically those that were released after 2014."
   ]
  },
  {
   "cell_type": "code",
   "execution_count": 12,
   "metadata": {},
   "outputs": [],
   "source": [
    "# SELECT * FROM movies WHERE year > 2014;"
   ]
  },
  {
   "cell_type": "markdown",
   "metadata": {},
   "source": [
    "### Like I\n",
    "LIKE can be a useful operator when you want to compare similar values.\n",
    "\n",
    "The movies table contains two films with similar titles, 'Se7en' and 'Seven'.\n",
    "\n",
    "How could we select all movies that start with 'Se' and end with 'en' and have exactly one character in the middle?"
   ]
  },
  {
   "cell_type": "code",
   "execution_count": 13,
   "metadata": {},
   "outputs": [],
   "source": [
    "# SELECT * \n",
    "# FROM movies\n",
    "# WHERE name LIKE 'Se_en';"
   ]
  },
  {
   "cell_type": "markdown",
   "metadata": {},
   "source": [
    "    LIKE is a special operator used with the WHERE clause to search for a specific pattern in a column.\n",
    "\n",
    "    name LIKE 'Se_en' is a condition evaluating the name column for a specific pattern.\n",
    "\n",
    "    Se_en represents a pattern with a wildcard character.\n",
    "\n",
    "The _ means you can substitute any individual character here without breaking the pattern. The names Seven and Se7en both match this pattern.\n",
    "\n",
    "### Like II\n",
    "The percentage sign % is another wildcard character that can be used with LIKE.\n",
    "\n",
    "This statement below filters the result set to only include movies with names that begin with the letter 'A':"
   ]
  },
  {
   "cell_type": "code",
   "execution_count": 14,
   "metadata": {},
   "outputs": [],
   "source": [
    "# SELECT * \n",
    "# FROM movies\n",
    "# WHERE name LIKE 'A%';"
   ]
  },
  {
   "cell_type": "markdown",
   "metadata": {},
   "source": [
    "% is a wildcard character that matches zero or more missing letters in the pattern. For example:\n",
    "\n",
    "    A% matches all movies with names that begin with letter 'A'\n",
    "    %a matches all movies that end with 'a'\n",
    "We can also use % both before and after a pattern:"
   ]
  },
  {
   "cell_type": "code",
   "execution_count": 15,
   "metadata": {},
   "outputs": [],
   "source": [
    "# SELECT * \n",
    "# FROM movies \n",
    "# WHERE name LIKE '%man%';"
   ]
  },
  {
   "cell_type": "markdown",
   "metadata": {},
   "source": [
    "Here, any movie that contains the word 'man' in its name will be returned in the result.\n",
    "\n",
    "LIKE is not case sensitive. 'Batman' and 'Man of Steel' will both appear in the result of the query above.\n",
    "\n",
    "### Is Null\n",
    "By this point of the lesson, you might have noticed that there are a few missing values in the movies table. More often than not, the data you encounter will have missing values.\n",
    "\n",
    "Unknown values are indicated by NULL.\n",
    "\n",
    "It is not possible to test for NULL values with comparison operators, such as = and !=.\n",
    "\n",
    "Instead, we will have to use these operators:\n",
    "\n",
    "    IS NULL\n",
    "    IS NOT NULL\n",
    "To filter for all movies with an IMDb rating:"
   ]
  },
  {
   "cell_type": "code",
   "execution_count": 16,
   "metadata": {},
   "outputs": [],
   "source": [
    "# SELECT name\n",
    "# FROM movies \n",
    "# WHERE imdb_rating IS NOT NULL;"
   ]
  },
  {
   "cell_type": "markdown",
   "metadata": {},
   "source": [
    "Now let's do the opposite.\n",
    "\n",
    "Write a query to find all the movies without an IMDb rating.\n",
    "\n",
    "Select only the name column!"
   ]
  },
  {
   "cell_type": "code",
   "execution_count": 17,
   "metadata": {},
   "outputs": [],
   "source": [
    "# SELECT name FROM movies WHERE imdb_rating IS NULL;"
   ]
  },
  {
   "cell_type": "markdown",
   "metadata": {},
   "source": [
    "### Between\n",
    "The BETWEEN operator can be used in a WHERE clause to filter the result set within a certain range. The values can be numbers, text or dates.\n",
    "\n",
    "This statement filters the result set to only include movies with names that begin with letters 'A' up to, but not including 'J'."
   ]
  },
  {
   "cell_type": "code",
   "execution_count": 19,
   "metadata": {},
   "outputs": [],
   "source": [
    "# SELECT *\n",
    "# FROM movies\n",
    "# WHERE name BETWEEN 'A' AND 'J';\n",
    "\n",
    "# ANOTHER EXAMPLE\n",
    "\n",
    "# SELECT *\n",
    "# FROM movies\n",
    "# WHERE year BETWEEN 1990 AND 1999;"
   ]
  },
  {
   "cell_type": "markdown",
   "metadata": {},
   "source": [
    "In this statement, the BETWEEN operator is being used to filter the result set to only include movies with years between 1990 up to, and including 1999.\n",
    "\n",
    "Really interesting point to emphasize again:\n",
    "\n",
    "    BETWEEN two letters is not inclusive of the 2nd letter.\n",
    "    BETWEEN two numbers is inclusive of the 2nd number.\n",
    "    \n",
    "Using the BETWEEN operator, write a query that selects all information about movies whose name begins with the letters 'D', 'E', and 'F'."
   ]
  },
  {
   "cell_type": "code",
   "execution_count": 20,
   "metadata": {},
   "outputs": [],
   "source": [
    "# SELECT * FROM movies WHERE name BETWEEN 'D' AND 'G';"
   ]
  },
  {
   "cell_type": "markdown",
   "metadata": {},
   "source": [
    "Using the BETWEEN operator, write a new query that selects all information about movies that were released in the 1970's."
   ]
  },
  {
   "cell_type": "code",
   "execution_count": 22,
   "metadata": {},
   "outputs": [],
   "source": [
    "# SELECT * FROM movies WHERE year BETWEEN 1970 AND 1979;"
   ]
  },
  {
   "cell_type": "markdown",
   "metadata": {},
   "source": [
    "### And\n",
    "Sometimes we want to combine multiple conditions in a WHERE clause to make the result set more specific and useful.\n",
    "\n",
    "One way of doing this is to use the AND operator. Here, we use the AND operator to only return 90's romance movies."
   ]
  },
  {
   "cell_type": "code",
   "execution_count": 23,
   "metadata": {},
   "outputs": [],
   "source": [
    "# SELECT * \n",
    "# FROM movies\n",
    "# WHERE year BETWEEN 1990 AND 1999\n",
    "#    AND genre = 'romance';"
   ]
  },
  {
   "cell_type": "markdown",
   "metadata": {},
   "source": [
    "In the previous exercise, we retrieved every movie released in the 1970's.\n",
    "\n",
    "Now, let's retrieve every movie released in the 70's, that's also well received."
   ]
  },
  {
   "cell_type": "code",
   "execution_count": 25,
   "metadata": {},
   "outputs": [],
   "source": [
    "# SELECT * FROM movies WHERE year BETWEEN 1970 and 1979 AND imdb_rating > 8;"
   ]
  },
  {
   "cell_type": "markdown",
   "metadata": {},
   "source": [
    "Suppose we have a picky friend who only wants to watch old horror films.\n",
    "\n",
    "Using AND, write a new query that selects all movies made prior to 1985 that are also in the horror genre."
   ]
  },
  {
   "cell_type": "code",
   "execution_count": 26,
   "metadata": {},
   "outputs": [],
   "source": [
    "# SELECT * FROM movies WHERE year < 1985 AND genre = 'horror';"
   ]
  },
  {
   "cell_type": "markdown",
   "metadata": {},
   "source": [
    "### Or\n",
    "Similar to AND, the OR operator can also be used to combine multiple conditions in WHERE, but there is a fundamental difference:\n",
    "\n",
    "    AND operator displays a row if all the conditions are true.\n",
    "    OR operator displays a row if any condition is true.\n",
    "Suppose we want to check out a new movie or something action-packed:"
   ]
  },
  {
   "cell_type": "code",
   "execution_count": 28,
   "metadata": {},
   "outputs": [],
   "source": [
    "# SELECT *\n",
    "# FROM movies\n",
    "# WHERE year > 2014\n",
    "#    OR genre = 'action'; \n",
    "\n",
    "# ANOTHER EXAMPLE\n",
    "# SELECT * FROM movies WHERE genre = 'romance' OR genre = 'comedy';"
   ]
  },
  {
   "cell_type": "markdown",
   "metadata": {},
   "source": [
    "### Order By\n",
    "That's it with WHERE and its operators. Moving on!\n",
    "\n",
    "It is often useful to list the data in our result set in a particular order.\n",
    "\n",
    "We can sort the results using ORDER BY, either alphabetically or numerically. Sorting the results often makes the data more useful and easier to analyze.\n",
    "\n",
    "For example, if we want to sort everything by the movie's title from A through Z:"
   ]
  },
  {
   "cell_type": "code",
   "execution_count": 29,
   "metadata": {},
   "outputs": [],
   "source": [
    "# SELECT * FROM movies ORDER BY name;"
   ]
  },
  {
   "cell_type": "markdown",
   "metadata": {},
   "source": [
    "Sometimes we want to sort things in a decreasing order. For example, if we want to select all of the well-received movies, sorted from highest to lowest by their year:"
   ]
  },
  {
   "cell_type": "code",
   "execution_count": 30,
   "metadata": {},
   "outputs": [],
   "source": [
    "# SELECT *\n",
    "# FROM movies\n",
    "# WHERE imdb_rating > 8\n",
    "# ORDER BY year DESC;"
   ]
  },
  {
   "cell_type": "markdown",
   "metadata": {},
   "source": [
    "    DESC is a keyword used in ORDER BY to sort the results in descending order (high to low or Z-A).\n",
    "\n",
    "    ASC is a keyword used in ORDER BY to sort the results in ascending order (low to high or A-Z).\n",
    "\n",
    "The column that we ORDER BY doesn't even have to be one of the columns that we're displaying.\n",
    "\n",
    "Note: ORDER BY always goes after WHERE (if WHERE is present).\n",
    "\n",
    "Suppose we want to retrieve the name and year columns of all the movies, ordered by their name alphabetically."
   ]
  },
  {
   "cell_type": "code",
   "execution_count": 31,
   "metadata": {},
   "outputs": [],
   "source": [
    "# SELECT name, year FROM movies ORDER BY name;"
   ]
  },
  {
   "cell_type": "markdown",
   "metadata": {},
   "source": [
    "Write a new query that retrieves the name, year, and imdb_rating columns of all the movies, ordered highest to lowest by their ratings."
   ]
  },
  {
   "cell_type": "code",
   "execution_count": 32,
   "metadata": {},
   "outputs": [],
   "source": [
    "# SELECT name, year, imdb_rating FROM movies ORDER BY imdb_rating DESC;"
   ]
  },
  {
   "cell_type": "markdown",
   "metadata": {},
   "source": [
    "### Limit\n",
    "We've been working with a fairly small table (less than 250 rows), but most SQL tables contain hundreds of thousands of records. In those situations, it becomes important to cap the number of rows in the result.\n",
    "\n",
    "For instance, imagine that we just want to see a few examples of records."
   ]
  },
  {
   "cell_type": "code",
   "execution_count": 33,
   "metadata": {},
   "outputs": [],
   "source": [
    "# SELECT * FROM movies LIMIT 10;"
   ]
  },
  {
   "cell_type": "markdown",
   "metadata": {},
   "source": [
    "LIMIT is a clause that lets you specify the maximum number of rows the result set will have. This saves space on our screen and makes our queries run faster.\n",
    "\n",
    "Here, we specify that the result set can't have more than 10 rows.\n",
    "\n",
    "LIMIT always goes at the very end of the query. Also, it is not supported in all SQL databases.\n",
    "\n",
    "Combining your knowledge of LIMIT and ORDER BY, write a query that returns the top 3 highest rated movies.\n",
    "\n",
    "Select all the columns."
   ]
  },
  {
   "cell_type": "code",
   "execution_count": 34,
   "metadata": {},
   "outputs": [],
   "source": [
    "# SELECT * FROM movies ORDER BY imdb_rating DESC LIMIT 3;"
   ]
  },
  {
   "cell_type": "markdown",
   "metadata": {},
   "source": [
    "### Case\n",
    "A CASE statement allows us to create different outputs (usually in the SELECT statement). It is SQL's way of handling if-then logic.\n",
    "\n",
    "Suppose we want to condense the ratings in movies to three levels:\n",
    "\n",
    "    If the rating is above 8, then it is Fantastic.\n",
    "    If the rating is above 6, then it is Poorly Received.\n",
    "    Else, Avoid at All Costs."
   ]
  },
  {
   "cell_type": "code",
   "execution_count": 35,
   "metadata": {},
   "outputs": [
    {
     "data": {
      "text/plain": [
       "\"\\nSELECT name,\\n CASE\\n  WHEN imdb_rating > 8 THEN 'Fantastic'\\n  WHEN imdb_rating > 6 THEN 'Poorly Received'\\n  ELSE 'Avoid at All Costs'\\n END\\nFROM movies;\\n\""
      ]
     },
     "execution_count": 35,
     "metadata": {},
     "output_type": "execute_result"
    }
   ],
   "source": [
    "'''\n",
    "SELECT name,\n",
    " CASE\n",
    "  WHEN imdb_rating > 8 THEN 'Fantastic'\n",
    "  WHEN imdb_rating > 6 THEN 'Poorly Received'\n",
    "  ELSE 'Avoid at All Costs'\n",
    " END\n",
    "FROM movies;\n",
    "'''"
   ]
  },
  {
   "cell_type": "markdown",
   "metadata": {},
   "source": [
    "    Each WHEN tests a condition and the following THEN gives us the string if the condition is true.\n",
    "    The ELSE gives us the string if all the above conditions are false.\n",
    "    The CASE statement must end with END.\n",
    "In the result, you have to scroll right because the column name is very long. To shorten it, we can rename the column to 'Review' using AS:"
   ]
  },
  {
   "cell_type": "code",
   "execution_count": 36,
   "metadata": {},
   "outputs": [
    {
     "data": {
      "text/plain": [
       "\"\\nSELECT name,\\n CASE\\n  WHEN imdb_rating > 8 THEN 'Fantastic'\\n  WHEN imdb_rating > 6 THEN 'Poorly Received'\\n  ELSE 'Avoid at All Costs'\\n END AS 'Review'\\nFROM movies;\\n\""
      ]
     },
     "execution_count": 36,
     "metadata": {},
     "output_type": "execute_result"
    }
   ],
   "source": [
    "'''\n",
    "SELECT name,\n",
    " CASE\n",
    "  WHEN imdb_rating > 8 THEN 'Fantastic'\n",
    "  WHEN imdb_rating > 6 THEN 'Poorly Received'\n",
    "  ELSE 'Avoid at All Costs'\n",
    " END AS 'Review'\n",
    "FROM movies;\n",
    "'''"
   ]
  },
  {
   "cell_type": "markdown",
   "metadata": {},
   "source": [
    "Select the name column and use a CASE statement to create the second column that is:\n",
    "\n",
    "    'Chill' if genre = 'romance'\n",
    "    'Chill' if genre = 'comedy'\n",
    "    'Intense' in all other cases\n",
    "Optional: Rename the whole CASE statement to 'Mood' using AS."
   ]
  },
  {
   "cell_type": "code",
   "execution_count": 37,
   "metadata": {},
   "outputs": [
    {
     "data": {
      "text/plain": [
       "\"\\nSELECT name,\\n    CASE\\n        WHEN genre = 'romance' THEN 'Chill'\\n        WHEN genre = 'comedy' THEN 'Chill'\\n        ELSE 'Intense'\\n    END AS 'Mood'\\nFROM movies;\\n\""
      ]
     },
     "execution_count": 37,
     "metadata": {},
     "output_type": "execute_result"
    }
   ],
   "source": [
    "'''\n",
    "SELECT name,\n",
    "    CASE\n",
    "        WHEN genre = 'romance' THEN 'Chill'\n",
    "        WHEN genre = 'comedy' THEN 'Chill'\n",
    "        ELSE 'Intense'\n",
    "    END AS 'Mood'\n",
    "FROM movies;\n",
    "'''"
   ]
  },
  {
   "cell_type": "markdown",
   "metadata": {},
   "source": [
    "### Review\n",
    "Congratulations!\n",
    "\n",
    "We just learned how to query data from a database using SQL. We also learned how to filter queries to make the information more specific and useful.\n",
    "\n",
    "Let's summarize:\n",
    "\n",
    "    SELECT is the clause we use every time we want to query information from a database.\n",
    "    AS renames a column or table.\n",
    "    DISTINCT return unique values.\n",
    "    WHERE is a popular command that lets you filter the results of the query based on conditions that you specify.\n",
    "    LIKE and BETWEEN are special operators.\n",
    "    AND and OR combines multiple conditions.\n",
    "    ORDER BY sorts the result.\n",
    "    LIMIT specifies the maximum number of rows that the query will return.\n",
    "    CASE creates different outputs."
   ]
  },
  {
   "cell_type": "code",
   "execution_count": null,
   "metadata": {},
   "outputs": [],
   "source": []
  }
 ],
 "metadata": {
  "kernelspec": {
   "display_name": "Python 3",
   "language": "python",
   "name": "python3"
  },
  "language_info": {
   "codemirror_mode": {
    "name": "ipython",
    "version": 3
   },
   "file_extension": ".py",
   "mimetype": "text/x-python",
   "name": "python",
   "nbconvert_exporter": "python",
   "pygments_lexer": "ipython3",
   "version": "3.6.3"
  }
 },
 "nbformat": 4,
 "nbformat_minor": 2
}
