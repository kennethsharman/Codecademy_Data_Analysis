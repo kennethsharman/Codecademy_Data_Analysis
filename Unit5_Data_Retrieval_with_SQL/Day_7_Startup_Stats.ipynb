{
 "cells": [
  {
   "cell_type": "markdown",
   "metadata": {},
   "source": [
    "### Trends in Startups\n",
    "In this project, you will calculate quantities like sums and averages over multiple columns.\n",
    "\n",
    "Suppose you are writing an article for TechCrunch about trends in the startup world. Write queries with aggregate functions to retrieve information from the startups table.\n",
    "\n",
    "Getting started, take a look at the startups table.\n",
    "\n",
    "What are the column names?"
   ]
  },
  {
   "cell_type": "code",
   "execution_count": 3,
   "metadata": {},
   "outputs": [],
   "source": [
    "# SELECT * FROM startups;\n",
    "# 10 columns"
   ]
  },
  {
   "cell_type": "markdown",
   "metadata": {},
   "source": [
    "Calculate the total number of companies in the table."
   ]
  },
  {
   "cell_type": "code",
   "execution_count": 4,
   "metadata": {},
   "outputs": [],
   "source": [
    "# SELECT COUNT(*) FROM startups;\n",
    "# 70 compoanies"
   ]
  },
  {
   "cell_type": "markdown",
   "metadata": {},
   "source": [
    "We want to know the total value of all companies in this table.\n",
    "\n",
    "Calculate this by getting the SUM of the valuation column."
   ]
  },
  {
   "cell_type": "code",
   "execution_count": 5,
   "metadata": {},
   "outputs": [],
   "source": [
    "# SELECT SUM(valuation) FROM startups;\n",
    "# 974455790000"
   ]
  },
  {
   "cell_type": "markdown",
   "metadata": {},
   "source": [
    "How much money is available for new startups?\n",
    "\n",
    "Return the maximum amount of money raised."
   ]
  },
  {
   "cell_type": "code",
   "execution_count": 6,
   "metadata": {},
   "outputs": [],
   "source": [
    "# SELECT SUM(raised) FROM startups;\n",
    "# 21238500003"
   ]
  },
  {
   "cell_type": "markdown",
   "metadata": {},
   "source": [
    "Edit the query so that it returns the maximum amount of money raised, during 'Seed' stage."
   ]
  },
  {
   "cell_type": "code",
   "execution_count": 7,
   "metadata": {},
   "outputs": [],
   "source": [
    "# SELECT SUM(raised) FROM startups WHERE stage = 'Seed';\n",
    "# 10220003"
   ]
  },
  {
   "cell_type": "markdown",
   "metadata": {},
   "source": [
    "What year is the oldest company on the list founded on?"
   ]
  },
  {
   "cell_type": "code",
   "execution_count": 8,
   "metadata": {},
   "outputs": [],
   "source": [
    "# SELECT MIN(founded) from startups;\n",
    "# 1994"
   ]
  },
  {
   "cell_type": "markdown",
   "metadata": {},
   "source": [
    "Return the average valuation."
   ]
  },
  {
   "cell_type": "code",
   "execution_count": 9,
   "metadata": {},
   "outputs": [],
   "source": [
    "# SELECT AVG(valuation) from startups;\n",
    "# 15974685081.9672"
   ]
  },
  {
   "cell_type": "markdown",
   "metadata": {},
   "source": [
    "Return the average valuation, in each category."
   ]
  },
  {
   "cell_type": "code",
   "execution_count": 10,
   "metadata": {},
   "outputs": [],
   "source": [
    "# SELECT category, AVG(valuation) FROM startups GROUP BY category;"
   ]
  },
  {
   "cell_type": "markdown",
   "metadata": {},
   "source": [
    "Return the average valuation, in each category.\n",
    "\n",
    "Round the averages to two decimal places."
   ]
  },
  {
   "cell_type": "code",
   "execution_count": 11,
   "metadata": {},
   "outputs": [],
   "source": [
    "# SELECT category, ROUND(AVG(valuation) FROM startups GROUP BY category;"
   ]
  },
  {
   "cell_type": "markdown",
   "metadata": {},
   "source": [
    "Return the average valuation, in each category.\n",
    "\n",
    "Round the averages to two decimal places.\n",
    "\n",
    "Lastly, order the list from highest averages to lowest."
   ]
  },
  {
   "cell_type": "code",
   "execution_count": 12,
   "metadata": {},
   "outputs": [],
   "source": [
    "# SELECT category, ROUND(AVG(valuation) FROM startups GROUP BY 1 ORDER BY 2 DESC;"
   ]
  },
  {
   "cell_type": "markdown",
   "metadata": {},
   "source": [
    "First, return the name of each category with the total number of companies that belong to it."
   ]
  },
  {
   "cell_type": "code",
   "execution_count": 13,
   "metadata": {},
   "outputs": [],
   "source": [
    "# SELECT category, COUNT(*) FROM startups GROUP BY 1;"
   ]
  },
  {
   "cell_type": "markdown",
   "metadata": {},
   "source": [
    "Next, filter the result only include categories with more than three companies.\n",
    "\n",
    "What are the three most competitive markets?"
   ]
  },
  {
   "cell_type": "code",
   "execution_count": 14,
   "metadata": {},
   "outputs": [
    {
     "data": {
      "text/plain": [
       "'\\nSELECT category, COUNT(*) \\nFROM startups \\nGROUP BY 1 \\nHAVING COUNT(*) > 3\\nORDER BY 2 DESC;\\n'"
      ]
     },
     "execution_count": 14,
     "metadata": {},
     "output_type": "execute_result"
    }
   ],
   "source": [
    "'''\n",
    "SELECT category, COUNT(*) \n",
    "FROM startups \n",
    "GROUP BY 1 \n",
    "HAVING COUNT(*) > 3\n",
    "ORDER BY 2 DESC;\n",
    "'''"
   ]
  },
  {
   "cell_type": "markdown",
   "metadata": {},
   "source": [
    "What is the average size of a startup in each location?"
   ]
  },
  {
   "cell_type": "code",
   "execution_count": 16,
   "metadata": {},
   "outputs": [
    {
     "data": {
      "text/plain": [
       "'\\nSELECT location, AVG(employees)\\nFROM startups\\nGROUP BY location;\\n'"
      ]
     },
     "execution_count": 16,
     "metadata": {},
     "output_type": "execute_result"
    }
   ],
   "source": [
    "'''\n",
    "SELECT location, AVG(employees)\n",
    "FROM startups\n",
    "GROUP BY location;\n",
    "'''"
   ]
  },
  {
   "cell_type": "markdown",
   "metadata": {},
   "source": [
    "What is the average size of a startup in each location, with average sizes above 500?"
   ]
  },
  {
   "cell_type": "code",
   "execution_count": 17,
   "metadata": {},
   "outputs": [
    {
     "data": {
      "text/plain": [
       "'\\nSELECT location, AVG(employees)\\nFROM startups\\nGROUP BY location\\nHAVING AVG(employees) > 500;\\n'"
      ]
     },
     "execution_count": 17,
     "metadata": {},
     "output_type": "execute_result"
    }
   ],
   "source": [
    "'''\n",
    "SELECT location, AVG(employees)\n",
    "FROM startups\n",
    "GROUP BY location\n",
    "HAVING AVG(employees) > 500;\n",
    "'''"
   ]
  },
  {
   "cell_type": "code",
   "execution_count": null,
   "metadata": {},
   "outputs": [],
   "source": []
  }
 ],
 "metadata": {
  "kernelspec": {
   "display_name": "Python 3",
   "language": "python",
   "name": "python3"
  },
  "language_info": {
   "codemirror_mode": {
    "name": "ipython",
    "version": 3
   },
   "file_extension": ".py",
   "mimetype": "text/x-python",
   "name": "python",
   "nbconvert_exporter": "python",
   "pygments_lexer": "ipython3",
   "version": "3.6.3"
  }
 },
 "nbformat": 4,
 "nbformat_minor": 2
}
