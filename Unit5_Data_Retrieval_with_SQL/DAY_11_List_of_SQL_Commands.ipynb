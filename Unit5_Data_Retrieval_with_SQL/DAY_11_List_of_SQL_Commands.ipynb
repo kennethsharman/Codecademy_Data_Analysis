{
 "cells": [
  {
   "cell_type": "markdown",
   "metadata": {},
   "source": [
    "# List of SQL Commands"
   ]
  },
  {
   "cell_type": "markdown",
   "metadata": {},
   "source": [
    "### ALTER TABLE \n",
    "\n",
    "ALTER TABLE lets you add columns to a table in a database."
   ]
  },
  {
   "cell_type": "code",
   "execution_count": null,
   "metadata": {},
   "outputs": [],
   "source": [
    "'''\n",
    "ALTER TABLE table_name \n",
    "ADD column_name datatype;\n",
    "'''"
   ]
  },
  {
   "cell_type": "markdown",
   "metadata": {},
   "source": [
    "# AND\n",
    "\n",
    "AND is an operator that combines two conditions. Both conditions must be true for the row to be included in the result set."
   ]
  },
  {
   "cell_type": "code",
   "execution_count": null,
   "metadata": {},
   "outputs": [],
   "source": [
    "'''\n",
    "SELECT column_name(s)\n",
    "FROM table_name\n",
    "WHERE column_1 = value_1\n",
    "  AND column_2 = value_2;\n",
    "'''"
   ]
  },
  {
   "cell_type": "markdown",
   "metadata": {},
   "source": [
    "# AS\n",
    "\n",
    "AS is a keyword in SQL that allows you to rename a column or table using an alias."
   ]
  },
  {
   "cell_type": "code",
   "execution_count": null,
   "metadata": {},
   "outputs": [],
   "source": [
    "'''\n",
    "SELECT column_name AS 'Alias'\n",
    "FROM table_name;\n",
    "'''"
   ]
  },
  {
   "cell_type": "markdown",
   "metadata": {},
   "source": [
    "# AVG()\n",
    "\n",
    "AVG() is an aggregate function that returns the average value for a numeric column."
   ]
  },
  {
   "cell_type": "code",
   "execution_count": null,
   "metadata": {},
   "outputs": [],
   "source": [
    "'''\n",
    "SELECT AVG(column_name)\n",
    "FROM table_name;\n",
    "'''"
   ]
  },
  {
   "cell_type": "markdown",
   "metadata": {},
   "source": [
    "# BETWEEN\n",
    "\n",
    "The BETWEEN operator is used to filter the result set within a certain range. The values can be numbers, text or dates."
   ]
  },
  {
   "cell_type": "code",
   "execution_count": null,
   "metadata": {},
   "outputs": [],
   "source": [
    "'''\n",
    "SELECT column_name(s)\n",
    "FROM table_name\n",
    "WHERE column_name BETWEEN value_1 AND value_2;\n",
    "'''"
   ]
  },
  {
   "cell_type": "markdown",
   "metadata": {},
   "source": [
    "# CASE\n",
    "\n",
    "CASE statements are used to create different outputs (usually in the SELECT statement). It is SQL's way of handling if-then logic."
   ]
  },
  {
   "cell_type": "code",
   "execution_count": null,
   "metadata": {},
   "outputs": [],
   "source": [
    "'''\n",
    "SELECT column_name,\n",
    "  CASE\n",
    "    WHEN condition THEN 'Result_1'\n",
    "    WHEN condition THEN 'Result_2'\n",
    "    ELSE 'Result_3'\n",
    "  END\n",
    "FROM table_name;\n",
    "'''"
   ]
  },
  {
   "cell_type": "markdown",
   "metadata": {},
   "source": [
    "# COUNT()\n",
    "\n",
    "COUNT() is a function that takes the name of a column as an argument and counts the number of rows where the column is not NULL."
   ]
  },
  {
   "cell_type": "code",
   "execution_count": null,
   "metadata": {},
   "outputs": [],
   "source": [
    "'''\n",
    "SELECT COUNT(column_name)\n",
    "FROM table_name;\n",
    "'''"
   ]
  },
  {
   "cell_type": "markdown",
   "metadata": {},
   "source": [
    "# CREATE TABLE\n",
    "\n",
    "CREATE TABLE creates a new table in the database. It allows you to specify the name of the table and the name of each column in the table."
   ]
  },
  {
   "cell_type": "code",
   "execution_count": null,
   "metadata": {},
   "outputs": [],
   "source": [
    "'''\n",
    "CREATE TABLE table_name (\n",
    "  column_1 datatype, \n",
    "  column_2 datatype, \n",
    "  column_3 datatype\n",
    ");\n",
    "'''"
   ]
  },
  {
   "cell_type": "markdown",
   "metadata": {},
   "source": [
    "# DELETE\n",
    "\n",
    "DELETE statements are used to remove rows from a table."
   ]
  },
  {
   "cell_type": "code",
   "execution_count": null,
   "metadata": {},
   "outputs": [],
   "source": [
    "'''\n",
    "DELETE FROM table_name\n",
    "WHERE some_column = some_value;\n",
    "'''"
   ]
  },
  {
   "cell_type": "markdown",
   "metadata": {},
   "source": [
    "# GROUP BY\n",
    "\n",
    "GROUP BY is a clause in SQL that is only used with aggregate functions. It is used in collaboration with the SELECT statement to arrange identical data into groups."
   ]
  },
  {
   "cell_type": "code",
   "execution_count": null,
   "metadata": {},
   "outputs": [],
   "source": [
    "'''\n",
    "SELECT column_name, COUNT(*)\n",
    "FROM table_name\n",
    "GROUP BY column_name;\n",
    "'''"
   ]
  },
  {
   "cell_type": "markdown",
   "metadata": {},
   "source": [
    "# HAVING\n",
    "\n",
    "HAVING was added to SQL because the WHERE keyword could not be used with aggregate functions."
   ]
  },
  {
   "cell_type": "code",
   "execution_count": null,
   "metadata": {},
   "outputs": [],
   "source": [
    "'''\n",
    "SELECT column_name, COUNT(*)\n",
    "FROM table_name\n",
    "GROUP BY column_name\n",
    "HAVING COUNT(*) > value;\n",
    "'''"
   ]
  },
  {
   "cell_type": "markdown",
   "metadata": {},
   "source": [
    "# INNER JOIN\n",
    "\n",
    "An inner join will combine rows from different tables if the join condition is true."
   ]
  },
  {
   "cell_type": "code",
   "execution_count": null,
   "metadata": {},
   "outputs": [],
   "source": [
    "'''\n",
    "SELECT column_name(s)\n",
    "FROM table_1\n",
    "JOIN table_2\n",
    "  ON table_1.column_name = table_2.column_name;\n",
    "'''"
   ]
  },
  {
   "cell_type": "markdown",
   "metadata": {},
   "source": [
    "# INSERT\n",
    "\n",
    "INSERT statements are used to add a new row to a table."
   ]
  },
  {
   "cell_type": "code",
   "execution_count": null,
   "metadata": {},
   "outputs": [],
   "source": [
    "'''\n",
    "INSERT INTO table_name (column_1, column_2, column_3) \n",
    "VALUES (value_1, 'value_2', value_3);\n",
    "'''"
   ]
  },
  {
   "cell_type": "markdown",
   "metadata": {},
   "source": [
    "# IS NULL / IS NOT NULL\n",
    "\n",
    "IS NULL and IS NOT NULL are operators used with the WHERE clause to test for empty values."
   ]
  },
  {
   "cell_type": "code",
   "execution_count": null,
   "metadata": {},
   "outputs": [],
   "source": [
    "'''\n",
    "SELECT column_name(s)\n",
    "FROM table_name\n",
    "WHERE column_name IS NULL;\n",
    "'''"
   ]
  },
  {
   "cell_type": "markdown",
   "metadata": {},
   "source": [
    "# LIKE\n",
    "\n",
    "LIKE is a special operator used with the WHERE clause to search for a specific pattern in a column."
   ]
  },
  {
   "cell_type": "code",
   "execution_count": null,
   "metadata": {},
   "outputs": [],
   "source": [
    "'''\n",
    "SELECT column_name(s)\n",
    "FROM table_name\n",
    "WHERE column_name LIKE pattern;\n",
    "'''"
   ]
  },
  {
   "cell_type": "markdown",
   "metadata": {},
   "source": [
    "# LIMIT\n",
    "\n",
    "LIMIT is a clause that lets you specify the maximum number of rows the result set will have."
   ]
  },
  {
   "cell_type": "code",
   "execution_count": null,
   "metadata": {},
   "outputs": [],
   "source": [
    "'''\n",
    "SELECT column_name(s)\n",
    "FROM table_name\n",
    "LIMIT number;\n",
    "'''"
   ]
  },
  {
   "cell_type": "markdown",
   "metadata": {},
   "source": [
    "# MAX()\n",
    "\n",
    "MAX() is a function that takes the name of a column as an argument and returns the largest value in that column."
   ]
  },
  {
   "cell_type": "code",
   "execution_count": null,
   "metadata": {},
   "outputs": [],
   "source": [
    "'''\n",
    "SELECT MAX(column_name)\n",
    "FROM table_name;\n",
    "'''"
   ]
  },
  {
   "cell_type": "markdown",
   "metadata": {},
   "source": [
    "# MIN()\n",
    "\n",
    "MIN() is a function that takes the name of a column as an argument and returns the smallest value in that column."
   ]
  },
  {
   "cell_type": "code",
   "execution_count": null,
   "metadata": {},
   "outputs": [],
   "source": [
    "'''\n",
    "SELECT MIN(column_name)\n",
    "FROM table_name;\n",
    "'''"
   ]
  },
  {
   "cell_type": "markdown",
   "metadata": {},
   "source": [
    "# OR\n",
    "\n",
    "OR is an operator that filters the result set to only include rows where either condition is true."
   ]
  },
  {
   "cell_type": "code",
   "execution_count": null,
   "metadata": {},
   "outputs": [],
   "source": [
    "'''\n",
    "SELECT column_name\n",
    "FROM table_name\n",
    "WHERE column_name = value_1\n",
    "   OR column_name = value_2;\n",
    "'''"
   ]
  },
  {
   "cell_type": "markdown",
   "metadata": {},
   "source": [
    "# ORDER BY\n",
    "\n",
    "ORDER BY is a clause that indicates you want to sort the result set by a particular column either alphabetically or numerically."
   ]
  },
  {
   "cell_type": "code",
   "execution_count": null,
   "metadata": {},
   "outputs": [],
   "source": [
    "'''\n",
    "SELECT column_name\n",
    "FROM table_name\n",
    "ORDER BY column_name ASC | DESC;\n",
    "'''"
   ]
  },
  {
   "cell_type": "markdown",
   "metadata": {},
   "source": [
    "# OUTER JOIN\n",
    "\n",
    "An outer join will combine rows from different tables even if the join condition is not met. Every row in the left table is returned in the result set, and if the join condition is not met, then NULL values are used to fill in the columns from the right table."
   ]
  },
  {
   "cell_type": "code",
   "execution_count": null,
   "metadata": {},
   "outputs": [],
   "source": [
    "'''\n",
    "SELECT column_name(s)\n",
    "FROM table_1\n",
    "LEFT JOIN table_2\n",
    "  ON table_1.column_name = table_2.column_name;\n",
    "'''"
   ]
  },
  {
   "cell_type": "markdown",
   "metadata": {},
   "source": [
    "# ROUND()\n",
    "\n",
    "ROUND() is a function that takes a column name and an integer as an argument. It rounds the values in the column to the number of decimal places specified by the integer."
   ]
  },
  {
   "cell_type": "code",
   "execution_count": null,
   "metadata": {},
   "outputs": [],
   "source": [
    "'''\n",
    "SELECT ROUND(column_name, integer)\n",
    "FROM table_name;\n",
    "'''"
   ]
  },
  {
   "cell_type": "markdown",
   "metadata": {},
   "source": [
    "# SELECT\n",
    "\n",
    "SELECT statements are used to fetch data from a database. Every query will begin with SELECT."
   ]
  },
  {
   "cell_type": "code",
   "execution_count": null,
   "metadata": {},
   "outputs": [],
   "source": [
    "'''\n",
    "SELECT column_name \n",
    "FROM table_name;\n",
    "'''"
   ]
  },
  {
   "cell_type": "markdown",
   "metadata": {},
   "source": [
    "# SELECT DISTINCT\n",
    "\n",
    "SELECT DISTINCT specifies that the statement is going to be a query that returns unique values in the specified column(s)."
   ]
  },
  {
   "cell_type": "code",
   "execution_count": null,
   "metadata": {},
   "outputs": [],
   "source": [
    "'''\n",
    "SELECT DISTINCT column_name\n",
    "FROM table_name;\n",
    "'''"
   ]
  },
  {
   "cell_type": "markdown",
   "metadata": {},
   "source": [
    "# SUM\n",
    "\n",
    "SUM() is a function that takes the name of a column as an argument and returns the sum of all the values in that column."
   ]
  },
  {
   "cell_type": "code",
   "execution_count": null,
   "metadata": {},
   "outputs": [],
   "source": [
    "'''\n",
    "SELECT SUM(column_name)\n",
    "FROM table_name;\n",
    "'''"
   ]
  },
  {
   "cell_type": "markdown",
   "metadata": {},
   "source": [
    "# UPDATE\n",
    "\n",
    "UPDATE statements allow you to edit rows in a table."
   ]
  },
  {
   "cell_type": "code",
   "execution_count": null,
   "metadata": {},
   "outputs": [],
   "source": [
    "'''\n",
    "UPDATE table_name\n",
    "SET some_column = some_value\n",
    "WHERE some_column = some_value;\n",
    "'''"
   ]
  },
  {
   "cell_type": "markdown",
   "metadata": {},
   "source": [
    "# WHERE\n",
    "\n",
    "WHERE is a clause that indicates you want to filter the result set to include only rows where the following condition is true."
   ]
  },
  {
   "cell_type": "code",
   "execution_count": null,
   "metadata": {},
   "outputs": [],
   "source": [
    "'''\n",
    "SELECT column_name(s)\n",
    "FROM table_name\n",
    "WHERE column_name operator value;\n",
    "'''"
   ]
  },
  {
   "cell_type": "code",
   "execution_count": null,
   "metadata": {},
   "outputs": [],
   "source": []
  }
 ],
 "metadata": {
  "kernelspec": {
   "display_name": "Python 3",
   "language": "python",
   "name": "python3"
  },
  "language_info": {
   "codemirror_mode": {
    "name": "ipython",
    "version": 3
   },
   "file_extension": ".py",
   "mimetype": "text/x-python",
   "name": "python",
   "nbconvert_exporter": "python",
   "pygments_lexer": "ipython3",
   "version": "3.6.3"
  }
 },
 "nbformat": 4,
 "nbformat_minor": 2
}
