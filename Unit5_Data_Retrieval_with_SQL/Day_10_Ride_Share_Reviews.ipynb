{
 "cells": [
  {
   "cell_type": "markdown",
   "metadata": {},
   "source": [
    "### Multiple Tables with REBU\n",
    "Let's practice what we learned about joins by combining rows from different tables.\n",
    "\n",
    "Suppose you are a data analyst at REBU, a ridesharing platform. For a project, you were given three tables:\n",
    "\n",
    "trips - trips information\n",
    "riders - users data\n",
    "cars - autonomous cars\n",
    "\n",
    "Let's examine the three tables."
   ]
  },
  {
   "cell_type": "code",
   "execution_count": 1,
   "metadata": {},
   "outputs": [
    {
     "data": {
      "text/plain": [
       "'\\nSELECT * FROM trips;\\nSELECT * FROM riders;\\nSELECT * FROM cars;\\n'"
      ]
     },
     "execution_count": 1,
     "metadata": {},
     "output_type": "execute_result"
    }
   ],
   "source": [
    "'''\n",
    "SELECT * FROM trips;\n",
    "SELECT * FROM riders;\n",
    "SELECT * FROM cars;\n",
    "'''"
   ]
  },
  {
   "cell_type": "markdown",
   "metadata": {},
   "source": [
    "What's the primary key of trips?\n",
    "\n",
    "What's the primary key of riders?\n",
    "\n",
    "What's the primary key of cars?"
   ]
  },
  {
   "cell_type": "code",
   "execution_count": 2,
   "metadata": {},
   "outputs": [],
   "source": [
    "# id for all"
   ]
  },
  {
   "cell_type": "markdown",
   "metadata": {},
   "source": [
    "Try out a simple cross join between riders and cars."
   ]
  },
  {
   "cell_type": "code",
   "execution_count": 3,
   "metadata": {},
   "outputs": [],
   "source": [
    "# SELECT riders.first, riders.last, cars.model FROM riders, cars;"
   ]
  },
  {
   "cell_type": "markdown",
   "metadata": {},
   "source": [
    "Suppose we want to create a Trip Log with the trips and its users.\n",
    "\n",
    "Find the columns to join between trips and riders and combine the two tables using a LEFT JOIN.\n",
    "\n",
    "Let trips be the left table."
   ]
  },
  {
   "cell_type": "code",
   "execution_count": 5,
   "metadata": {},
   "outputs": [],
   "source": [
    "# SELECT * FROM trips LEFT JOIN riders on trips.rider_id = riders.id;"
   ]
  },
  {
   "cell_type": "markdown",
   "metadata": {},
   "source": [
    "Suppose we want to create a link between the trips and the cars used during those trips.\n",
    "\n",
    "Find the columns to join on and combine the trips and cars table using an INNER JOIN."
   ]
  },
  {
   "cell_type": "code",
   "execution_count": 6,
   "metadata": {},
   "outputs": [],
   "source": [
    "# SELECT * FROM trips JOIN cars on trips.car_id = cars.id;"
   ]
  },
  {
   "cell_type": "markdown",
   "metadata": {},
   "source": [
    "The new riders data are in! There are three new users this month.\n",
    "\n",
    "Stack the riders table on top of the new table named riders2."
   ]
  },
  {
   "cell_type": "code",
   "execution_count": 7,
   "metadata": {},
   "outputs": [],
   "source": [
    "# SELECT * FROM riders UNION SELECT * FROM riders2; "
   ]
  },
  {
   "cell_type": "markdown",
   "metadata": {},
   "source": [
    "What is the average cost for a trip?"
   ]
  },
  {
   "cell_type": "code",
   "execution_count": 8,
   "metadata": {},
   "outputs": [],
   "source": [
    "# SELECT ROUND(AVG(cost), 2) FROM trips;"
   ]
  },
  {
   "cell_type": "markdown",
   "metadata": {},
   "source": [
    "REBU is looking to do an email campaign for all the irregular users.\n",
    "\n",
    "Find all the riders who have used REBU less than 500 times!"
   ]
  },
  {
   "cell_type": "code",
   "execution_count": 9,
   "metadata": {},
   "outputs": [],
   "source": [
    "# SELECT * FROM riders WHERE total_trips < 500;"
   ]
  },
  {
   "cell_type": "markdown",
   "metadata": {},
   "source": [
    "If we want to search in both riders and riders2, then we might have to do something like this:"
   ]
  },
  {
   "cell_type": "code",
   "execution_count": 10,
   "metadata": {},
   "outputs": [
    {
     "data": {
      "text/plain": [
       "'\\nSELECT *\\nFROM riders\\nWHERE total_trips < 500\\nUNION\\nSELECT *\\nFROM riders2\\nWHERE total_trips < 500;\\n'"
      ]
     },
     "execution_count": 10,
     "metadata": {},
     "output_type": "execute_result"
    }
   ],
   "source": [
    "'''\n",
    "SELECT *\n",
    "FROM riders\n",
    "WHERE total_trips < 500\n",
    "UNION\n",
    "SELECT *\n",
    "FROM riders2\n",
    "WHERE total_trips < 500;\n",
    "'''"
   ]
  },
  {
   "cell_type": "markdown",
   "metadata": {},
   "source": [
    "Calculate the number of cars that are active."
   ]
  },
  {
   "cell_type": "code",
   "execution_count": 11,
   "metadata": {},
   "outputs": [],
   "source": [
    "# SELECT COUNT(*) from cars WHERE status='active';"
   ]
  },
  {
   "cell_type": "markdown",
   "metadata": {},
   "source": [
    "It's safety recall time for cars that have been on the road for a while.\n",
    "\n",
    "Write a query that finds the two cars that have the highest trips_completed."
   ]
  },
  {
   "cell_type": "code",
   "execution_count": 12,
   "metadata": {},
   "outputs": [],
   "source": [
    "# SELECT * FROM cars ORDER BY trips_completed DESC LIMIT 2;"
   ]
  },
  {
   "cell_type": "code",
   "execution_count": null,
   "metadata": {},
   "outputs": [],
   "source": []
  }
 ],
 "metadata": {
  "kernelspec": {
   "display_name": "Python 3",
   "language": "python",
   "name": "python3"
  },
  "language_info": {
   "codemirror_mode": {
    "name": "ipython",
    "version": 3
   },
   "file_extension": ".py",
   "mimetype": "text/x-python",
   "name": "python",
   "nbconvert_exporter": "python",
   "pygments_lexer": "ipython3",
   "version": "3.6.3"
  }
 },
 "nbformat": 4,
 "nbformat_minor": 2
}
