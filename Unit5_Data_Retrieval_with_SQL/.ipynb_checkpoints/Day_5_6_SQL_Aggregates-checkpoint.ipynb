{
 "cells": [
  {
   "cell_type": "markdown",
   "metadata": {},
   "source": [
    "### Introduction\n",
    "We've learned how to write queries to retrieve information from the database. Now, we are going to learn how to perform calculations using SQL.\n",
    "\n",
    "Calculations performed on multiple rows of a table are called aggregates.\n",
    "\n",
    "In this lesson, we have given you a table named fake_apps which is made up of fake mobile applications data.\n",
    "\n",
    "Here is a quick preview of some important aggregates that we will cover in the next five exercises:\n",
    "\n",
    "COUNT(): count the number of rows\n",
    "SUM(): the sum of the values in a column\n",
    "MAX()/MIN(): the largest/smallest value\n",
    "AVG(): the average of the values in a column\n",
    "ROUND(): round the values in the column\n",
    "Let's get started!\n",
    "\n",
    "Before getting started, take a look at the data in the fake_apps table."
   ]
  },
  {
   "cell_type": "code",
   "execution_count": 1,
   "metadata": {},
   "outputs": [],
   "source": [
    "# SELECT * FROM fake_apps;"
   ]
  },
  {
   "cell_type": "markdown",
   "metadata": {},
   "source": [
    "### Count\n",
    "The fastest way to calculate how many rows are in a table is to use the COUNT() function.\n",
    "\n",
    "COUNT() is a function that takes the name of a column as an argument and counts the number of non-empty values in that column."
   ]
  },
  {
   "cell_type": "code",
   "execution_count": 2,
   "metadata": {},
   "outputs": [],
   "source": [
    "# SELECT COUNT(*) FROM table_name;"
   ]
  },
  {
   "cell_type": "markdown",
   "metadata": {},
   "source": [
    "Here, we want to count every row, so we pass * as an argument inside the parenthesis.\n",
    "\n",
    "Let's count how many apps are in the table."
   ]
  },
  {
   "cell_type": "code",
   "execution_count": 3,
   "metadata": {},
   "outputs": [],
   "source": [
    "# SELECT COUNT(*) FROM fake_apps;"
   ]
  },
  {
   "cell_type": "markdown",
   "metadata": {},
   "source": [
    "Add a WHERE clause in the previous query to count how many free apps are in the table."
   ]
  },
  {
   "cell_type": "code",
   "execution_count": 4,
   "metadata": {},
   "outputs": [],
   "source": [
    "# SELECT COUNT(*) FROM fake_apps WHERE price = 0.0;"
   ]
  },
  {
   "cell_type": "markdown",
   "metadata": {},
   "source": [
    "### Sum\n",
    "SQL makes it easy to add all values in a particular column using SUM().\n",
    "\n",
    "SUM() is a function that takes the name of a column as an argument and returns the sum of all the values in that column.\n",
    "\n",
    "What is the total number of downloads for all of the apps combined?"
   ]
  },
  {
   "cell_type": "code",
   "execution_count": 5,
   "metadata": {},
   "outputs": [],
   "source": [
    "# SELECT SUM(downloads) FROM fake_apps;"
   ]
  },
  {
   "cell_type": "markdown",
   "metadata": {},
   "source": [
    "Max / Min\n",
    "The MAX() and MIN() functions return the highest and lowest values in a column, respectively.\n",
    "\n",
    "How many downloads does the most popular app have?"
   ]
  },
  {
   "cell_type": "code",
   "execution_count": 6,
   "metadata": {},
   "outputs": [],
   "source": [
    "# SELECT MAX(downloads) FROM fake_apps;"
   ]
  },
  {
   "cell_type": "markdown",
   "metadata": {},
   "source": [
    "Write a new query that returns the price of the most expensive app."
   ]
  },
  {
   "cell_type": "code",
   "execution_count": 7,
   "metadata": {},
   "outputs": [],
   "source": [
    "# SELECT MAX(price) from fake_apps;"
   ]
  },
  {
   "cell_type": "markdown",
   "metadata": {},
   "source": [
    "### Average\n",
    "SQL uses the AVG() function to quickly calculate the average value of a particular column.\n",
    "\n",
    "Calculate the average number of downloads for all the apps in the table."
   ]
  },
  {
   "cell_type": "code",
   "execution_count": 8,
   "metadata": {},
   "outputs": [],
   "source": [
    "# SELECT AVG(downloads) FROM fake_apps;"
   ]
  },
  {
   "cell_type": "markdown",
   "metadata": {},
   "source": [
    "Write a new query that calculates the average price for all the apps in the table."
   ]
  },
  {
   "cell_type": "code",
   "execution_count": 9,
   "metadata": {},
   "outputs": [],
   "source": [
    "# SELECT AVG(price) FROM fake_apps;"
   ]
  },
  {
   "cell_type": "markdown",
   "metadata": {},
   "source": [
    "### Round\n",
    "By default, SQL tries to be as precise as possible without rounding. We can make the result table easier to read using the ROUND() function.\n",
    "\n",
    "ROUND() function takes two arguments inside the parenthesis:\n",
    "\n",
    "a column name\n",
    "an integer\n",
    "It rounds the values in the column to the number of decimal places specified by the integer.\n",
    "\n",
    "Let's return the name column and a rounded price column."
   ]
  },
  {
   "cell_type": "code",
   "execution_count": 10,
   "metadata": {},
   "outputs": [],
   "source": [
    "# SELECT name, ROUND(price, 0) FROM fake_apps;"
   ]
  },
  {
   "cell_type": "markdown",
   "metadata": {},
   "source": [
    "In the last exercise, we were able to get the average price of an app. Now, let's edit this query so that it rounds this result to 2 decimal places."
   ]
  },
  {
   "cell_type": "code",
   "execution_count": 11,
   "metadata": {},
   "outputs": [],
   "source": [
    "# SELECT ROUND(AVG(price), 2) from fake_apps;"
   ]
  },
  {
   "cell_type": "markdown",
   "metadata": {},
   "source": [
    "### Group By I\n",
    "Oftentimes, we will want to calculate an aggregate for data with certain characteristics.\n",
    "\n",
    "For instance, we might want to know the mean IMDb ratings for all movies each year. We could calculate each number by a series of queries with different WHERE statements, like so:"
   ]
  },
  {
   "cell_type": "code",
   "execution_count": 12,
   "metadata": {},
   "outputs": [
    {
     "data": {
      "text/plain": [
       "'\\nSELECT AVG(imdb_rating)\\nFROM movies\\nWHERE year = 1999;\\n\\nSELECT AVG(imdb_rating)\\nFROM movies\\nWHERE year = 2000;\\n\\nSELECT AVG(imdb_rating)\\nFROM movies\\nWHERE year = 2001;\\n'"
      ]
     },
     "execution_count": 12,
     "metadata": {},
     "output_type": "execute_result"
    }
   ],
   "source": [
    "'''\n",
    "SELECT AVG(imdb_rating)\n",
    "FROM movies\n",
    "WHERE year = 1999;\n",
    "\n",
    "SELECT AVG(imdb_rating)\n",
    "FROM movies\n",
    "WHERE year = 2000;\n",
    "\n",
    "SELECT AVG(imdb_rating)\n",
    "FROM movies\n",
    "WHERE year = 2001;\n",
    "'''"
   ]
  },
  {
   "cell_type": "markdown",
   "metadata": {},
   "source": [
    "and so on.\n",
    "\n",
    "Luckily, there's a better way!\n",
    "\n",
    "We can use GROUP BY to do this in a single step:"
   ]
  },
  {
   "cell_type": "code",
   "execution_count": 13,
   "metadata": {},
   "outputs": [
    {
     "data": {
      "text/plain": [
       "'\\nSELECT year,\\n   AVG(imdb_rating)\\nFROM movies\\nGROUP BY year\\nORDER BY year;\\n'"
      ]
     },
     "execution_count": 13,
     "metadata": {},
     "output_type": "execute_result"
    }
   ],
   "source": [
    "'''\n",
    "SELECT year,\n",
    "   AVG(imdb_rating)\n",
    "FROM movies\n",
    "GROUP BY year\n",
    "ORDER BY year;\n",
    "'''"
   ]
  },
  {
   "cell_type": "markdown",
   "metadata": {},
   "source": [
    "GROUP BY is a clause in SQL that is used with aggregate functions. It is used in collaboration with the SELECT statement to arrange identical data into groups.\n",
    "\n",
    "The GROUP BY statement comes after any WHERE statements, but before ORDER BY or LIMIT.\n",
    "\n",
    "Count the number of apps at each price"
   ]
  },
  {
   "cell_type": "code",
   "execution_count": 14,
   "metadata": {},
   "outputs": [],
   "source": [
    "# SELECT price, COUNT(*) FROM fake_apps GROUP BY price;"
   ]
  },
  {
   "cell_type": "markdown",
   "metadata": {},
   "source": [
    "In the previous query, add a WHERE clause to count the total number of apps that have been downloaded more than 20,000 times, at each price."
   ]
  },
  {
   "cell_type": "code",
   "execution_count": 15,
   "metadata": {},
   "outputs": [],
   "source": [
    "# SELECT price, COUNT(*) FROM fake_apps WHERE downloads > 20000 GROUP BY price;"
   ]
  },
  {
   "cell_type": "markdown",
   "metadata": {},
   "source": [
    "Write a new query that calculates the total number of downloads for each category.\n",
    "\n",
    "Select category and SUM(downloads)."
   ]
  },
  {
   "cell_type": "code",
   "execution_count": 16,
   "metadata": {},
   "outputs": [],
   "source": [
    "# SELECT category, SUM(downloads) FROM fake_apps GROUP BY category;"
   ]
  },
  {
   "cell_type": "markdown",
   "metadata": {},
   "source": [
    "### Group By II\n",
    "Sometimes, we want to GROUP BY a calculation done on a column.\n",
    "\n",
    "For instance, we might want to know how many movies have IMDb ratings that round to 1, 2, 3, 4, 5. We could do this using the following syntax:"
   ]
  },
  {
   "cell_type": "code",
   "execution_count": 17,
   "metadata": {},
   "outputs": [
    {
     "data": {
      "text/plain": [
       "'\\nSELECT ROUND(imdb_rating),\\n   COUNT(name)\\nFROM movies\\nGROUP BY ROUND(imdb_rating)\\nORDER BY ROUND(imdb_rating);\\n'"
      ]
     },
     "execution_count": 17,
     "metadata": {},
     "output_type": "execute_result"
    }
   ],
   "source": [
    "'''\n",
    "SELECT ROUND(imdb_rating),\n",
    "   COUNT(name)\n",
    "FROM movies\n",
    "GROUP BY ROUND(imdb_rating)\n",
    "ORDER BY ROUND(imdb_rating);\n",
    "'''"
   ]
  },
  {
   "cell_type": "markdown",
   "metadata": {},
   "source": [
    "However, this query may be time-consuming to write and more prone to error.\n",
    "\n",
    "SQL lets us use column reference(s) in our GROUP BY that will make our lives easier.\n",
    "\n",
    "    1 is the first column selected\n",
    "    2 is the second column selected\n",
    "    3 is the third column selected\n",
    "and so on.\n",
    "\n",
    "The following query is equivalent to the one above:"
   ]
  },
  {
   "cell_type": "code",
   "execution_count": 18,
   "metadata": {},
   "outputs": [
    {
     "data": {
      "text/plain": [
       "'\\nSELECT ROUND(imdb_rating),\\n   COUNT(name)\\nFROM movies\\nGROUP BY 1\\nORDER BY 1;\\n'"
      ]
     },
     "execution_count": 18,
     "metadata": {},
     "output_type": "execute_result"
    }
   ],
   "source": [
    "'''\n",
    "SELECT ROUND(imdb_rating),\n",
    "   COUNT(name)\n",
    "FROM movies\n",
    "GROUP BY 1\n",
    "ORDER BY 1;\n",
    "'''"
   ]
  },
  {
   "cell_type": "markdown",
   "metadata": {},
   "source": [
    "SELECT category, price, AVG(downloads) FROM fake_apps GROUP BY category, price;\n",
    "\n",
    "Write the exact query, but use column reference numbers instead of column names after GROUP BY."
   ]
  },
  {
   "cell_type": "code",
   "execution_count": 19,
   "metadata": {},
   "outputs": [],
   "source": [
    "# SELECT category, price, AVG(downloads) FROM fake_apps GROUP BY 1, 2;"
   ]
  },
  {
   "cell_type": "markdown",
   "metadata": {},
   "source": [
    "### Having\n",
    "In addition to being able to group data using GROUP BY, SQL also allows you to filter which groups to include and which to exclude.\n",
    "\n",
    "For instance, imagine that we want to see how many movies of different genres were produced each year, but we only care about years and genres with at least 10 movies.\n",
    "\n",
    "We can't use WHERE here because we don't want to filter the rows; we want to filter groups.\n",
    "\n",
    "This is where HAVING comes in.\n",
    "\n",
    "HAVING is very similar to WHERE. In fact, all types of WHERE clauses you learned about thus far can be used with HAVING.\n",
    "\n",
    "We can use the following for the problem:"
   ]
  },
  {
   "cell_type": "code",
   "execution_count": 20,
   "metadata": {},
   "outputs": [
    {
     "data": {
      "text/plain": [
       "'\\nSELECT year,\\n   genre,\\n   COUNT(name)\\nFROM movies\\nGROUP BY 1, 2\\nHAVING COUNT(name) > 10;\\n'"
      ]
     },
     "execution_count": 20,
     "metadata": {},
     "output_type": "execute_result"
    }
   ],
   "source": [
    "'''\n",
    "SELECT year,\n",
    "   genre,\n",
    "   COUNT(name)\n",
    "FROM movies\n",
    "GROUP BY 1, 2\n",
    "HAVING COUNT(name) > 10;\n",
    "'''"
   ]
  },
  {
   "cell_type": "markdown",
   "metadata": {},
   "source": [
    "    When we want to limit the results of a query based on values of the individual rows, use WHERE.\n",
    "    When we want to limit the results of a query based on an aggregate property, use HAVING.\n",
    "HAVING statement always comes after GROUP BY, but before ORDER BY and LIMIT.\n",
    "\n",
    "Suppose we have the query below:\n",
    "\n",
    "SELECT price, ROUND(AVG(downloads)), COUNT(*) FROM fake_apps GROUP BY price;\n",
    "\n",
    "It returns the average downloads (rounded) and the number of apps – at each price point.\n",
    "\n",
    "However, certain price points don't have very many apps, so their average downloads are less meaningful.\n",
    "\n",
    "Add a HAVING clause to restrict the query to price points that have more than 10 apps."
   ]
  },
  {
   "cell_type": "code",
   "execution_count": 21,
   "metadata": {},
   "outputs": [
    {
     "data": {
      "text/plain": [
       "'\\nSELECT price, \\n   ROUND(AVG(downloads)),\\n   COUNT(*)\\nFROM fake_apps\\nGROUP BY price\\nHAVING COUNT(*) > 10;\\n'"
      ]
     },
     "execution_count": 21,
     "metadata": {},
     "output_type": "execute_result"
    }
   ],
   "source": [
    "'''\n",
    "SELECT price, \n",
    "   ROUND(AVG(downloads)),\n",
    "   COUNT(*)\n",
    "FROM fake_apps\n",
    "GROUP BY price\n",
    "HAVING COUNT(*) > 10;\n",
    "'''"
   ]
  },
  {
   "cell_type": "markdown",
   "metadata": {},
   "source": [
    "Review\n",
    "Congratulations!\n",
    "\n",
    "You just learned how to use aggregate functions to perform calculations on your data. What can we generalize so far?\n",
    "\n",
    "    COUNT(): count the number of rows\n",
    "    SUM(): the sum of the values in a column\n",
    "    MAX()/MIN(): the largest/smallest value\n",
    "    AVG(): the average of the values in a column\n",
    "    ROUND(): round the values in the column\n",
    "Aggregate functions combine multiple rows together to form a single value of more meaningful information.\n",
    "\n",
    "    GROUP BY is a clause used with aggregate functions to combine data from one or more columns.\n",
    "    HAVING limit the results of a query based on an aggregate property."
   ]
  },
  {
   "cell_type": "code",
   "execution_count": null,
   "metadata": {},
   "outputs": [],
   "source": []
  }
 ],
 "metadata": {
  "kernelspec": {
   "display_name": "Python 3",
   "language": "python",
   "name": "python3"
  },
  "language_info": {
   "codemirror_mode": {
    "name": "ipython",
    "version": 3
   },
   "file_extension": ".py",
   "mimetype": "text/x-python",
   "name": "python",
   "nbconvert_exporter": "python",
   "pygments_lexer": "ipython3",
   "version": "3.6.3"
  }
 },
 "nbformat": 4,
 "nbformat_minor": 2
}
