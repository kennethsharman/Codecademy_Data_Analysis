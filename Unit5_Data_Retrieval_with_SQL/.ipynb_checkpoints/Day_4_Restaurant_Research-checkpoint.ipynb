{
 "cells": [
  {
   "cell_type": "markdown",
   "metadata": {},
   "source": [
    "### Queries - Restaurants\n",
    "We have put together a table of restaurants called nomnom and we need your help to answer some questions. Use the SQL commands you just learned and find the best dinner spots in the city.\n",
    "\n",
    "Let's begin!\n",
    "\n",
    "\n",
    "Let's start by checking out the whole nomnom table.\n",
    "\n",
    "What are the column names?"
   ]
  },
  {
   "cell_type": "code",
   "execution_count": 1,
   "metadata": {},
   "outputs": [],
   "source": [
    "# SELECT * FROM nomnom;"
   ]
  },
  {
   "cell_type": "markdown",
   "metadata": {},
   "source": [
    "What are the distinct neighborhoods?"
   ]
  },
  {
   "cell_type": "code",
   "execution_count": 2,
   "metadata": {},
   "outputs": [],
   "source": [
    "# SELECT DISTINCT neighborhood from nomnom;"
   ]
  },
  {
   "cell_type": "markdown",
   "metadata": {},
   "source": [
    "What are the distinct cuisine types?"
   ]
  },
  {
   "cell_type": "code",
   "execution_count": 3,
   "metadata": {},
   "outputs": [],
   "source": [
    "# SELECT DISTINCT cuisine from nomnom;"
   ]
  },
  {
   "cell_type": "markdown",
   "metadata": {},
   "source": [
    "Suppose we would like some Chinese takeout. What are our options?"
   ]
  },
  {
   "cell_type": "code",
   "execution_count": 4,
   "metadata": {},
   "outputs": [],
   "source": [
    "# SELECT name FROM nomnom WHERE cuisine = 'Chinese';"
   ]
  },
  {
   "cell_type": "markdown",
   "metadata": {},
   "source": [
    "Return all the restaurants with reviews of 4 and above."
   ]
  },
  {
   "cell_type": "code",
   "execution_count": 6,
   "metadata": {},
   "outputs": [],
   "source": [
    "# SELECT name FROM nomnom WHERE review >= 4;"
   ]
  },
  {
   "cell_type": "markdown",
   "metadata": {},
   "source": [
    "Suppose Abbi and Ilana want to have a fancy dinner date.\n",
    "\n",
    "Return all the restaurants that are Italian and $$$."
   ]
  },
  {
   "cell_type": "code",
   "execution_count": 7,
   "metadata": {},
   "outputs": [],
   "source": [
    "# SELECT * FROM nomnom WHERE cuisine = 'Italian' AND price = '$$$';"
   ]
  },
  {
   "cell_type": "markdown",
   "metadata": {},
   "source": [
    "Your coworker Trey can't remember the exact name of a restaurant he went to but he knows it contains the word 'meatball' in it.\n",
    "\n",
    "Can you find it for him using a query?"
   ]
  },
  {
   "cell_type": "code",
   "execution_count": 8,
   "metadata": {},
   "outputs": [],
   "source": [
    "# SELECT name from nomnom WHERE name LIKE '%meatball%';"
   ]
  },
  {
   "cell_type": "markdown",
   "metadata": {},
   "source": [
    "Let's order delivery to the house!\n",
    "\n",
    "Find all the close by spots in Midtown, Downtown or Chinatown.\n",
    "\n",
    "(OR can be used more than once)"
   ]
  },
  {
   "cell_type": "code",
   "execution_count": 9,
   "metadata": {},
   "outputs": [],
   "source": [
    "# SELECT * FROM nomnom \n",
    "#     WHERE neighborhood='Midtown'\n",
    "#     OR neighborhood='Downtown'\n",
    "#     OR neighborhood='Chinatown';"
   ]
  },
  {
   "cell_type": "markdown",
   "metadata": {},
   "source": [
    "Find all the health grade pending restaurants (empty values)."
   ]
  },
  {
   "cell_type": "code",
   "execution_count": 10,
   "metadata": {},
   "outputs": [],
   "source": [
    "# SELECT * FROM nomnom WHERE health IS NULL;"
   ]
  },
  {
   "cell_type": "markdown",
   "metadata": {},
   "source": [
    "Create a Top 10 Restaurants Ranking based on reviews."
   ]
  },
  {
   "cell_type": "code",
   "execution_count": 11,
   "metadata": {},
   "outputs": [],
   "source": [
    "# SELECT name FROM nomnom ORDER BY review DESC LIMIT 10;"
   ]
  },
  {
   "cell_type": "markdown",
   "metadata": {},
   "source": [
    "Use a CASE statement to change the rating system to:\n",
    "\n",
    "    review > 4.5 is Extraordinary\n",
    "    review > 4 is Excellent\n",
    "    review > 3 is Good\n",
    "    review > 2 is Fair\n",
    "    Everything else is Poor\n",
    "Don't forget to rename the new column!"
   ]
  },
  {
   "cell_type": "code",
   "execution_count": 12,
   "metadata": {},
   "outputs": [
    {
     "data": {
      "text/plain": [
       "\"\\nSELECT name,\\n\\tCASE\\n  \\tWHEN review > 4.5 THEN 'Extraordinary'\\n    WHEN review > 4 THEN 'Excellent'\\n    WHEN review > 3 THEN 'Good'\\n    WHEN review > 2 THEN 'Fair'\\n    ELSE 'Poor'\\n  END AS 'Review'\\nFROM nomnom;\\n\""
      ]
     },
     "execution_count": 12,
     "metadata": {},
     "output_type": "execute_result"
    }
   ],
   "source": [
    "'''\n",
    "SELECT name,\n",
    "\tCASE\n",
    "  \tWHEN review > 4.5 THEN 'Extraordinary'\n",
    "    WHEN review > 4 THEN 'Excellent'\n",
    "    WHEN review > 3 THEN 'Good'\n",
    "    WHEN review > 2 THEN 'Fair'\n",
    "    ELSE 'Poor'\n",
    "  END AS 'Review'\n",
    "FROM nomnom;\n",
    "'''"
   ]
  },
  {
   "cell_type": "code",
   "execution_count": null,
   "metadata": {},
   "outputs": [],
   "source": []
  }
 ],
 "metadata": {
  "kernelspec": {
   "display_name": "Python 3",
   "language": "python",
   "name": "python3"
  },
  "language_info": {
   "codemirror_mode": {
    "name": "ipython",
    "version": 3
   },
   "file_extension": ".py",
   "mimetype": "text/x-python",
   "name": "python",
   "nbconvert_exporter": "python",
   "pygments_lexer": "ipython3",
   "version": "3.6.3"
  }
 },
 "nbformat": 4,
 "nbformat_minor": 2
}
