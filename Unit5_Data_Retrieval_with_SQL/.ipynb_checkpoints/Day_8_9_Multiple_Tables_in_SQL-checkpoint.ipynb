{
 "cells": [
  {
   "cell_type": "markdown",
   "metadata": {},
   "source": [
    "### Introduction\n",
    "In order to efficiently store data, we often spread related information across multiple tables.\n",
    "\n",
    "For instance, imagine that we're running a magazine company where users can have different types of subscriptions to different products. Different subscriptions might have many different properties. Each customer would also have lots of associated information.\n",
    "\n",
    "We could have one table with all of the following information:\n",
    "\n",
    "    order_id\n",
    "    customer_id\n",
    "    customer_name\n",
    "    customer_address\n",
    "    subscription_id\n",
    "    subscription_description\n",
    "    subscription_monthly_price\n",
    "    subscription_length\n",
    "    purchase_date\n",
    "However, a lot of this information would be repeated. If the same customer has multiple subscriptions, that customer's name and address will be reported multiple times. If the same subscription type is ordered by multiple customers, then the subscription price and subscription description will be repeated. This will make our table big and unmanageable.\n",
    "\n",
    "So instead, we can split our data into three tables:\n",
    "\n",
    "orders would contain just the information necessary to describe what was ordered:\n",
    "    order_id\n",
    "    customer_id\n",
    "    subscription_id\n",
    "    purchase_date\n",
    "subscriptions would contain the information to describe each type of subscription:\n",
    "    subscription_id\n",
    "    description\n",
    "    price_per_month\n",
    "    subscription_length\n",
    "customers would contain the information for each customer:\n",
    "    customer_id\n",
    "    customer_name\n",
    "    address\n",
    "In this lesson, we'll learn the SQL commands that will help us work with data that is stored in multiple tables."
   ]
  },
  {
   "cell_type": "code",
   "execution_count": 1,
   "metadata": {},
   "outputs": [],
   "source": [
    "# SELECT * FROM orders LIMIT 5;\n",
    "\n",
    "# SELECT * FROM subscriptions LIMIT 5;\n",
    "\n",
    "# SELECT * FROM customers LIMIT 5;"
   ]
  },
  {
   "cell_type": "markdown",
   "metadata": {},
   "source": [
    "### Combining Tables Manually\n",
    "Let's return to our magazine company. Suppose we have the three tables described in the previous exercise – shown in the browser on the right (we are going to try something new!):\n",
    "\n",
    "    orders\n",
    "    subscriptions\n",
    "    customers\n",
    "If we just look at the orders table, we can't really tell what's happened in each order. However, if we refer to the other tables, we can get a complete picture.\n",
    "\n",
    "Let's examine the order with an order_id of 2. It was purchased by the customer with a customer_id of 2.\n",
    "\n",
    "To find out the customer's name, we look at the customers table and look for the item with a customer_id value of 2. We can see that Customer 2's name is 'Jane Doe' and that she lives at '456 Park Ave'.\n",
    "\n",
    "Doing this kind of matching is called joining two tables.\n",
    "\n",
    "### Combining Tables with SQL\n",
    "Combining tables manually is time-consuming. Luckily, SQL gives us an easy sequence for this: it's called a JOIN.\n",
    "\n",
    "If we want to combine orders and customers, we would type:"
   ]
  },
  {
   "cell_type": "code",
   "execution_count": 1,
   "metadata": {},
   "outputs": [
    {
     "data": {
      "text/plain": [
       "'\\nSELECT *\\nFROM orders\\nJOIN customers\\n  ON orders.customer_id = customers.customer_id;\\n'"
      ]
     },
     "execution_count": 1,
     "metadata": {},
     "output_type": "execute_result"
    }
   ],
   "source": [
    "'''\n",
    "SELECT *\n",
    "FROM orders\n",
    "JOIN customers\n",
    "  ON orders.customer_id = customers.customer_id;\n",
    "'''"
   ]
  },
  {
   "cell_type": "markdown",
   "metadata": {},
   "source": [
    "Let's break down this command:\n",
    "\n",
    "    The first line selects all columns from our combined table. If we only want to select certain columns, we can specify which ones we want.\n",
    "    The second line specifies the first table that we want to look in, orders\n",
    "    The third line uses JOIN to say that we want to combine information from orders with customers.\n",
    "    The fourth line tells us how to combine the two tables. We want to match customer_id from orders with customer_id from customers.\n",
    "Because column names are often repeated across multiple tables, we use the syntax table_name.column_name to be sure that our requests for columns are unambiguous. In our example, we use this syntax in the ON statement, but we will also use it in the SELECT or any other statement where we refer to column names.\n",
    "\n",
    "For example, if we only wanted to select the order_id from orders and the customer_name from customers, we could use the following query:"
   ]
  },
  {
   "cell_type": "code",
   "execution_count": 2,
   "metadata": {},
   "outputs": [
    {
     "data": {
      "text/plain": [
       "'\\nSELECT orders.order_id,\\n   customers.customer_name\\nFROM orders\\nJOIN customers\\n  ON orders.customer_id = customers.customer_id;\\n'"
      ]
     },
     "execution_count": 2,
     "metadata": {},
     "output_type": "execute_result"
    }
   ],
   "source": [
    "'''\n",
    "SELECT orders.order_id,\n",
    "   customers.customer_name\n",
    "FROM orders\n",
    "JOIN customers\n",
    "  ON orders.customer_id = customers.customer_id;\n",
    "'''"
   ]
  },
  {
   "cell_type": "markdown",
   "metadata": {},
   "source": [
    "Join orders table and subscriptions table and select all columns.\n",
    "\n",
    "Make sure to join on subscription_id."
   ]
  },
  {
   "cell_type": "code",
   "execution_count": 3,
   "metadata": {},
   "outputs": [
    {
     "data": {
      "text/plain": [
       "'\\nSELECT *\\nFROM orders\\nJOIN subscriptions\\n  ON orders.subscription_id = subscriptions.subscription_id;\\n'"
      ]
     },
     "execution_count": 3,
     "metadata": {},
     "output_type": "execute_result"
    }
   ],
   "source": [
    "'''\n",
    "SELECT *\n",
    "FROM orders\n",
    "JOIN subscriptions\n",
    "  ON orders.subscription_id = subscriptions.subscription_id;\n",
    "'''"
   ]
  },
  {
   "cell_type": "markdown",
   "metadata": {},
   "source": [
    "Don't remove the previous query.\n",
    "\n",
    "Add a second query after your first one that only selects rows from the join where description is equal to 'Fashion Magazine'."
   ]
  },
  {
   "cell_type": "code",
   "execution_count": 4,
   "metadata": {},
   "outputs": [
    {
     "data": {
      "text/plain": [
       "\"\\nSELECT *\\nFROM orders\\nJOIN subscriptions\\n  ON orders.subscription_id = subscriptions.subscription_id;\\n\\nSELECT *\\nFROM orders\\nJOIN subscriptions\\n  ON orders.subscription_id = subscriptions.subscription_id\\nWHERE subscriptions.description = 'Fashion Magazine';\\n\""
      ]
     },
     "execution_count": 4,
     "metadata": {},
     "output_type": "execute_result"
    }
   ],
   "source": [
    "'''\n",
    "SELECT *\n",
    "FROM orders\n",
    "JOIN subscriptions\n",
    "  ON orders.subscription_id = subscriptions.subscription_id;\n",
    "\n",
    "SELECT *\n",
    "FROM orders\n",
    "JOIN subscriptions\n",
    "  ON orders.subscription_id = subscriptions.subscription_id\n",
    "WHERE subscriptions.description = 'Fashion Magazine';\n",
    "'''"
   ]
  },
  {
   "cell_type": "markdown",
   "metadata": {},
   "source": [
    "### Inner Joins\n",
    "Let's revisit how we joined orders and customers. For every possible value of customer_id in orders, there was a corresponding row of customers with the same customer_id.\n",
    "\n",
    "What if that wasn't true?\n",
    "\n",
    "For instance, imagine that our customers table was out of date, and was missing any information on customer 11. If that customer had an order in orders, what would happen when we joined the tables?\n",
    "\n",
    "When we perform a simple JOIN (often called an inner join) our result only includes rows that match our ON condition.\n",
    "\n",
    "Suppose we are working for The Codecademy Times, a newspaper with two types of subscriptions:\n",
    "\n",
    "    print newspaper\n",
    "    online articles\n",
    "Some users subscribe to just the newspaper, some subscribe to just the online edition, and some subscribe to both.\n",
    "\n",
    "The table newspaper contains information about the newspaper subscribers.\n",
    "\n",
    "Count the number of subscribers who get a print newspaper using COUNT()."
   ]
  },
  {
   "cell_type": "code",
   "execution_count": 5,
   "metadata": {},
   "outputs": [],
   "source": [
    "# SELECT COUNT(*) FROM newspaper;"
   ]
  },
  {
   "cell_type": "markdown",
   "metadata": {},
   "source": [
    "Don't remove your previous query.\n",
    "\n",
    "The table online contains information about the online subscribers.\n",
    "\n",
    "Count the number of subscribers who get an online newspaper using COUNT()."
   ]
  },
  {
   "cell_type": "code",
   "execution_count": 6,
   "metadata": {},
   "outputs": [
    {
     "data": {
      "text/plain": [
       "'\\nSELECT COUNT(*)\\nFROM newspaper;\\n\\nSELECT COUNT(*)\\nFROM online;\\n'"
      ]
     },
     "execution_count": 6,
     "metadata": {},
     "output_type": "execute_result"
    }
   ],
   "source": [
    "'''\n",
    "SELECT COUNT(*)\n",
    "FROM newspaper;\n",
    "\n",
    "SELECT COUNT(*)\n",
    "FROM online;\n",
    "'''"
   ]
  },
  {
   "cell_type": "markdown",
   "metadata": {},
   "source": [
    "Don't remove your previous queries.\n",
    "\n",
    "Join newspaper and online on id (the unique ID of the subscriber).\n",
    "\n",
    "How many rows are in this table?"
   ]
  },
  {
   "cell_type": "code",
   "execution_count": 7,
   "metadata": {},
   "outputs": [
    {
     "data": {
      "text/plain": [
       "'\\nSELECT COUNT(*)\\nFROM newspaper;\\n\\nSELECT COUNT(*)\\nFROM online;\\n\\nSELECT COUNT(*)\\nFROM newspaper\\nJOIN online\\n\\tON newspaper.id = online.id;\\n'"
      ]
     },
     "execution_count": 7,
     "metadata": {},
     "output_type": "execute_result"
    }
   ],
   "source": [
    "'''\n",
    "SELECT COUNT(*)\n",
    "FROM newspaper;\n",
    "\n",
    "SELECT COUNT(*)\n",
    "FROM online;\n",
    "\n",
    "SELECT COUNT(*)\n",
    "FROM newspaper\n",
    "JOIN online\n",
    "\tON newspaper.id = online.id;\n",
    "'''"
   ]
  },
  {
   "cell_type": "markdown",
   "metadata": {},
   "source": [
    "### Left Joins\n",
    "What if we want to combine two tables and keep some of the un-matched rows?\n",
    "\n",
    "SQL lets us do this through a command called LEFT JOIN. A left join will keep all rows from the first table, regardless of whether there is a matching row in the second table.\n",
    "\n",
    "Let's return to our newspaper and online subscribers. Suppose we want to know how many users subscribe to the print newspaper, but not to the online.\n",
    "\n",
    "Start by performing a left join of newspaper and online on id and selecting all columns."
   ]
  },
  {
   "cell_type": "code",
   "execution_count": 8,
   "metadata": {},
   "outputs": [
    {
     "data": {
      "text/plain": [
       "'\\nSELECT *\\nFROM newspaper\\nLEFT JOIN online\\n\\tON newspaper.id = online.id;\\n'"
      ]
     },
     "execution_count": 8,
     "metadata": {},
     "output_type": "execute_result"
    }
   ],
   "source": [
    "'''\n",
    "SELECT *\n",
    "FROM newspaper\n",
    "LEFT JOIN online\n",
    "\tON newspaper.id = online.id;\n",
    "'''"
   ]
  },
  {
   "cell_type": "markdown",
   "metadata": {},
   "source": [
    "In order to find which users do not subscribe to the online edition, we need to add a WHERE clause."
   ]
  },
  {
   "cell_type": "code",
   "execution_count": 9,
   "metadata": {},
   "outputs": [
    {
     "data": {
      "text/plain": [
       "'\\nSELECT *\\nFROM newspaper\\nLEFT JOIN online\\n  ON newspaper.id = online.id\\nWHERE online.id IS NULL;\\n'"
      ]
     },
     "execution_count": 9,
     "metadata": {},
     "output_type": "execute_result"
    }
   ],
   "source": [
    "'''\n",
    "SELECT *\n",
    "FROM newspaper\n",
    "LEFT JOIN online\n",
    "  ON newspaper.id = online.id\n",
    "WHERE online.id IS NULL;\n",
    "'''"
   ]
  },
  {
   "cell_type": "code",
   "execution_count": null,
   "metadata": {},
   "outputs": [],
   "source": []
  }
 ],
 "metadata": {
  "kernelspec": {
   "display_name": "Python 3",
   "language": "python",
   "name": "python3"
  },
  "language_info": {
   "codemirror_mode": {
    "name": "ipython",
    "version": 3
   },
   "file_extension": ".py",
   "mimetype": "text/x-python",
   "name": "python",
   "nbconvert_exporter": "python",
   "pygments_lexer": "ipython3",
   "version": "3.6.3"
  }
 },
 "nbformat": 4,
 "nbformat_minor": 2
}
