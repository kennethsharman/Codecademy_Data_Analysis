{
 "cells": [
  {
   "cell_type": "markdown",
   "metadata": {},
   "source": [
    "### Introduction\n",
    "In order to efficiently store data, we often spread related information across multiple tables.\n",
    "\n",
    "For instance, imagine that we're running a magazine company where users can have different types of subscriptions to different products. Different subscriptions might have many different properties. Each customer would also have lots of associated information.\n",
    "\n",
    "We could have one table with all of the following information:\n",
    "\n",
    "    order_id\n",
    "    customer_id\n",
    "    customer_name\n",
    "    customer_address\n",
    "    subscription_id\n",
    "    subscription_description\n",
    "    subscription_monthly_price\n",
    "    subscription_length\n",
    "    purchase_date\n",
    "However, a lot of this information would be repeated. If the same customer has multiple subscriptions, that customer's name and address will be reported multiple times. If the same subscription type is ordered by multiple customers, then the subscription price and subscription description will be repeated. This will make our table big and unmanageable.\n",
    "\n",
    "So instead, we can split our data into three tables:\n",
    "\n",
    "orders would contain just the information necessary to describe what was ordered:\n",
    "    order_id\n",
    "    customer_id\n",
    "    subscription_id\n",
    "    purchase_date\n",
    "subscriptions would contain the information to describe each type of subscription:\n",
    "    subscription_id\n",
    "    description\n",
    "    price_per_month\n",
    "    subscription_length\n",
    "customers would contain the information for each customer:\n",
    "    customer_id\n",
    "    customer_name\n",
    "    address\n",
    "In this lesson, we'll learn the SQL commands that will help us work with data that is stored in multiple tables."
   ]
  },
  {
   "cell_type": "code",
   "execution_count": 1,
   "metadata": {},
   "outputs": [],
   "source": [
    "# SELECT * FROM orders LIMIT 5;\n",
    "\n",
    "# SELECT * FROM subscriptions LIMIT 5;\n",
    "\n",
    "# SELECT * FROM customers LIMIT 5;"
   ]
  },
  {
   "cell_type": "markdown",
   "metadata": {},
   "source": [
    "### Combining Tables Manually\n",
    "Let's return to our magazine company. Suppose we have the three tables described in the previous exercise – shown in the browser on the right (we are going to try something new!):\n",
    "\n",
    "    orders\n",
    "    subscriptions\n",
    "    customers\n",
    "If we just look at the orders table, we can't really tell what's happened in each order. However, if we refer to the other tables, we can get a complete picture.\n",
    "\n",
    "Let's examine the order with an order_id of 2. It was purchased by the customer with a customer_id of 2.\n",
    "\n",
    "To find out the customer's name, we look at the customers table and look for the item with a customer_id value of 2. We can see that Customer 2's name is 'Jane Doe' and that she lives at '456 Park Ave'.\n",
    "\n",
    "Doing this kind of matching is called joining two tables.\n",
    "\n",
    "### Combining Tables with SQL\n",
    "Combining tables manually is time-consuming. Luckily, SQL gives us an easy sequence for this: it's called a JOIN.\n",
    "\n",
    "If we want to combine orders and customers, we would type:"
   ]
  },
  {
   "cell_type": "code",
   "execution_count": 1,
   "metadata": {},
   "outputs": [
    {
     "data": {
      "text/plain": [
       "'\\nSELECT *\\nFROM orders\\nJOIN customers\\n  ON orders.customer_id = customers.customer_id;\\n'"
      ]
     },
     "execution_count": 1,
     "metadata": {},
     "output_type": "execute_result"
    }
   ],
   "source": [
    "'''\n",
    "SELECT *\n",
    "FROM orders\n",
    "JOIN customers\n",
    "  ON orders.customer_id = customers.customer_id;\n",
    "'''"
   ]
  },
  {
   "cell_type": "markdown",
   "metadata": {},
   "source": [
    "Let's break down this command:\n",
    "\n",
    "    The first line selects all columns from our combined table. If we only want to select certain columns, we can specify which ones we want.\n",
    "    The second line specifies the first table that we want to look in, orders\n",
    "    The third line uses JOIN to say that we want to combine information from orders with customers.\n",
    "    The fourth line tells us how to combine the two tables. We want to match customer_id from orders with customer_id from customers.\n",
    "Because column names are often repeated across multiple tables, we use the syntax table_name.column_name to be sure that our requests for columns are unambiguous. In our example, we use this syntax in the ON statement, but we will also use it in the SELECT or any other statement where we refer to column names.\n",
    "\n",
    "For example, if we only wanted to select the order_id from orders and the customer_name from customers, we could use the following query:"
   ]
  },
  {
   "cell_type": "code",
   "execution_count": 2,
   "metadata": {},
   "outputs": [
    {
     "data": {
      "text/plain": [
       "'\\nSELECT orders.order_id,\\n   customers.customer_name\\nFROM orders\\nJOIN customers\\n  ON orders.customer_id = customers.customer_id;\\n'"
      ]
     },
     "execution_count": 2,
     "metadata": {},
     "output_type": "execute_result"
    }
   ],
   "source": [
    "'''\n",
    "SELECT orders.order_id,\n",
    "   customers.customer_name\n",
    "FROM orders\n",
    "JOIN customers\n",
    "  ON orders.customer_id = customers.customer_id;\n",
    "'''"
   ]
  },
  {
   "cell_type": "markdown",
   "metadata": {},
   "source": [
    "Join orders table and subscriptions table and select all columns.\n",
    "\n",
    "Make sure to join on subscription_id."
   ]
  },
  {
   "cell_type": "code",
   "execution_count": 3,
   "metadata": {},
   "outputs": [
    {
     "data": {
      "text/plain": [
       "'\\nSELECT *\\nFROM orders\\nJOIN subscriptions\\n  ON orders.subscription_id = subscriptions.subscription_id;\\n'"
      ]
     },
     "execution_count": 3,
     "metadata": {},
     "output_type": "execute_result"
    }
   ],
   "source": [
    "'''\n",
    "SELECT *\n",
    "FROM orders\n",
    "JOIN subscriptions\n",
    "  ON orders.subscription_id = subscriptions.subscription_id;\n",
    "'''"
   ]
  },
  {
   "cell_type": "markdown",
   "metadata": {},
   "source": [
    "Don't remove the previous query.\n",
    "\n",
    "Add a second query after your first one that only selects rows from the join where description is equal to 'Fashion Magazine'."
   ]
  },
  {
   "cell_type": "code",
   "execution_count": 4,
   "metadata": {},
   "outputs": [
    {
     "data": {
      "text/plain": [
       "\"\\nSELECT *\\nFROM orders\\nJOIN subscriptions\\n  ON orders.subscription_id = subscriptions.subscription_id;\\n\\nSELECT *\\nFROM orders\\nJOIN subscriptions\\n  ON orders.subscription_id = subscriptions.subscription_id\\nWHERE subscriptions.description = 'Fashion Magazine';\\n\""
      ]
     },
     "execution_count": 4,
     "metadata": {},
     "output_type": "execute_result"
    }
   ],
   "source": [
    "'''\n",
    "SELECT *\n",
    "FROM orders\n",
    "JOIN subscriptions\n",
    "  ON orders.subscription_id = subscriptions.subscription_id;\n",
    "\n",
    "SELECT *\n",
    "FROM orders\n",
    "JOIN subscriptions\n",
    "  ON orders.subscription_id = subscriptions.subscription_id\n",
    "WHERE subscriptions.description = 'Fashion Magazine';\n",
    "'''"
   ]
  },
  {
   "cell_type": "markdown",
   "metadata": {},
   "source": [
    "### Inner Joins\n",
    "Let's revisit how we joined orders and customers. For every possible value of customer_id in orders, there was a corresponding row of customers with the same customer_id.\n",
    "\n",
    "What if that wasn't true?\n",
    "\n",
    "For instance, imagine that our customers table was out of date, and was missing any information on customer 11. If that customer had an order in orders, what would happen when we joined the tables?\n",
    "\n",
    "When we perform a simple JOIN (often called an inner join) our result only includes rows that match our ON condition.\n",
    "\n",
    "Suppose we are working for The Codecademy Times, a newspaper with two types of subscriptions:\n",
    "\n",
    "    print newspaper\n",
    "    online articles\n",
    "Some users subscribe to just the newspaper, some subscribe to just the online edition, and some subscribe to both.\n",
    "\n",
    "The table newspaper contains information about the newspaper subscribers.\n",
    "\n",
    "Count the number of subscribers who get a print newspaper using COUNT()."
   ]
  },
  {
   "cell_type": "code",
   "execution_count": 5,
   "metadata": {},
   "outputs": [],
   "source": [
    "# SELECT COUNT(*) FROM newspaper;"
   ]
  },
  {
   "cell_type": "markdown",
   "metadata": {},
   "source": [
    "Don't remove your previous query.\n",
    "\n",
    "The table online contains information about the online subscribers.\n",
    "\n",
    "Count the number of subscribers who get an online newspaper using COUNT()."
   ]
  },
  {
   "cell_type": "code",
   "execution_count": 6,
   "metadata": {},
   "outputs": [
    {
     "data": {
      "text/plain": [
       "'\\nSELECT COUNT(*)\\nFROM newspaper;\\n\\nSELECT COUNT(*)\\nFROM online;\\n'"
      ]
     },
     "execution_count": 6,
     "metadata": {},
     "output_type": "execute_result"
    }
   ],
   "source": [
    "'''\n",
    "SELECT COUNT(*)\n",
    "FROM newspaper;\n",
    "\n",
    "SELECT COUNT(*)\n",
    "FROM online;\n",
    "'''"
   ]
  },
  {
   "cell_type": "markdown",
   "metadata": {},
   "source": [
    "Don't remove your previous queries.\n",
    "\n",
    "Join newspaper and online on id (the unique ID of the subscriber).\n",
    "\n",
    "How many rows are in this table?"
   ]
  },
  {
   "cell_type": "code",
   "execution_count": 7,
   "metadata": {},
   "outputs": [
    {
     "data": {
      "text/plain": [
       "'\\nSELECT COUNT(*)\\nFROM newspaper;\\n\\nSELECT COUNT(*)\\nFROM online;\\n\\nSELECT COUNT(*)\\nFROM newspaper\\nJOIN online\\n\\tON newspaper.id = online.id;\\n'"
      ]
     },
     "execution_count": 7,
     "metadata": {},
     "output_type": "execute_result"
    }
   ],
   "source": [
    "'''\n",
    "SELECT COUNT(*)\n",
    "FROM newspaper;\n",
    "\n",
    "SELECT COUNT(*)\n",
    "FROM online;\n",
    "\n",
    "SELECT COUNT(*)\n",
    "FROM newspaper\n",
    "JOIN online\n",
    "\tON newspaper.id = online.id;\n",
    "'''"
   ]
  },
  {
   "cell_type": "markdown",
   "metadata": {},
   "source": [
    "### Left Joins\n",
    "What if we want to combine two tables and keep some of the un-matched rows?\n",
    "\n",
    "SQL lets us do this through a command called LEFT JOIN. A left join will keep all rows from the first table, regardless of whether there is a matching row in the second table.\n",
    "\n",
    "Let's return to our newspaper and online subscribers. Suppose we want to know how many users subscribe to the print newspaper, but not to the online.\n",
    "\n",
    "Start by performing a left join of newspaper and online on id and selecting all columns."
   ]
  },
  {
   "cell_type": "code",
   "execution_count": 8,
   "metadata": {},
   "outputs": [
    {
     "data": {
      "text/plain": [
       "'\\nSELECT *\\nFROM newspaper\\nLEFT JOIN online\\n\\tON newspaper.id = online.id;\\n'"
      ]
     },
     "execution_count": 8,
     "metadata": {},
     "output_type": "execute_result"
    }
   ],
   "source": [
    "'''\n",
    "SELECT *\n",
    "FROM newspaper\n",
    "LEFT JOIN online\n",
    "\tON newspaper.id = online.id;\n",
    "'''"
   ]
  },
  {
   "cell_type": "markdown",
   "metadata": {},
   "source": [
    "In order to find which users do not subscribe to the online edition, we need to add a WHERE clause."
   ]
  },
  {
   "cell_type": "code",
   "execution_count": 9,
   "metadata": {},
   "outputs": [
    {
     "data": {
      "text/plain": [
       "'\\nSELECT *\\nFROM newspaper\\nLEFT JOIN online\\n  ON newspaper.id = online.id\\nWHERE online.id IS NULL;\\n'"
      ]
     },
     "execution_count": 9,
     "metadata": {},
     "output_type": "execute_result"
    }
   ],
   "source": [
    "'''\n",
    "SELECT *\n",
    "FROM newspaper\n",
    "LEFT JOIN online\n",
    "  ON newspaper.id = online.id\n",
    "WHERE online.id IS NULL;\n",
    "'''"
   ]
  },
  {
   "cell_type": "markdown",
   "metadata": {},
   "source": [
    "### Primary Key vs Foreign Key\n",
    "Let's return to our example of the magazine subscriptions. Recall that we had three tables: orders, subscriptions, and customers.\n",
    "\n",
    "Each of these tables has a column that uniquely identifies each row of that table:\n",
    "\n",
    "    order_id for orders\n",
    "    subscription_id for subscriptions\n",
    "    customer_id for customers\n",
    "These special columns are called primary keys.\n",
    "\n",
    "Primary keys have a few requirements:\n",
    "\n",
    "    None of the values can be NULL.\n",
    "    Each value must be unique (i.e., you can't have two customers with the same customer_id in the customers table).\n",
    "    A table can not have more than one primary key column.\n",
    "\n",
    "Suppose Columbia University has two tables in their database:\n",
    "\n",
    "    The classes table contains information on the classes that the school offers. Its primary key is id.\n",
    "    The students table contains information on all students in the school. Its primary key is id. It contains the foreign key class_id, which corresponds to the primary key of classes.\n",
    "Perform an inner join of classes and students using the primary and foreign keys described above, and select all the columns."
   ]
  },
  {
   "cell_type": "code",
   "execution_count": 1,
   "metadata": {},
   "outputs": [
    {
     "data": {
      "text/plain": [
       "'\\nSELECT *\\nFROM classes\\nJOIN students\\n\\tON classes.id = students.class_id;\\n'"
      ]
     },
     "execution_count": 1,
     "metadata": {},
     "output_type": "execute_result"
    }
   ],
   "source": [
    "'''\n",
    "SELECT *\n",
    "FROM classes\n",
    "JOIN students\n",
    "\tON classes.id = students.class_id;\n",
    "'''"
   ]
  },
  {
   "cell_type": "markdown",
   "metadata": {},
   "source": [
    "### Cross Join\n",
    "So far, we've focused on matching rows that have some information in common.\n",
    "\n",
    "Sometimes, we just want to combine all rows of one table with all rows of another table.\n",
    "\n",
    "For instance, if we had a table of shirts and a table of pants, we might want to know all the possible combinations to create different outfits.\n",
    "\n",
    "Our code might look like this:"
   ]
  },
  {
   "cell_type": "code",
   "execution_count": 2,
   "metadata": {},
   "outputs": [
    {
     "data": {
      "text/plain": [
       "'\\nSELECT shirts.shirt_color,\\n   pants.pants_color\\nFROM shirts\\nCROSS JOIN pants;\\n'"
      ]
     },
     "execution_count": 2,
     "metadata": {},
     "output_type": "execute_result"
    }
   ],
   "source": [
    "'''\n",
    "SELECT shirts.shirt_color,\n",
    "   pants.pants_color\n",
    "FROM shirts\n",
    "CROSS JOIN pants;\n",
    "'''"
   ]
  },
  {
   "cell_type": "markdown",
   "metadata": {},
   "source": [
    "    The first two lines select the columns shirt_color and pants_color.\n",
    "    The third line pulls data from the table shirts.\n",
    "    The fourth line performs a CROSS JOIN with pants.\n",
    "Notice that cross joins don't require an ON statement. You're not really joining on any columns!\n",
    "\n",
    "3 shirts × 2 pants = 6 combinations!\n",
    "\n",
    "This clothing example is fun, but it's not very practically useful.\n",
    "\n",
    "A more common usage of CROSS JOIN is when we need to compare each row of a table to a list of values.\n",
    "\n",
    "Let's return to our newspaper subscriptions. This table contains two columns that we haven't discussed yet:\n",
    "\n",
    "    start_month: the first month where the customer subscribed to the print newspaper (i.e., 2 for February)\n",
    "    end_month: the final month where the customer subscribed to the print newspaper\n",
    "Suppose we wanted to know how many users were subscribed during each month of the year. For each month (1, 2, 3) we would need to know if a user was subscribed. Follow the steps below to see how we can use a CROSS JOIN to solve this problem.\n",
    "\n",
    "Eventually, we'll use a cross join to help us, but first, let's try a simpler problem.\n",
    "\n",
    "Let's start by counting the number of customers who were subscribed to the newspaper during March."
   ]
  },
  {
   "cell_type": "code",
   "execution_count": 3,
   "metadata": {},
   "outputs": [
    {
     "data": {
      "text/plain": [
       "'\\nSELECT COUNT(*)\\nfrom newspaper\\nWHERE start_month <=3 AND end_month>=3;\\n'"
      ]
     },
     "execution_count": 3,
     "metadata": {},
     "output_type": "execute_result"
    }
   ],
   "source": [
    "'''\n",
    "SELECT COUNT(*)\n",
    "from newspaper\n",
    "WHERE start_month <=3 AND end_month>=3;\n",
    "'''"
   ]
  },
  {
   "cell_type": "markdown",
   "metadata": {},
   "source": [
    "Don't remove the previous query.\n",
    "\n",
    "The previous query lets us investigate one month at a time. In order to check across all months, we're going to need to use a cross join.\n",
    "\n",
    "Our database contains another table called months which contains the numbers between 1 and 12.\n",
    "\n",
    "Select all columns from the cross join of newspaper and months."
   ]
  },
  {
   "cell_type": "code",
   "execution_count": 4,
   "metadata": {},
   "outputs": [
    {
     "data": {
      "text/plain": [
       "'\\nSELECT COUNT(*)\\nfrom newspaper\\nWHERE start_month <=3 AND end_month>=3;\\n\\nSELECT *\\nfrom newspaper\\nCROSS JOIN months;\\n'"
      ]
     },
     "execution_count": 4,
     "metadata": {},
     "output_type": "execute_result"
    }
   ],
   "source": [
    "'''\n",
    "SELECT COUNT(*)\n",
    "from newspaper\n",
    "WHERE start_month <=3 AND end_month>=3;\n",
    "\n",
    "SELECT *\n",
    "from newspaper\n",
    "CROSS JOIN months;\n",
    "'''"
   ]
  },
  {
   "cell_type": "markdown",
   "metadata": {},
   "source": [
    "Don't remove your previous queries.\n",
    "\n",
    "Create a third query where you add a WHERE statement to your cross join to restrict to two conditions:\n",
    "\n",
    "    start_month <= month\n",
    "    end_month >= month\n",
    "This will select all months where a user was subscribed."
   ]
  },
  {
   "cell_type": "code",
   "execution_count": 5,
   "metadata": {},
   "outputs": [
    {
     "data": {
      "text/plain": [
       "'\\nSELECT COUNT(*)\\nfrom newspaper\\nWHERE start_month <=3 AND end_month>=3;\\n\\nSELECT *\\nfrom newspaper\\nCROSS JOIN months;\\n\\nSELECT *\\nFROM newspaper\\nCROSS JOIN months\\nWHERE start_month <= month\\nAND end_month >= month;\\n'"
      ]
     },
     "execution_count": 5,
     "metadata": {},
     "output_type": "execute_result"
    }
   ],
   "source": [
    "'''\n",
    "SELECT COUNT(*)\n",
    "from newspaper\n",
    "WHERE start_month <=3 AND end_month>=3;\n",
    "\n",
    "SELECT *\n",
    "from newspaper\n",
    "CROSS JOIN months;\n",
    "\n",
    "SELECT *\n",
    "FROM newspaper\n",
    "CROSS JOIN months\n",
    "WHERE start_month <= month\n",
    "AND end_month >= month;\n",
    "'''"
   ]
  },
  {
   "cell_type": "markdown",
   "metadata": {},
   "source": [
    "Don't remove your previous queries.\n",
    "\n",
    "Create a final query where you aggregate over each month to count the number of subscribers."
   ]
  },
  {
   "cell_type": "code",
   "execution_count": 6,
   "metadata": {},
   "outputs": [
    {
     "data": {
      "text/plain": [
       "\"\\nSELECT COUNT(*)\\nfrom newspaper\\nWHERE start_month <=3 AND end_month>=3;\\n\\nSELECT *\\nfrom newspaper\\nCROSS JOIN months;\\n\\nSELECT *\\nFROM newspaper\\nCROSS JOIN months\\nWHERE start_month <= month AND end_month >= month;\\n\\nSELECT month,\\n   COUNT(*) AS 'subscribers'\\nFROM newspaper\\nCROSS JOIN months\\nWHERE start_month <= month \\n   AND end_month >= month\\nGROUP BY month;\\n\""
      ]
     },
     "execution_count": 6,
     "metadata": {},
     "output_type": "execute_result"
    }
   ],
   "source": [
    "'''\n",
    "SELECT COUNT(*)\n",
    "from newspaper\n",
    "WHERE start_month <=3 AND end_month>=3;\n",
    "\n",
    "SELECT *\n",
    "from newspaper\n",
    "CROSS JOIN months;\n",
    "\n",
    "SELECT *\n",
    "FROM newspaper\n",
    "CROSS JOIN months\n",
    "WHERE start_month <= month AND end_month >= month;\n",
    "\n",
    "SELECT month,\n",
    "   COUNT(*) AS 'subscribers'\n",
    "FROM newspaper\n",
    "CROSS JOIN months\n",
    "WHERE start_month <= month \n",
    "   AND end_month >= month\n",
    "GROUP BY month;\n",
    "'''"
   ]
  },
  {
   "cell_type": "markdown",
   "metadata": {},
   "source": [
    "### Union\n",
    "Sometimes we just want to stack one dataset on top of the other. Well, the UNION operator allows us to do that.\n",
    "\n",
    "SQL has strict rules for appending data:\n",
    "\n",
    "Tables must have the same number of columns.\n",
    "The columns must have the same data types in the same order as the first table.\n",
    "\n",
    "Let's return to our newspaper and online subscriptions. We'd like to create one big table with both sets of data.\n",
    "\n",
    "Use UNION to stack the newspaper table on top of the online table."
   ]
  },
  {
   "cell_type": "code",
   "execution_count": 7,
   "metadata": {},
   "outputs": [
    {
     "data": {
      "text/plain": [
       "'\\nSELECT *\\nFROM newspaper\\nUNION\\nSELECT *\\nFROM online;\\n'"
      ]
     },
     "execution_count": 7,
     "metadata": {},
     "output_type": "execute_result"
    }
   ],
   "source": [
    "'''\n",
    "SELECT *\n",
    "FROM newspaper\n",
    "UNION\n",
    "SELECT *\n",
    "FROM online;\n",
    "'''"
   ]
  },
  {
   "cell_type": "markdown",
   "metadata": {},
   "source": [
    "### With\n",
    "Often times, we want to combine two tables, but one of the tables is the result of another calculation.\n",
    "\n",
    "Let's return to our magazine order example. Our marketing department might want to know a bit more about our customers. For instance, they might want to know how many magazines each customer subscribes to. We can easily calculate this using our orders table:"
   ]
  },
  {
   "cell_type": "code",
   "execution_count": 8,
   "metadata": {},
   "outputs": [
    {
     "data": {
      "text/plain": [
       "\"\\nSELECT customer_id,\\n   COUNT(subscription_id) AS 'subscriptions'\\nFROM orders\\nGROUP BY customer_id;\\n\""
      ]
     },
     "execution_count": 8,
     "metadata": {},
     "output_type": "execute_result"
    }
   ],
   "source": [
    "'''\n",
    "SELECT customer_id,\n",
    "   COUNT(subscription_id) AS 'subscriptions'\n",
    "FROM orders\n",
    "GROUP BY customer_id;\n",
    "'''"
   ]
  },
  {
   "cell_type": "markdown",
   "metadata": {},
   "source": [
    "This query is good, but a customer_id isn't terribly useful for our marketing department, they probably want to know the customer's name.\n",
    "\n",
    "We want to be able to join the results of this query with our customers table, which will tell us the name of each customer. We can do this by using a WITH clause."
   ]
  },
  {
   "cell_type": "code",
   "execution_count": 9,
   "metadata": {},
   "outputs": [
    {
     "data": {
      "text/plain": [
       "'\\nWITH previous_results AS (\\n   SELECT ...\\n   ...\\n   ...\\n   ...\\n)\\nSELECT *\\nFROM previous_results\\nJOIN customers\\n  ON _____ = _____;\\n'"
      ]
     },
     "execution_count": 9,
     "metadata": {},
     "output_type": "execute_result"
    }
   ],
   "source": [
    "'''\n",
    "WITH previous_results AS (\n",
    "   SELECT ...\n",
    "   ...\n",
    "   ...\n",
    "   ...\n",
    ")\n",
    "SELECT *\n",
    "FROM previous_results\n",
    "JOIN customers\n",
    "  ON _____ = _____;\n",
    "'''"
   ]
  },
  {
   "cell_type": "markdown",
   "metadata": {},
   "source": [
    "    The WITH statement allows us to perform a separate query (such as aggregating customer's subscriptions)\n",
    "    previous_results is the alias that we will use to reference any columns from the query inside of the WITH clause\n",
    "    We can then go on to do whatever we want with this temporary table (such as join the temporary table with another table)\n",
    "Essentially, we are putting a whole first query inside the parentheses () and giving it a name. After that, we can use this name as if it's a table and write a new query using the first query.\n",
    "\n",
    "Place the whole query below into a WITH statement using the alias previous_query:"
   ]
  },
  {
   "cell_type": "code",
   "execution_count": 10,
   "metadata": {},
   "outputs": [
    {
     "data": {
      "text/plain": [
       "\"\\nSELECT customer_id,\\n   COUNT(subscription_id) AS 'subscriptions'\\nFROM orders\\nGROUP BY customer_id\\n\""
      ]
     },
     "execution_count": 10,
     "metadata": {},
     "output_type": "execute_result"
    }
   ],
   "source": [
    "'''\n",
    "SELECT customer_id,\n",
    "   COUNT(subscription_id) AS 'subscriptions'\n",
    "FROM orders\n",
    "GROUP BY customer_id\n",
    "'''"
   ]
  },
  {
   "cell_type": "markdown",
   "metadata": {},
   "source": [
    "Join previous_query with customers and select the following columns:\n",
    "\n",
    "    customers.customer_name\n",
    "    previous_query.subscriptions"
   ]
  },
  {
   "cell_type": "code",
   "execution_count": 11,
   "metadata": {},
   "outputs": [
    {
     "data": {
      "text/plain": [
       "\"\\nWITH previous_query AS (\\n   SELECT customer_id,\\n      COUNT(subscription_id) AS 'subscriptions'\\n   FROM orders\\n   GROUP BY customer_id\\n)\\nSELECT customers.customer_name, \\n   previous_query.subscriptions\\nFROM previous_query\\nJOIN customers\\n  ON previous_query.customer_id = customers.customer_id;\\n\""
      ]
     },
     "execution_count": 11,
     "metadata": {},
     "output_type": "execute_result"
    }
   ],
   "source": [
    "'''\n",
    "WITH previous_query AS (\n",
    "   SELECT customer_id,\n",
    "      COUNT(subscription_id) AS 'subscriptions'\n",
    "   FROM orders\n",
    "   GROUP BY customer_id\n",
    ")\n",
    "SELECT customers.customer_name, \n",
    "   previous_query.subscriptions\n",
    "FROM previous_query\n",
    "JOIN customers\n",
    "  ON previous_query.customer_id = customers.customer_id;\n",
    "'''"
   ]
  },
  {
   "cell_type": "markdown",
   "metadata": {},
   "source": [
    "### Review\n",
    "In this lesson, we learned about relationships between tables in relational databases and how to query information from multiple tables using SQL.\n",
    "\n",
    "Let's summarize what we've learned so far:\n",
    "\n",
    "    JOIN will combine rows from different tables if the join condition is true.\n",
    "\n",
    "    LEFT JOIN will return every row in the left table, and if the join condition is not met, NULL values are used to fill in the columns from the right table.\n",
    "\n",
    "    Primary key is a column that serves a unique identifier for the rows in the table.\n",
    "\n",
    "    Foreign key is a column that contains the primary key to another table.\n",
    "\n",
    "    CROSS JOIN lets us combine all rows of one table with all rows of another table.\n",
    "\n",
    "    UNION stacks one dataset on top of another.\n",
    "\n",
    "    WITH allows us to define one or more temporary tables that can be used in the final query."
   ]
  },
  {
   "cell_type": "code",
   "execution_count": null,
   "metadata": {},
   "outputs": [],
   "source": []
  }
 ],
 "metadata": {
  "kernelspec": {
   "display_name": "Python 3",
   "language": "python",
   "name": "python3"
  },
  "language_info": {
   "codemirror_mode": {
    "name": "ipython",
    "version": 3
   },
   "file_extension": ".py",
   "mimetype": "text/x-python",
   "name": "python",
   "nbconvert_exporter": "python",
   "pygments_lexer": "ipython3",
   "version": "3.6.3"
  }
 },
 "nbformat": 4,
 "nbformat_minor": 2
}
