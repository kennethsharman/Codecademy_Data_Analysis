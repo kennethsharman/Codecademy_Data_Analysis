{
 "cells": [
  {
   "cell_type": "markdown",
   "metadata": {},
   "source": [
    "### Introduction to Bayes' Theorem\n",
    "In this lesson, we'll learn about Bayes' Theorem. Bayes' Theorem is the basis of a branch of statistics called Bayesian Statistics, where we take prior knowledge into account before calculating new probabilities.\n",
    "\n",
    "Before we learn this theorem, we'll need to review independence and conditional probability.\n",
    "\n",
    "By the end of this lesson, you'll be able to solve simple problems involving prior knowledge.\n",
    "\n",
    "Independent Events\n",
    "The ability to determine whether two events are independent is an important skill for statistics.\n",
    "\n",
    "If two events are independent, then the occurrence of one event does not affect the probability of the other event. Here are some examples of independent events:\n",
    "\n",
    "    I wear a blue shirt; my co-worker wears a blue shirt\n",
    "    I take the subway to work; I eat a tuna sandwich for lunch\n",
    "    The NY Giants win their football game; the NY Rangers win their hockey game\n",
    "If two events are dependent, then when one event occurs, the probability of the other event occurring changes in a predictable way.\n",
    "\n",
    "Here are some examples of dependent events:\n",
    "\n",
    "    It rains on Tuesday; I carry an umbrella on Tuesday\n",
    "    I eat spaghetti; I have a red stain on my shirt\n",
    "    I wear sunglasses; I go to the beach\n",
    " \n",
    "A certain family plans to have three children. Is the event that the couple's third child is a girl independent of the event that the couple's first two children are girls? Save your answer ('independent' or 'not independent') to the variable third_child."
   ]
  },
  {
   "cell_type": "code",
   "execution_count": 1,
   "metadata": {},
   "outputs": [],
   "source": [
    "third_child = 'independent'"
   ]
  },
  {
   "cell_type": "markdown",
   "metadata": {},
   "source": [
    "### Conditional Probability\n",
    "Conditional probability is the probability that two events happen. It's easiest to calculate conditional probability when the two events are independent.\n",
    "\n",
    "Note: For the rest of this lesson, we'll be using the statistical convention that the probability of an event is written as P(event).\n",
    "\n",
    "If the probability of Event A is P(A) and the probability of Event B is P(B) and the two events are independent, then the probability of both events occurring is the product of the probabilities:\n",
    "\n",
    "$$ P(A ∩ B) = P(A) × P(B) $$\n",
    "(The symbol ∩ just means \"and\", so P(A ∩ B) means probability that both A and B happen)\n",
    "\n",
    "For instance, suppose we are rolling a pair of dice, and want to know the probability of rolling two sixes. Each die has six sides, so the probability of rolling a six is 1/6. Each die is independent (i.e., rolling one six does not increase or decrease our chance of rolling a second six), so\n",
    "\n",
    "$$ P(6 ∩ 6) = P(6) × P(6) = 1/6 × 1/6 = 1/36 $$\n",
    "\n",
    "This week, there is a 30% probability that it will rain on any given day. At a certain high school, gym class is held on three days out of the five day school week.\n",
    "\n",
    "On a school day, what is the probability that it is raining and the students have gym class? Save your answer to the variable p_rain_and_gym"
   ]
  },
  {
   "cell_type": "code",
   "execution_count": 2,
   "metadata": {},
   "outputs": [],
   "source": [
    "p_rain_and_gym = 0.3 * (3.0/5.0)"
   ]
  },
  {
   "cell_type": "markdown",
   "metadata": {},
   "source": [
    "### Testing for a Rare Disease\n",
    "Suppose you are a doctor and you need to test if a patient has a certain rare disease. The test is very accurate: it's correct 99% of the time. The disease is very rare: only 1 in 100,000 patients have it.\n",
    "\n",
    "You administer the test and it comes back positive, so your patient must have the disease, right?\n",
    "\n",
    "Not necessarily. If we just consider the test, there is only a 1% chance that it is wrong, but we actually have more information: we know how rare the disease is.\n",
    "\n",
    "Given that the test came back positive, there are two possibilities:\n",
    "\n",
    "    The patient had the disease, and the test correctly diagnosed the disease\n",
    "    The patient didn't have the disease and the test incorrectly diagnosed that they had the disease.\n",
    "\n",
    "What is the probability that the patient does not have the disease and the test incorrectly diagnosed the disease?\n",
    "\n",
    "Save your answer to the variable p_no_disease_and_incorrect"
   ]
  },
  {
   "cell_type": "code",
   "execution_count": 4,
   "metadata": {},
   "outputs": [
    {
     "name": "stdout",
     "output_type": "stream",
     "text": [
      "9.9e-06\n",
      "0.0099999\n"
     ]
    }
   ],
   "source": [
    "p_disease_and_correct = 0.99 * (1.0/100000)\n",
    "print(p_disease_and_correct)\n",
    "\n",
    "p_no_disease_and_incorrect = (99999.0/100000) * 0.01\n",
    "print(p_no_disease_and_incorrect)"
   ]
  },
  {
   "cell_type": "markdown",
   "metadata": {},
   "source": [
    "### Bayes Theorem\n",
    "In the previous exercise, we determined two probabilities:\n",
    "\n",
    "    The patient had the disease, and the test correctly diagnosed the disease ≈ 0.00001\n",
    "    The patient didn't have the disease and the test incorrectly diagnosed that they had the disease ≈ 0.01\n",
    "Both events are rare, but we can see that it was about 1,000 times more likely than the test was incorrect than that the patient had this rare disease.\n",
    "\n",
    "We're able to come to this conclusion because we had more information than just the accuracy of the test; we also knew the prevalence of this disease. That extra information about how we expect the world to work is called a prior.\n",
    "\n",
    "When we only use the first piece of information (the result of the test), it's called a Frequentist Approach to statistics. When we incorporate our prior, it's called a Bayesian Approach.\n",
    "\n",
    "In statistics, if we have two events (A and B), we write the probability that event A will happen, given that event B already happened as P(A|B). In our example, we want to find P(rare disease | positive result).\n",
    "\n",
    "We can calculate P(A|B) using Bayes' Theorem, which states:\n",
    "$$ P(A|B) = \\frac{P(B|A)P(A)}{P(B)} $$\n",
    "\n",
    "Calculate P(positive result | rare disease ), or the probability of a positive test result, given that a patient really has this rare disease. Save your answer (as a decimal) to p_positive_given_disease."
   ]
  },
  {
   "cell_type": "code",
   "execution_count": 5,
   "metadata": {},
   "outputs": [],
   "source": [
    "p_positive_given_disease = 0.99"
   ]
  },
  {
   "cell_type": "markdown",
   "metadata": {},
   "source": [
    "What is P(rare disease), the probability that a randomly selected patient has the rare disease? Save your answer to p_disease."
   ]
  },
  {
   "cell_type": "code",
   "execution_count": 6,
   "metadata": {},
   "outputs": [],
   "source": [
    "p_disease = 1.0 / 100000"
   ]
  },
  {
   "cell_type": "markdown",
   "metadata": {},
   "source": [
    "As we discussed previously, there are two ways to get a positive result:\n",
    "\n",
    "    The patient had the disease, and the test correctly diagnosed the disease\n",
    "    The patient didn't have the disease and the test incorrectly diagnosed that they had the disease.\n",
    "Using these two probabilities, calculate the total probability that a randomly selected patient receives a positive test result, P(positive result). Save your answer to the variable p_positive."
   ]
  },
  {
   "cell_type": "code",
   "execution_count": 7,
   "metadata": {},
   "outputs": [],
   "source": [
    "p_positive = (p_disease*0.99) + ((1-p_disease)*0.01)"
   ]
  },
  {
   "cell_type": "markdown",
   "metadata": {},
   "source": [
    "Substitute all three of these values into Bayes' Theorem and calculate P(rare disease | positive result). Save your result as p_disease_given_positive."
   ]
  },
  {
   "cell_type": "code",
   "execution_count": 9,
   "metadata": {},
   "outputs": [
    {
     "name": "stdout",
     "output_type": "stream",
     "text": [
      "0.0009890307498651321\n"
     ]
    }
   ],
   "source": [
    "p_disease_given_positive = p_positive_given_disease * p_disease / p_positive\n",
    "print(p_disease_given_positive)"
   ]
  },
  {
   "cell_type": "markdown",
   "metadata": {},
   "source": [
    "### Spam Filters\n",
    "Let's explore a different example. Email Spam filters use Bayes Theorem to determine if certain words indicate that an email is spam.\n",
    "\n",
    "Let's a take word that often appears in spam: \"enhancement\". With just 3 facts, we can make some preliminary steps towards a good spam filter:\n",
    "\n",
    "    \"enhancement\" appears in just 0.1% of non-spam emails\n",
    "    \"enhancement\" appears in 5% of spam emails\n",
    "    Spam emails make up about 20% of total emails\n",
    "Given that an email contains \"enhancement\", what is the probability that the email is spam?\n",
    "\n",
    "In this example, we are dealing with two probabilities:\n",
    "\n",
    "    P(enhancement) — the probability that the word \"enhancement\" appears in an email\n",
    "    P(spam) — the probability that an email is spam.\n",
    "Using Bayes' Theorem to answer our question means that we want to calculate P(A|B). But what are A and B referring to in this case?\n",
    "\n",
    "Save the string 'enhancement' or 'spam' to the variable a. Save the string 'enhancement' or 'spam' to the variable b."
   ]
  },
  {
   "cell_type": "code",
   "execution_count": 10,
   "metadata": {},
   "outputs": [],
   "source": [
    "a = 'spam'\n",
    "b = 'enhancement'"
   ]
  },
  {
   "cell_type": "markdown",
   "metadata": {},
   "source": [
    "What is P(spam)? Save your answer to p_spam.\n",
    "\n",
    "What is P(enhancement | spam)? Save your answer to p_enhancement_given_spam."
   ]
  },
  {
   "cell_type": "code",
   "execution_count": 11,
   "metadata": {},
   "outputs": [],
   "source": [
    "p_spam = 0.2\n",
    "p_enhancement_given_spam = 0.05"
   ]
  },
  {
   "cell_type": "markdown",
   "metadata": {},
   "source": [
    "We want to know the overall probability that any email (spam or non-spam) contains \"enhancement\". Because we know the probability of \"enhancement\" ocurring in both spam (0.05) and non-spam (0.001) emails, we can use a weighted average to calculate the probability of spam occurring in any email:"
   ]
  },
  {
   "cell_type": "code",
   "execution_count": 12,
   "metadata": {},
   "outputs": [],
   "source": [
    "# P(enhancement) = P(enhancement | spam) * P(spam) + P(enhancement | non-spam) * P(non-spam)"
   ]
  },
  {
   "cell_type": "markdown",
   "metadata": {},
   "source": [
    "Save your answer to p_enhancement."
   ]
  },
  {
   "cell_type": "code",
   "execution_count": 14,
   "metadata": {},
   "outputs": [],
   "source": [
    "p_enhancement = (0.05 * 0.2) + (0.001 * 0.8)"
   ]
  },
  {
   "cell_type": "markdown",
   "metadata": {},
   "source": [
    "Plug this into Bayes Theorem"
   ]
  },
  {
   "cell_type": "code",
   "execution_count": 15,
   "metadata": {},
   "outputs": [
    {
     "name": "stdout",
     "output_type": "stream",
     "text": [
      "0.9259259259259259\n"
     ]
    }
   ],
   "source": [
    "p_spam_enhancement = p_enhancement_given_spam * p_spam / p_enhancement\n",
    "\n",
    "print(p_spam_enhancement)"
   ]
  },
  {
   "cell_type": "markdown",
   "metadata": {},
   "source": [
    "### Review\n",
    "In this course, we learned several new definitions:\n",
    "\n",
    "    Two events are independent if the occurrence of one event does not affect the probability of the second event\n",
    "    If two events are independent then, \n",
    "    P(A ∩ B) = P(A) × P(B)\n",
    "    A prior is an additional piece of information that tells us how likely an event is\n",
    "    A frequentist approach to statistics does not incorporate a prior\n",
    "    A Bayesian approach to statistics incorporates prior knowledge"
   ]
  },
  {
   "cell_type": "code",
   "execution_count": null,
   "metadata": {},
   "outputs": [],
   "source": []
  }
 ],
 "metadata": {
  "kernelspec": {
   "display_name": "Python 3",
   "language": "python",
   "name": "python3"
  },
  "language_info": {
   "codemirror_mode": {
    "name": "ipython",
    "version": 3
   },
   "file_extension": ".py",
   "mimetype": "text/x-python",
   "name": "python",
   "nbconvert_exporter": "python",
   "pygments_lexer": "ipython3",
   "version": "3.6.3"
  }
 },
 "nbformat": 4,
 "nbformat_minor": 2
}
