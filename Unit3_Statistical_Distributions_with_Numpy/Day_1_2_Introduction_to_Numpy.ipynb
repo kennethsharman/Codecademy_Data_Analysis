{
 "cells": [
  {
   "cell_type": "markdown",
   "metadata": {},
   "source": [
    "### Review\n",
    "Let's take a second and review. In this lesson, you learned the basics of the NumPy package. Here are some key points:\n",
    "\n",
    "    Arrays are a special type of list that allows us to store values in an organized manner.\n",
    "    An array can be created by either defining it directly using np.array() or by importing a CSV using np.genfromtxt('file.csv', delimiter=',').\n",
    "    An operation (such as addition) can be performed on every element in an array by simply performing it on the array itself.\n",
    "    Elements can be selected from arrays using their index and array locations, both of which start at 0.\n",
    "    Logical operations can be used to create new, more focused arrays out of larger arrays.\n",
    "The next lesson will explore how to analyze these arrays and use means, medians, and standard deviations to tell a story. But first, practice what you've learned by working through the following checkpoints.\n",
    "\n"
   ]
  },
  {
   "cell_type": "markdown",
   "metadata": {},
   "source": [
    "You are working on a team of climate scientists and one of your roles is to take the weekly temperature data and input into NumPy arrays for later analysis. The sensor records the temperature 4 times a day, at 0:00, 6:00, 12:00, and 18:00. You are given last weeks data (Monday through Friday) and asked to create a NumPy array.\n",
    "\n",
    "Get started by importing the numpy package.\n",
    "\n",
    "Create an array temperatures by importing the data in the CSV temperature_data.csv\n",
    "\n",
    "Inspect the data by printing it to the terminal.\n",
    "\n",
    "The columns are the times, starting at 0:00, and the rows are days, starting on Monday, and the values are the recorded temperatures at that time on those days.\n",
    "\n",
    "One of the researchers noticed that the sensor had been incorrectly zeroed and all of the recorded temperatures are 3.0 degrees too cold.\n",
    "\n",
    "Adjust the array so that the temperature readings are accurate and save them to temperatures_fixed.\n",
    "\n",
    "Another researcher asked you for the temperature values from Monday. Save them to a new array, monday_temperatures.\n",
    "\n",
    "\"Hmmm, interesting\" the researcher mumbles, \"can you also give me the 6:00 AM data for Thursday and Friday?\"\n",
    "\n",
    "Save this data to a new array thursday_friday_morning.\n",
    "\n",
    "Finally, the persistent researcher now wants all the high and low temperatures over the week.\n",
    "\n",
    "Select all temperatures that are under 50 degrees or over 60 degrees and save them to a new array temperature_extremes."
   ]
  },
  {
   "cell_type": "code",
   "execution_count": 2,
   "metadata": {},
   "outputs": [],
   "source": [
    "# import numpy as np\n",
    "\n",
    "# temperatures = np.genfromtxt('temperature_data.csv', delimiter=',')\n",
    "\n",
    "# temperatures_fixed = temperatures + 3.0\n",
    "\n",
    "# monday_temperatures = temperatures_fixed[0]\n",
    "\n",
    "# thursday_friday_morning = temperatures_fixed[3:5, 1]\n",
    "\n",
    "# temperature_extremes = temperatures_fixed[(temperatures_fixed<50) | (temperatures_fixed>60)]"
   ]
  },
  {
   "cell_type": "code",
   "execution_count": null,
   "metadata": {},
   "outputs": [],
   "source": []
  }
 ],
 "metadata": {
  "kernelspec": {
   "display_name": "Python 3",
   "language": "python",
   "name": "python3"
  },
  "language_info": {
   "codemirror_mode": {
    "name": "ipython",
    "version": 3
   },
   "file_extension": ".py",
   "mimetype": "text/x-python",
   "name": "python",
   "nbconvert_exporter": "python",
   "pygments_lexer": "ipython3",
   "version": "3.6.3"
  }
 },
 "nbformat": 4,
 "nbformat_minor": 2
}
