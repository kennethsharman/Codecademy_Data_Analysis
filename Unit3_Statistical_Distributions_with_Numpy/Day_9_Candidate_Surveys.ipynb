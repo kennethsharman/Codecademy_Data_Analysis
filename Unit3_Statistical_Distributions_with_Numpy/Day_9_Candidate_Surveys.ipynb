{
 "cells": [
  {
   "cell_type": "markdown",
   "metadata": {},
   "source": [
    "### Election Results\n",
    "You're part of an impartial research group that conducts phone surveys prior to local elections. During this election season, the group conducted a survey to determine how many people would vote for Cynthia Ceballos vs. Justin Kerrigan in the mayoral election.\n",
    "\n",
    "Now that the election has occurred, your group wants to compare the survey responses to the actual results. Was your survey a good indicator? Let's find out!"
   ]
  },
  {
   "cell_type": "code",
   "execution_count": 1,
   "metadata": {},
   "outputs": [],
   "source": [
    "survey_responses = ['Ceballos', 'Kerrigan', 'Ceballos', 'Ceballos', 'Ceballos','Kerrigan', 'Kerrigan', 'Ceballos', 'Ceballos', 'Ceballos', \n",
    "'Kerrigan', 'Kerrigan', 'Ceballos', 'Ceballos', 'Kerrigan', 'Kerrigan', 'Ceballos', 'Ceballos', 'Kerrigan', 'Kerrigan', 'Kerrigan', 'Kerrigan', 'Kerrigan', 'Kerrigan', 'Ceballos', 'Ceballos', 'Ceballos', 'Ceballos', 'Ceballos', 'Ceballos',\n",
    "'Kerrigan', 'Kerrigan', 'Ceballos', 'Ceballos', 'Ceballos', 'Kerrigan', 'Kerrigan', 'Ceballos', 'Ceballos', 'Kerrigan', 'Kerrigan', 'Ceballos', 'Ceballos', 'Kerrigan', 'Kerrigan', 'Kerrigan', 'Kerrigan', 'Kerrigan', 'Kerrigan', 'Ceballos',\n",
    "'Kerrigan', 'Kerrigan', 'Ceballos', 'Ceballos', 'Ceballos', 'Kerrigan', 'Kerrigan', 'Ceballos', 'Ceballos', 'Kerrigan', 'Kerrigan', 'Ceballos', 'Ceballos', 'Kerrigan', 'Kerrigan', 'Kerrigan', 'Kerrigan', 'Kerrigan', 'Kerrigan', 'Ceballos']"
   ]
  },
  {
   "cell_type": "code",
   "execution_count": 27,
   "metadata": {},
   "outputs": [
    {
     "name": "stdout",
     "output_type": "stream",
     "text": [
      "Number of votes for Ceballos: 33\n",
      "Percentage of votes for Ceballos 47.14 %\n"
     ]
    }
   ],
   "source": [
    "import numpy as np\n",
    "from matplotlib import pyplot as plt\n",
    "\n",
    "# Total Number of Surveys\n",
    "num_surveys = float(len(survey_responses))\n",
    "\n",
    "# Total number of voters for 'Ceballos'\n",
    "total_ceballos = sum(1 for x in survey_responses if x=='Ceballos')\n",
    "print('Number of votes for Ceballos:', total_ceballos)\n",
    "\n",
    "percentage_ceballos = ( total_ceballos/num_surveys ) * 100\n",
    "print('Percentage of votes for Ceballos', np.round(percentage_ceballos, 2), '%')"
   ]
  },
  {
   "cell_type": "code",
   "execution_count": 31,
   "metadata": {},
   "outputs": [
    {
     "data": {
      "image/png": "[encoded data removed]",
      "text/plain": [
       "<matplotlib.figure.Figure at 0x1aa7e29c438>"
      ]
     },
     "metadata": {},
     "output_type": "display_data"
    }
   ],
   "source": [
    "possible_surveys = np.random.binomial(num_surveys, percentage_ceballos/100, size=10000) / num_surveys\n",
    "\n",
    "plt.figure(figsize=(10,8))\n",
    "plt.hist(possible_surveys, bins=20, range=(0,1))\n",
    "plt.show()"
   ]
  },
  {
   "cell_type": "code",
   "execution_count": 36,
   "metadata": {},
   "outputs": [
    {
     "name": "stdout",
     "output_type": "stream",
     "text": [
      "Averageof possible Outcomes for Ceballos 64.0 %\n"
     ]
    }
   ],
   "source": [
    "ceballos_loss_surveys = np.mean(possible_surveys < 0.5)\n",
    "print('Average of possible Outcomes for Ceballos', np.round(ceballos_loss_surveys, 2)*100, '%')"
   ]
  },
  {
   "cell_type": "code",
   "execution_count": 51,
   "metadata": {},
   "outputs": [
    {
     "name": "stdout",
     "output_type": "stream",
     "text": [
      "63.91 %\n"
     ]
    }
   ],
   "source": [
    "large_survey = np.random.binomial(7000, percentage_ceballos/100, size=10000) / num_surveys\n",
    "ceballos_loss_new = np.mean(large_survey < 0.5)\n",
    "print(ceballos_loss_surveys*100, '%')"
   ]
  }
 ],
 "metadata": {
  "kernelspec": {
   "display_name": "Python 3",
   "language": "python",
   "name": "python3"
  },
  "language_info": {
   "codemirror_mode": {
    "name": "ipython",
    "version": 3
   },
   "file_extension": ".py",
   "mimetype": "text/x-python",
   "name": "python",
   "nbconvert_exporter": "python",
   "pygments_lexer": "ipython3",
   "version": "3.6.3"
  }
 },
 "nbformat": 4,
 "nbformat_minor": 2
}
