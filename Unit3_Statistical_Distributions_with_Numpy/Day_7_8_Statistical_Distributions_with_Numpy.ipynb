{
 "cells": [
  {
   "cell_type": "code",
   "execution_count": 1,
   "metadata": {},
   "outputs": [],
   "source": [
    "import numpy as np"
   ]
  },
  {
   "cell_type": "markdown",
   "metadata": {},
   "source": [
    "### Introduction\n",
    "\n",
    "This lesson will cover:\n",
    "\n",
    "    How to generate and graph histograms\n",
    "    How to identify different distributions by their shape\n",
    "    Normal distributions\n",
    "    How standard deviations relate to normal distributions\n",
    "    Binomial distributions\n",
    "\n",
    "### Histograms, Part I\n",
    "When we first look at a dataset, we want to be able to quickly understand certain things about it:\n",
    "\n",
    "    Do some values occur more often than others?\n",
    "    What is the range of the dataset (i.e., the min and the max values)?\n",
    "    Are there a lot of outliers?\n",
    "    We can visualize this information using a chart called a histogram.\n",
    "\n",
    "### Histograms, Part II\n",
    "Suppose we had a larger dataset with values ranging from 0 to 50. We might not want to know exactly how many 0's, 1's, 2's, etc. we have.\n",
    "\n",
    "Instead, we might want to know how many values fall between 0 and 5, 6 and 10, 11 and 15, etc.\n",
    "\n",
    "These groupings are called bins. All bins in a histogram are always the same size. The width of each bin is the distance between the minimum and maximum\n",
    "\n",
    "### Histograms, Part III\n",
    "Familiarize yourself with the following syntax to draw a histogram:"
   ]
  },
  {
   "cell_type": "code",
   "execution_count": 2,
   "metadata": {},
   "outputs": [],
   "source": [
    "# This imports the plotting package.  We only need to do this once.\n",
    "# from matplotlib import pyplot as plt \n",
    "\n",
    "# This plots a histogram\n",
    "# plt.hist(data)\n",
    "\n",
    "# This displays the histogram\n",
    "# plt.show()"
   ]
  },
  {
   "cell_type": "markdown",
   "metadata": {},
   "source": [
    "When we enter plt.hist with no keyword arguments, matplotlib will automatically make a histogram with 10 bins of equal width that span the entire range of our data.\n",
    "\n",
    "If you want a different number of bins, use the keyword bins. For instance, the following code would give us 5 bins, instead of 10:"
   ]
  },
  {
   "cell_type": "code",
   "execution_count": 3,
   "metadata": {},
   "outputs": [],
   "source": [
    "# plt.hist(data, bins=5)"
   ]
  },
  {
   "cell_type": "markdown",
   "metadata": {},
   "source": [
    "If you want a different range, you can pass in the minimum and maximum values that you want to histogram using the keyword range. We pass in a tuple of two numbers. The first number is the minimum value that we want to plot and the second value is the number that we want to plot up to, but not including.\n",
    "\n",
    "For instance, if our dataset contained values between 0 and 100, but we only wanted to histogram numbers between 20 and 50, we could use this command:"
   ]
  },
  {
   "cell_type": "code",
   "execution_count": 4,
   "metadata": {},
   "outputs": [],
   "source": [
    "# We pass 51 so that our range includes 50\n",
    "# plt.hist(data, range=(20, 51))"
   ]
  },
  {
   "cell_type": "markdown",
   "metadata": {},
   "source": [
    "Here’s a complete example:"
   ]
  },
  {
   "cell_type": "code",
   "execution_count": 5,
   "metadata": {},
   "outputs": [
    {
     "data": {
      "text/plain": [
       "<matplotlib.figure.Figure at 0x26da5881f60>"
      ]
     },
     "metadata": {},
     "output_type": "display_data"
    }
   ],
   "source": [
    "from matplotlib import pyplot as plt\n",
    "\n",
    "d = np.array([1, 1, 1, 2, 2, 2, 2, 2, 3, 3, 4, 4, 4, 4, 5])\n",
    "\n",
    "plt.hist(d, bins=5, range=(1, 6))\n",
    "\n",
    "plt.show()"
   ]
  },
  {
   "cell_type": "markdown",
   "metadata": {},
   "source": [
    "### Different Types of Distributions, Part I\n",
    "Histograms and their datasets can be classified based on the shape of the graphed values. In the next two exercises, we'll look at two different ways of describing histograms.\n",
    "\n",
    "One way to classify a dataset is by counting the number of distinct peaks present in the graph. Peaks represent concentrations of data. Let's look at the following examples:\n",
    "\n",
    "    A unimodal dataset has only one distinct peak.\n",
    "    A bimodal dataset has two distinct peaks. This often happens when the data contains two different populations.\n",
    "    A multimodal dataset has more than two peaks.\n",
    "    A uniform dataset doesn't have any distinct peaks.\n",
    "\n",
    "### Different Types of Distribution, Part II\n",
    "Most of the datasets that we'll be dealing with will be unimodal (one peak). We can further classify unimodal distributions by describing where most of the numbers are relative to the peak.\n",
    "\n",
    "    A symmetric dataset has equal amounts of data on both sides of the peak. Both sides should look about the same.\n",
    "    A skew-right dataset has a long tail on the right of the peak, but most of the data is on the left.\n",
    "    A skew-left dataset has a long tail on the left of the peak, but most of the data is on the right.\n",
    "   \n",
    "The type of distribution affects the position of the mean and median. In heavily skewed distributions, the mean becomes a less useful measurement.\n",
    "\n",
    "### Normal Distribution, Part I\n",
    "The most common distribution in statistics is known as the normal distribution, which is a symmetric, unimodal distribution.\n",
    "\n",
    "Lots of things follow a normal distribution:\n",
    "\n",
    "    The heights of a large group of people\n",
    "    Blood pressure measurements for a group of healthy people\n",
    "    Errors in measurements\n",
    "Normal distributions are defined by their mean and standard deviation. The mean sets the \"middle\" of the distribution, and the standard deviation sets the \"width\" of the distribution. A larger standard deviation leads to a wider distribution. A smaller standard deviation leads to a skinnier distribution.\n",
    "\n",
    "### Normal Distribution, Part II\n",
    "We can generate our own normally distributed datasets using NumPy. Using these datasets can help us better understand the properties and behavior of different distributions. We can also use them to model results, which we can then use as a comparison to real data.\n",
    "\n",
    "In order to create these datasets, we need to use a random number generator. The NumPy library has several functions for generating random numbers, including one specifically built to generate a set of numbers that fit a normal distribution: np.random.normal. This function takes the following keyword arguments:\n",
    "\n",
    "    loc: the mean for the normal distribution\n",
    "    scale: the standard deviation of the distribution\n",
    "    size: the number of random numbers to generate"
   ]
  },
  {
   "cell_type": "code",
   "execution_count": 6,
   "metadata": {},
   "outputs": [
    {
     "data": {
      "image/png": "[encoded data removed]",
      "text/plain": [
       "<matplotlib.figure.Figure at 0x26da5881da0>"
      ]
     },
     "metadata": {},
     "output_type": "display_data"
    }
   ],
   "source": [
    "a = np.random.normal(0, 1, size=100000)\n",
    "plt.hist(a, bins=50, ec='black')\n",
    "plt.show()"
   ]
  },
  {
   "cell_type": "markdown",
   "metadata": {},
   "source": [
    "Our friend is a paleontologist. He's studying two types of dinosaurs: brachiosaurus and fictionosaurus. He tells us that:\n",
    "\n",
    "    Brachiosaurus have femurs (thigh bone) with mean length of 6.7 ft and a standard deviation of 0.7 ft.\n",
    "    Fictionosaurus have femurs (thigh bone) with mean length of 7.7 ft and a standard deviation of 0.3 ft.\n",
    "We'd like to know what these distributions look like.\n",
    "\n",
    "Use np.random.normal to fill in b_data (brachiosaurus) and f_data (fictionosaurus) with randomly generated samples with the correct mean and standard deviation. Each dataset should have 1000 samples.\n",
    "\n",
    "The code that we supplied below will graph the distributions for you."
   ]
  },
  {
   "cell_type": "code",
   "execution_count": 7,
   "metadata": {},
   "outputs": [
    {
     "data": {
      "image/png": "[encoded data removed]",
      "text/plain": [
       "<matplotlib.figure.Figure at 0x26da65aef60>"
      ]
     },
     "metadata": {},
     "output_type": "display_data"
    }
   ],
   "source": [
    "# Brachiosaurus\n",
    "b_data = np.random.normal(6.7, 0.7, size=1000)\n",
    "\n",
    "# Fictionosaurus\n",
    "f_data = np.random.normal(7.7, 0.3, size=1000)\n",
    "\n",
    "plt.hist(b_data,\n",
    "         bins=30, range=(5, 8.5), histtype='step',\n",
    "         label='Brachiosaurus')\n",
    "plt.hist(f_data,\n",
    "         bins=30, range=(5, 8.5), histtype='step',\n",
    "         label='Fictionosaurus')\n",
    "plt.xlabel('Femur Length (ft)')\n",
    "plt.legend(loc=2)\n",
    "plt.show()"
   ]
  },
  {
   "cell_type": "markdown",
   "metadata": {},
   "source": [
    "Our friend discovered a femur from an unidentified dinosaur on his last dig. The femur is 6.6 feet long.\n",
    "\n",
    "Your friend is pretty sure that the femur belongs to either a brachiosaurus or a fictionosaurus. Looking at the graphed data, determine which dinosaur this skeleton is most likely to belong, and save your answer to the variable mystery_dino."
   ]
  },
  {
   "cell_type": "code",
   "execution_count": 8,
   "metadata": {},
   "outputs": [],
   "source": [
    "mystery_dino = 'Brachiosaurus'"
   ]
  },
  {
   "cell_type": "markdown",
   "metadata": {},
   "source": [
    "### Standard Deviations and Normal Distribution\n",
    "Suppose that we have a normal distribution with a mean of 50 and a standard deviation of 10. When we say \"within one standard deviation of the mean\", this is what we are saying mathematically:\n",
    "\n",
    "lower_bound = mean - std\n",
    "            = 50 - 10\n",
    "            = 40\n",
    "\n",
    "upper_bound = mean + std\n",
    "            = 50 + 10\n",
    "            = 60\n",
    "            \n",
    "It turns out that we can expect about 68% of our dataset to be between 40 and 60, for this distribution.\n",
    "\n",
    "As we saw in the previous exercise, no matter what mean and standard deviation we choose, 68% of our samples will fall between +/- 1 standard deviation of the mean!\n",
    "\n",
    "In fact, here are a few more helpful rules for normal distributions:\n",
    "\n",
    "    68% of our samples will fall between +/- 1 standard deviation of the mean\n",
    "    95% of our samples will fall between +/- 2 standard deviations of the mean\n",
    "    99.7% of our samples will fall between +/- 3 standard deviations of the mean\n",
    "    \n",
    "The average score on the SATs is 1000 and the standard deviation is 100.\n",
    "\n",
    "Calculate the amount that would be one standard deviation above the mean, and save it to the variable one_above.\n",
    "Calculate the amount that would be one standard deviation below the mean, and save it to the variable one_below.\n",
    "2000 students took the exam. How many would you expect to have scores within the range of one_above and one_below?\n",
    "Save your response to the variable one_std and print it to the terminal."
   ]
  },
  {
   "cell_type": "code",
   "execution_count": 9,
   "metadata": {},
   "outputs": [
    {
     "name": "stdout",
     "output_type": "stream",
     "text": [
      "1360.0\n"
     ]
    }
   ],
   "source": [
    "one_above = 1100\n",
    "one_below = 900\n",
    "one_std = 0.68 * 2000\n",
    "print(one_std)"
   ]
  },
  {
   "cell_type": "markdown",
   "metadata": {},
   "source": [
    "### Binomial Distribution, Part I\n",
    "It's known that a certain basketball player makes 30% of his free throws. On Friday night’s game, he had the chance to shoot 10 free throws. How many free throws might you expect him to make? We would expect 0.30 * 10 = 3.\n",
    "\n",
    "However, he actually made 4 free throws out of 10 or 40%. Is this surprising? Does this mean that he’s actually better than we thought?\n",
    "\n",
    "The binomial distribution can help us. It tells us how likely it is for a certain number of “successes” to happen, given a probability of success and a number of trials.\n",
    "\n",
    "In this example:\n",
    "\n",
    "    The probability of success was 30% (he makes 30% of free throws)\n",
    "    The number of trials was 10 (he took 10 shots)\n",
    "    The number of successes was 4 (he made 4 shots)\n",
    "The binomial distribution is important because it allows us to know how likely a certain outcome is, even when it's not the expected one. From this graph, we can see that it's not that unlikely an outcome for our basketball player to get 4 free throws out of 10. However, it would be pretty unlikely for him to get all 10.\n",
    "\n",
    "### Binomial Distributions, Part II\n",
    "There are some complicated formulas for determining these types of probabilities. Luckily for us, we can use NumPy - specifically, its ability to generate random numbers. We can use these random numbers to model a distribution of numerical data that matches the real-life scenario we're interested in understanding.\n",
    "\n",
    "For instance, suppose we want to know the different probabilities of our basketball player making 1, 2, 3, etc. out of 10 shots.\n",
    "\n",
    "NumPy has a function for generating binomial distributions: np.random.binomial, which we can use to determine the probability of different outcomes.\n",
    "\n",
    "The function will return the number of successes for each \"experiment\".\n",
    "\n",
    "It takes the following arguments:\n",
    "\n",
    "    N: The number of samples or trials\n",
    "    P: The probability of success\n",
    "    size: The number of experiments\n",
    "Let's generate a bunch of \"experiments\" of our basketball player making 10 shots. We choose a big N to be sure that our probabilities converge on the correct answer."
   ]
  },
  {
   "cell_type": "code",
   "execution_count": 10,
   "metadata": {},
   "outputs": [],
   "source": [
    "# Let's generate 10,000 \"experiments\"\n",
    "# N = 10 shots\n",
    "# P = 0.30 (30% he'll get a free throw)\n",
    "\n",
    "a = np.random.binomial(10, 0.30, size=10000)"
   ]
  },
  {
   "cell_type": "markdown",
   "metadata": {},
   "source": [
    "Now we have a record of 10,000 experiments. We can use Matplotlib to plot the results of all of these experiments:"
   ]
  },
  {
   "cell_type": "code",
   "execution_count": 11,
   "metadata": {},
   "outputs": [
    {
     "data": {
      "image/png": "[encoded data removed]",
      "text/plain": [
       "<matplotlib.figure.Figure at 0x26da659a4a8>"
      ]
     },
     "metadata": {},
     "output_type": "display_data"
    }
   ],
   "source": [
    "plt.hist(a, range=(0, 10), bins=10, normed=True)\n",
    "plt.xlabel('Number of \"Free Throws\"')\n",
    "plt.ylabel('Frequency')\n",
    "plt.show()"
   ]
  },
  {
   "cell_type": "markdown",
   "metadata": {},
   "source": [
    "A person sends 500 emails asking people to donate to their cause, with an estimated probability that 25 people (5%) will open the email and click to donate. There were 10,000 trials.\n",
    "\n",
    "Using the binomial distribution formula, calculate the distribution and save it to the variable emails."
   ]
  },
  {
   "cell_type": "code",
   "execution_count": 12,
   "metadata": {},
   "outputs": [
    {
     "data": {
      "image/png": "[encoded data removed]",
      "text/plain": [
       "<matplotlib.figure.Figure at 0x26da55383c8>"
      ]
     },
     "metadata": {},
     "output_type": "display_data"
    }
   ],
   "source": [
    "emails = np.random.binomial(500, 0.05, size=10000)\n",
    "\n",
    "plt.hist(emails)\n",
    "plt.show()"
   ]
  },
  {
   "cell_type": "markdown",
   "metadata": {},
   "source": [
    "Binomial Distributions and Probability\n",
    "Let's return to our original question:\n",
    "\n",
    "Our basketball player has a 30% chance of making any individual basket. He took 10 shots and made 4 of them, even though we only expected him to make 3. What percent chance did he have of making those 4 shots?\n",
    "\n",
    "We can calculate a different probability by counting the percent of experiments with the same outcome, using the np.mean function.\n",
    "\n",
    "Remember that taking the mean of a logical statement will give us the percent of values that satisfy our logical statement.\n",
    "\n",
    "Let's calculate the probability that he makes 4 baskets:"
   ]
  },
  {
   "cell_type": "code",
   "execution_count": 13,
   "metadata": {},
   "outputs": [
    {
     "name": "stdout",
     "output_type": "stream",
     "text": [
      "0.1999\n"
     ]
    }
   ],
   "source": [
    "a = np.random.binomial(10, 0.30, size=10000)\n",
    "probability = np.mean(a == 4)\n",
    "\n",
    "print(probability)"
   ]
  },
  {
   "cell_type": "markdown",
   "metadata": {},
   "source": [
    "Remember, because we're using a random number generator, we'll get a slightly different result each time. With the large size we chose, the calculated probability should be accurate to about 2 decimal places.\n",
    "\n",
    "So, our basketball player has a roughly 20% chance of making 4 baskets\n",
    "\n",
    "This suggests that what we observed wasn't that unlikely. It's quite possible that he hasn't got any better; he just got lucky."
   ]
  },
  {
   "cell_type": "markdown",
   "metadata": {},
   "source": [
    "Let's return to our email example. Remember that we sent 500 emails, with an estimated probability that 25 people would open the email. There were 10,000 trials.\n",
    "\n",
    "What is the probability that no one opens the email? Save the results to the variable no_emails."
   ]
  },
  {
   "cell_type": "code",
   "execution_count": 14,
   "metadata": {},
   "outputs": [
    {
     "name": "stdout",
     "output_type": "stream",
     "text": [
      "0.0\n"
     ]
    }
   ],
   "source": [
    "no_emails = np.mean(emails == 0)\n",
    "print(no_emails)"
   ]
  },
  {
   "cell_type": "markdown",
   "metadata": {},
   "source": [
    "You recently hired a new marketing associate who wants to A/B test two emails to see if people respond better. What’s the probability that 8% or more of people will open the email? Save the results to the variable b_test_emails."
   ]
  },
  {
   "cell_type": "code",
   "execution_count": 16,
   "metadata": {},
   "outputs": [
    {
     "name": "stdout",
     "output_type": "stream",
     "text": [
      "0.0\n"
     ]
    }
   ],
   "source": [
    "b_test_emails = np.mean(emails == 0.08)\n",
    "print(b_test_emails)"
   ]
  },
  {
   "cell_type": "markdown",
   "metadata": {},
   "source": [
    "Review\n",
    "Let's review! In this lesson, you learned how to use NumPy to analyze different distributions and generate random numbers to produce datasets. Here's what we covered:\n",
    "\n",
    "    What is a histogram and how to map one using Matplotlib\n",
    "    How to identify different dataset shapes, depending on peaks or distribution of data\n",
    "    The definition of a normal distribution and how to use NumPy to generate one using NumPy's random number functions\n",
    "    The relationships between normal distributions and standard deviations\n",
    "    The definition of a binomial distribution\n",
    "Now you can use NumPy to analyze and graph your own datasets! You should practice building your intuition about not only what the data says, but what conclusions can be drawn from your observations."
   ]
  },
  {
   "cell_type": "code",
   "execution_count": null,
   "metadata": {},
   "outputs": [],
   "source": []
  }
 ],
 "metadata": {
  "kernelspec": {
   "display_name": "Python 3",
   "language": "python",
   "name": "python3"
  },
  "language_info": {
   "codemirror_mode": {
    "name": "ipython",
    "version": 3
   },
   "file_extension": ".py",
   "mimetype": "text/x-python",
   "name": "python",
   "nbconvert_exporter": "python",
   "pygments_lexer": "ipython3",
   "version": "3.6.3"
  }
 },
 "nbformat": 4,
 "nbformat_minor": 2
}
