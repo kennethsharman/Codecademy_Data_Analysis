{
 "cells": [
  {
   "cell_type": "markdown",
   "metadata": {},
   "source": [
    "Modifying DataFrames\n",
    "In the previous lesson, you learned what a DataFrame is and how to select subsets of data from one.\n",
    "\n",
    "In this lesson, you'll learn how to modify an existing DataFrame. Some of the skills you'll learn include:\n",
    "\n",
    "    Adding columns to a DataFrame\n",
    "    Using lambda functions to calculate complex quantities\n",
    "    Renaming columns\n",
    "\n",
    "### Adding a Column I\n",
    "Sometimes, we want to add a column to an existing DataFrame. We might want to add new information or perform a calculation based on the data that we already have.\n",
    "\n",
    "One way that we can add a new column is by giving a list of the same length as the existing DataFrame.\n",
    "\n",
    "The DataFrame df contains information on products sold at a hardware store. Add a column to df called 'Sold in Bulk?', which indicates if the product is sold in bulk or individually."
   ]
  },
  {
   "cell_type": "code",
   "execution_count": 1,
   "metadata": {},
   "outputs": [
    {
     "name": "stdout",
     "output_type": "stream",
     "text": [
      "   Product ID   Description  Cost to Manufacture  Price Sold in Bulk?\n",
      "0           1  3 inch screw                  0.5   0.75           Yes\n",
      "1           2   2 inch nail                  0.1   0.25           Yes\n",
      "2           3        hammer                  3.0   5.50            No\n",
      "3           4   screwdriver                  2.5   3.00            No\n"
     ]
    }
   ],
   "source": [
    "import pandas as pd\n",
    "\n",
    "df = pd.DataFrame([\n",
    "  [1, '3 inch screw', 0.5, 0.75],\n",
    "  [2, '2 inch nail', 0.10, 0.25],\n",
    "  [3, 'hammer', 3.00, 5.50],\n",
    "  [4, 'screwdriver', 2.50, 3.00]\n",
    "],\n",
    "  columns=['Product ID', 'Description', 'Cost to Manufacture', 'Price']\n",
    ")\n",
    "\n",
    "df['Sold in Bulk?'] = ['Yes', 'Yes', 'No', 'No']\n",
    "\n",
    "print(df)"
   ]
  },
  {
   "cell_type": "markdown",
   "metadata": {},
   "source": [
    "### Adding a Column II\n",
    "We can also add a new column that is the same for all rows in the DataFrame.\n",
    "\n",
    "Add a column to df called Is taxed?, which indicates whether or not to collect sales tax on the product. It should be 'Yes' for all rows."
   ]
  },
  {
   "cell_type": "code",
   "execution_count": 2,
   "metadata": {},
   "outputs": [
    {
     "name": "stdout",
     "output_type": "stream",
     "text": [
      "   Product ID   Description  Cost to Manufacture  Price Sold in Bulk?  \\\n",
      "0           1  3 inch screw                  0.5   0.75           Yes   \n",
      "1           2   2 inch nail                  0.1   0.25           Yes   \n",
      "2           3        hammer                  3.0   5.50            No   \n",
      "3           4   screwdriver                  2.5   3.00            No   \n",
      "\n",
      "  Is taxed?  \n",
      "0       Yes  \n",
      "1       Yes  \n",
      "2       Yes  \n",
      "3       Yes  \n"
     ]
    }
   ],
   "source": [
    "df['Is taxed?'] = 'Yes'\n",
    "\n",
    "print(df)"
   ]
  },
  {
   "cell_type": "markdown",
   "metadata": {},
   "source": [
    "### Adding a Column III\n",
    "Finally, you can add a new column by performing a function on the existing columns.\n",
    "\n",
    "Add a column to df called 'Revenue', which is equal to the difference between the Price and the Cost to Manufacture."
   ]
  },
  {
   "cell_type": "code",
   "execution_count": 3,
   "metadata": {},
   "outputs": [
    {
     "name": "stdout",
     "output_type": "stream",
     "text": [
      "   Product ID   Description  Cost to Manufacture  Price Sold in Bulk?  \\\n",
      "0           1  3 inch screw                  0.5   0.75           Yes   \n",
      "1           2   2 inch nail                  0.1   0.25           Yes   \n",
      "2           3        hammer                  3.0   5.50            No   \n",
      "3           4   screwdriver                  2.5   3.00            No   \n",
      "\n",
      "  Is taxed?  Revenue  \n",
      "0       Yes     0.25  \n",
      "1       Yes     0.15  \n",
      "2       Yes     2.50  \n",
      "3       Yes     0.50  \n"
     ]
    }
   ],
   "source": [
    "df['Revenue'] = df.Price - df['Cost to Manufacture']\n",
    "\n",
    "print(df)"
   ]
  },
  {
   "cell_type": "markdown",
   "metadata": {},
   "source": [
    "### Performing Column Operations\n",
    "In the previous exercise, we learned how to add columns to a DataFrame.\n",
    "\n",
    "Often, the column that we want to add is related to existing columns, but requires a calculation more complex than multiplication or addition.\n",
    "\n",
    "We can use the apply function to apply a function to every value in a particular column. For example, this code overwrites the existing 'Name' columns by applying the function upper to every row in 'Name'."
   ]
  },
  {
   "cell_type": "code",
   "execution_count": 4,
   "metadata": {},
   "outputs": [],
   "source": [
    "# from string import upper\n",
    "\n",
    "# df['Name'] = df.Name.apply(upper)"
   ]
  },
  {
   "cell_type": "markdown",
   "metadata": {},
   "source": [
    "Apply the function lower to all names in column 'Name' in df. Assign these new names to a new column of df called 'Lowercase Name'. "
   ]
  },
  {
   "cell_type": "code",
   "execution_count": 5,
   "metadata": {},
   "outputs": [],
   "source": [
    "# df['Lowercase Name'] = df.Name.apply(lower)"
   ]
  },
  {
   "cell_type": "markdown",
   "metadata": {},
   "source": [
    "### Reviewing Lambda Function\n",
    "A lambda function is a way of defining a function in a single line of code. Usually, we would assign them to a variable.\n",
    "\n",
    "For example, the following lambda function multiplies a number by 2 and then adds 3:"
   ]
  },
  {
   "cell_type": "code",
   "execution_count": 6,
   "metadata": {},
   "outputs": [
    {
     "name": "stdout",
     "output_type": "stream",
     "text": [
      "13\n"
     ]
    }
   ],
   "source": [
    "mylambda = lambda x: (x * 2) + 3\n",
    "print(mylambda(5))"
   ]
  },
  {
   "cell_type": "markdown",
   "metadata": {},
   "source": [
    "Lambda functions work with all types of variables, not just integers! Here is an example that takes in a string, assigns it to the temporary variable x, and then converts it into lowercase:"
   ]
  },
  {
   "cell_type": "code",
   "execution_count": 7,
   "metadata": {},
   "outputs": [
    {
     "name": "stdout",
     "output_type": "stream",
     "text": [
      "oh hi mark!\n"
     ]
    }
   ],
   "source": [
    "stringlambda = lambda x: x.lower()\n",
    "print(stringlambda(\"Oh Hi Mark!\"))"
   ]
  },
  {
   "cell_type": "markdown",
   "metadata": {},
   "source": [
    "Create a lambda function mylambda that returns the first and last letters of a string, assuming the string is at least 2 characters long."
   ]
  },
  {
   "cell_type": "code",
   "execution_count": 8,
   "metadata": {},
   "outputs": [
    {
     "name": "stdout",
     "output_type": "stream",
     "text": [
      "Tg\n"
     ]
    }
   ],
   "source": [
    "mylambda = lambda x: x[:1] + x[-1:]\n",
    "\n",
    "print(mylambda('This is a string'))"
   ]
  },
  {
   "cell_type": "markdown",
   "metadata": {},
   "source": [
    "### Reviewing Lambda Function: If Statements\n",
    "We can make our lambdas more complex by using a modified form of an if statement.\n",
    "\n",
    "Suppose we want to pay workers time-and-a-half for overtime (any work above 40 hours per week). The following function will convert the number of hours into time-and-a-half hours using an if statement:"
   ]
  },
  {
   "cell_type": "code",
   "execution_count": 9,
   "metadata": {},
   "outputs": [],
   "source": [
    "def myfunction(x):\n",
    "    if x > 40:\n",
    "        return 40 + (x - 40) * 1.50\n",
    "    else:\n",
    "        return x"
   ]
  },
  {
   "cell_type": "markdown",
   "metadata": {},
   "source": [
    "Below is a lambda function that does the same thing:"
   ]
  },
  {
   "cell_type": "code",
   "execution_count": 10,
   "metadata": {},
   "outputs": [],
   "source": [
    "myfunction = lambda x: 40 + (x - 40) * 1.50 \\\n",
    "    if x > 40 else x"
   ]
  },
  {
   "cell_type": "markdown",
   "metadata": {},
   "source": [
    "In general, the syntax for an if function in a lambda function is:"
   ]
  },
  {
   "cell_type": "code",
   "execution_count": 11,
   "metadata": {},
   "outputs": [],
   "source": [
    "# lambda x: [OUTCOME IF TRUE] \\\n",
    "#     if [CONDITIONAL] \\\n",
    "#     else [OUTCOME IF FALSE]"
   ]
  },
  {
   "cell_type": "markdown",
   "metadata": {},
   "source": [
    "You are managing the webpage of a somewhat violent video game and you want to check that each user's age is 13 or greater when they visit the site.\n",
    "\n",
    "Write a lambda function that takes an inputted age and either returns Welcome to BattleCity! if the user is 13 or older or You must be over 13 if they are younger than 13. Your lambda function should be called mylambda."
   ]
  },
  {
   "cell_type": "code",
   "execution_count": 12,
   "metadata": {},
   "outputs": [],
   "source": [
    "mylambda = lambda x: 'Welcome to BattleCity!'\\\n",
    "    if x >= 13 else 'You must be over 13'"
   ]
  },
  {
   "cell_type": "markdown",
   "metadata": {},
   "source": [
    "### Applying a Lambda to a Column\n",
    "In Pandas, we often use lambda functions to perform complex operations on columns. For example, suppose that we want to create a column containing the email provider for each email address.\n",
    "\n",
    "We could use the following code with a lambda function:"
   ]
  },
  {
   "cell_type": "code",
   "execution_count": 13,
   "metadata": {},
   "outputs": [],
   "source": [
    "# df['Email Provider'] = df.Email.apply(\n",
    "#     lambda x: x.split('@')[-1]\n",
    "#     )"
   ]
  },
  {
   "cell_type": "markdown",
   "metadata": {},
   "source": [
    "Create a lambda function get_last_name which takes a string with someone's first and last name (i.e., John Smith), and returns just the last name (i.e., Smith).\n",
    "\n",
    "The DataFrame df represents the hours worked by different employees over the course of the week. It contains the following columns:\n",
    "\n",
    "'name': The employee's name\n",
    "'hourly_wage': The employee's hourly wage\n",
    "'hours_worked': The number of hours worked this week\n",
    "Use the lambda function get_last_name to create a new column last_name with only the employees' last name."
   ]
  },
  {
   "cell_type": "code",
   "execution_count": 14,
   "metadata": {},
   "outputs": [
    {
     "name": "stdout",
     "output_type": "stream",
     "text": [
      "       id               name  hourly_wage  hours_worked  last_name\n",
      "0   10310      Lauren Durham           19            43     Durham\n",
      "1   18656      Grace Sellers           17            40    Sellers\n",
      "2   61254  Shirley Rasmussen           16            30  Rasmussen\n",
      "3   16886        Brian Rojas           18            47      Rojas\n",
      "4   89010    Samantha Mosley           11            38     Mosley\n",
      "5   87246       Louis Guzman           14            39     Guzman\n",
      "6   20578     Denise Mcclure           15            40    Mcclure\n",
      "7   12869      James Raymond           15            32    Raymond\n",
      "8   53461       Noah Collier           18            35    Collier\n",
      "9   14746    Donna Frederick           20            41  Frederick\n",
      "10  71127       Shirley Beck           14            32       Beck\n",
      "11  92522    Christina Kelly            8            44      Kelly\n",
      "12  22447        Brian Noble           11            39      Noble\n",
      "13  61654          Randy Key           16            38        Key\n",
      "14  16988      Diana Stewart           14            48    Stewart\n",
      "15  68619       Timothy Sosa           14            42       Sosa\n",
      "16  59949      Betty Skinner           11            48    Skinner\n",
      "17  81418      Janet Maxwell           12            38    Maxwell\n",
      "18  27267   Madison Johnston           20            37   Johnston\n",
      "19  19985   Virginia Nichols           13            49    Nichols\n"
     ]
    }
   ],
   "source": [
    "df = pd.read_csv('employees.csv')\n",
    "\n",
    "df['last_name'] = df.name.apply(lambda x: x.split(' ')[-1])\n",
    "\n",
    "print(df)"
   ]
  },
  {
   "cell_type": "markdown",
   "metadata": {},
   "source": [
    "### Applying a Lambda to a Row\n",
    "We can also operate on multiple columns at once. If we use apply without specifying a single column and add the argument axis=1, the input to our lambda function will be an entire row, not a column. To access particular values of the row, we use the syntax row.column_name or row[‘column_name’].\n",
    "\n",
    "If an employee worked for more than 40 hours, she needs to be paid overtime (1.5 times the normal hourly wage).\n",
    "\n",
    "For instance, if an employee worked for 43 hours and made \\$10/hour, she would receive \\$400 for the first 40 hours that she worked, and an additional \\$45 for the 3 hours of overtime, for a total for $445.\n",
    "\n",
    "Create a lambda function total_earned that accepts an input row with keys hours_worked and hourly_wage and uses an if statement to calculate the hourly wage.\n",
    "\n",
    "Use the lambda function total_earned and apply to add a column total_earned to df with the total amount earned by each employee."
   ]
  },
  {
   "cell_type": "code",
   "execution_count": 15,
   "metadata": {},
   "outputs": [
    {
     "name": "stdout",
     "output_type": "stream",
     "text": [
      "       id               name  hourly_wage  hours_worked  total_earned\n",
      "0   10310      Lauren Durham           19            43         845.5\n",
      "1   18656      Grace Sellers           17            40         680.0\n",
      "2   61254  Shirley Rasmussen           16            30         480.0\n",
      "3   16886        Brian Rojas           18            47         909.0\n",
      "4   89010    Samantha Mosley           11            38         418.0\n",
      "5   87246       Louis Guzman           14            39         546.0\n",
      "6   20578     Denise Mcclure           15            40         600.0\n",
      "7   12869      James Raymond           15            32         480.0\n",
      "8   53461       Noah Collier           18            35         630.0\n",
      "9   14746    Donna Frederick           20            41         830.0\n",
      "10  71127       Shirley Beck           14            32         448.0\n",
      "11  92522    Christina Kelly            8            44         368.0\n",
      "12  22447        Brian Noble           11            39         429.0\n",
      "13  61654          Randy Key           16            38         608.0\n",
      "14  16988      Diana Stewart           14            48         728.0\n",
      "15  68619       Timothy Sosa           14            42         602.0\n",
      "16  59949      Betty Skinner           11            48         572.0\n",
      "17  81418      Janet Maxwell           12            38         456.0\n",
      "18  27267   Madison Johnston           20            37         740.0\n",
      "19  19985   Virginia Nichols           13            49         695.5\n"
     ]
    }
   ],
   "source": [
    "df = pd.read_csv('employees.csv')\n",
    "\n",
    "total_earned = lambda row: (40*row['hourly_wage']) + (row['hours_worked']-40)*(row['hourly_wage']*1.5) \\\n",
    "    if row['hours_worked'] > 40 \\\n",
    "    else ( row['hours_worked'] * row['hourly_wage'] )\n",
    "  \n",
    "df['total_earned'] = df.apply(total_earned, axis=1)\n",
    "\n",
    "print(df)"
   ]
  },
  {
   "cell_type": "markdown",
   "metadata": {},
   "source": [
    "### Renaming Columns\n",
    "When we get our data from other sources, we often want to change the column names. For example, we might want all of the column names to follow variable name rules, so that we can use df.column_name (which tab-completes) rather than df['column_name'] (which takes up extra space).\n",
    "\n",
    "You can change all of the column names at once by setting the .columns property to a different list. This is great when you need to change all of the column names at once, but be careful! You can easily mislabel columns if you get the ordering wrong\n",
    "\n",
    "The DataFrame df contains data about movies from IMDb.\n",
    "\n",
    "We want to present this data to some film producers. Right now, our column names are in lower case, and are not very descriptive. Let's modify df using the .columns attribute to make the following changes to the columns: (not shown here)"
   ]
  },
  {
   "cell_type": "code",
   "execution_count": 16,
   "metadata": {
    "scrolled": true
   },
   "outputs": [
    {
     "name": "stdout",
     "output_type": "stream",
     "text": [
      "      ID                                              Title Category  \\\n",
      "0      1                                             Avatar   action   \n",
      "1      2                                     Jurassic World   action   \n",
      "2      3                                       The Avengers   action   \n",
      "3      4                                    The Dark Knight   action   \n",
      "4      5          Star Wars: Episode I - The Phantom Menace   action   \n",
      "5      6                                          Star Wars   action   \n",
      "6      7                            Avengers: Age of Ultron   action   \n",
      "7      8                              The Dark Knight Rises   action   \n",
      "8      9          Pirates of the Caribbean: Dead Mans Chest   action   \n",
      "9     10                                         Iron Man 3   action   \n",
      "10    11                                         Spider-Man   action   \n",
      "11    12                Transformers: Revenge of the Fallen   action   \n",
      "12    13       Star Wars: Episode III - Revenge of the Sith   action   \n",
      "13    14                                       Spider-Man 2   action   \n",
      "14    15                     Transformers: Dark of the Moon   action   \n",
      "15    16                                    American Sniper   action   \n",
      "16    17                                      Furious Seven   action   \n",
      "17    18                                       Spider-Man 3   action   \n",
      "18    19                            Guardians of the Galaxy   action   \n",
      "19    20                                       Transformers   action   \n",
      "20    21                                           Iron Man   action   \n",
      "21    22  Indiana Jones and the Kingdom of the Crystal S...   action   \n",
      "22    23                                         Iron Man 2   action   \n",
      "23    24       Star Wars: Episode II - Attack of the Clones   action   \n",
      "24    25            Pirates of the Caribbean: At Worlds End   action   \n",
      "25    26         Star Wars: Episode VI - Return of the Jedi   action   \n",
      "26    27                                   Independence Day   action   \n",
      "27    28  Pirates of the Caribbean: The Curse of the Bla...   action   \n",
      "28    29                                            Skyfall   action   \n",
      "29    30                                          Inception   action   \n",
      "..   ...                                                ...      ...   \n",
      "190  191                                      The Lion King    drama   \n",
      "191  192       Harry Potter and the Deathly Hallows: Part 2    drama   \n",
      "192  193                                    The Sixth Sense    drama   \n",
      "193  194                                               Jaws    drama   \n",
      "194  195                                        I Am Legend    drama   \n",
      "195  196                                     The Blind Side    drama   \n",
      "196  197                                          Cast Away    drama   \n",
      "197  198                                              Signs    drama   \n",
      "198  199                                Saving Private Ryan    drama   \n",
      "199  200                     Dawn of the Planet of the Apes    drama   \n",
      "200  201                                       Interstellar    drama   \n",
      "201  202                                          Gladiator    drama   \n",
      "202  203                                 Dances with Wolves    drama   \n",
      "203  204                                  The Perfect Storm    drama   \n",
      "204  205                                            Lincoln    drama   \n",
      "205  206                     Rise of the Planet of the Apes    drama   \n",
      "206  207                                     The Karate Kid    drama   \n",
      "207  208                                           Rain Man    drama   \n",
      "208  209                                      Air Force One    drama   \n",
      "209  210                                          True Grit    drama   \n",
      "210  211                                   A Beautiful Mind    drama   \n",
      "211  212                                           The Help    drama   \n",
      "212  213                                   3 Men and a Baby    drama   \n",
      "213  214                                          Gone Girl    drama   \n",
      "214  215                                    Kung Fu Panda 2    drama   \n",
      "215  216                                           Hannibal    drama   \n",
      "216  217                                Catch Me If You Can    drama   \n",
      "217  218                                          Big Daddy    drama   \n",
      "218  219                                              Se7en    drama   \n",
      "219  220                                              Seven    drama   \n",
      "\n",
      "     Year Released  Rating  \n",
      "0             2009     7.9  \n",
      "1             2015     7.3  \n",
      "2             2012     8.1  \n",
      "3             2008     9.0  \n",
      "4             1999     6.6  \n",
      "5             1977     8.7  \n",
      "6             2015     7.9  \n",
      "7             2012     8.5  \n",
      "8             2006     7.3  \n",
      "9             2013     7.3  \n",
      "10            2002     7.3  \n",
      "11            2009     6.0  \n",
      "12            2005     7.7  \n",
      "13            2004     7.3  \n",
      "14            2011     6.3  \n",
      "15            2014     7.4  \n",
      "16            2015     7.4  \n",
      "17            2007     6.2  \n",
      "18            2014     8.1  \n",
      "19            2007     7.1  \n",
      "20            2008     7.9  \n",
      "21            2008     6.2  \n",
      "22            2010     7.1  \n",
      "23            2002     6.7  \n",
      "24            2007     7.1  \n",
      "25            1983     8.4  \n",
      "26            1996     6.9  \n",
      "27            2003     8.1  \n",
      "28            2012     7.8  \n",
      "29            2010     8.8  \n",
      "..             ...     ...  \n",
      "190           1994     8.5  \n",
      "191           2011     8.1  \n",
      "192           1999     8.2  \n",
      "193           1975     8.1  \n",
      "194           2007     7.2  \n",
      "195           2009     7.7  \n",
      "196           2000     7.7  \n",
      "197           2002     6.7  \n",
      "198           1998     8.6  \n",
      "199           2014     7.7  \n",
      "200           2014     8.7  \n",
      "201           2000     8.5  \n",
      "202           1990     8.0  \n",
      "203           2000     6.4  \n",
      "204           2012     7.4  \n",
      "205           2011     7.6  \n",
      "206           2010     6.2  \n",
      "207           1988     8.0  \n",
      "208           1997     6.4  \n",
      "209           2010     7.7  \n",
      "210           2001     8.2  \n",
      "211           2011     8.1  \n",
      "212           1987     5.9  \n",
      "213           2014     8.2  \n",
      "214           2011     7.3  \n",
      "215           2001     6.7  \n",
      "216           2002     8.0  \n",
      "217           1999     6.4  \n",
      "218           1995     8.6  \n",
      "219           1979     6.1  \n",
      "\n",
      "[220 rows x 5 columns]\n"
     ]
    }
   ],
   "source": [
    "df = pd.read_csv('imdb.csv')\n",
    "\n",
    "df.columns = ['ID', 'Title', 'Category', 'Year Released', 'Rating']\n",
    "\n",
    "print(df)"
   ]
  },
  {
   "cell_type": "markdown",
   "metadata": {},
   "source": [
    "### Renaming Columns II\n",
    "You also can rename individual columns by using the .rename method. Pass a dictionary like the one below to the columns keyword argument:"
   ]
  },
  {
   "cell_type": "code",
   "execution_count": 17,
   "metadata": {},
   "outputs": [],
   "source": [
    "# {'old_column_name1': 'new_column_name1', 'old_column_name2': 'new_column_name2'}"
   ]
  },
  {
   "cell_type": "markdown",
   "metadata": {},
   "source": [
    "Here's an example:"
   ]
  },
  {
   "cell_type": "code",
   "execution_count": 18,
   "metadata": {},
   "outputs": [
    {
     "data": {
      "text/plain": [
       "\"\\ndf = pd.DataFrame({\\n    'name': ['John', 'Jane', 'Sue', 'Fred'],\\n    'age': [23, 29, 21, 18]\\n})\\ndf.rename(columns={\\n    'name': 'First Name',\\n    'age': 'Age'},\\n    inplace=True)\\n\""
      ]
     },
     "execution_count": 18,
     "metadata": {},
     "output_type": "execute_result"
    }
   ],
   "source": [
    "'''\n",
    "df = pd.DataFrame({\n",
    "    'name': ['John', 'Jane', 'Sue', 'Fred'],\n",
    "    'age': [23, 29, 21, 18]\n",
    "})\n",
    "df.rename(columns={\n",
    "    'name': 'First Name',\n",
    "    'age': 'Age'},\n",
    "    inplace=True)\n",
    "'''"
   ]
  },
  {
   "cell_type": "raw",
   "metadata": {},
   "source": [
    "The code above will rename name to First Name and age to Age.\n",
    "\n",
    "Using rename with only the columns keyword will create a new DataFrame, leaving your original DataFrame unchanged. That's why we also passed in the keyword argument inplace=True. Using inplace=True lets us edit the original DataFrame.\n",
    "\n",
    "There are several reasons why .rename is preferable to .columns:\n",
    "\n",
    "    You can rename just one column\n",
    "    You can be specific about which column names are getting changed (with .column you can accidentally switch column names if you're not careful)\n",
    "Note: If you misspell one of the original column names, this command won't fail. It just won't change anything.\n",
    "\n",
    "If we didn't know that df was a table of movie ratings, the column name might be confusing.\n",
    "\n",
    "To clarify, let's rename name to movie_title.\n",
    "\n",
    "Use the keyword inplace=True so that you modify df rather than creating a new DataFrame!"
   ]
  },
  {
   "cell_type": "code",
   "execution_count": 19,
   "metadata": {
    "scrolled": true
   },
   "outputs": [
    {
     "name": "stdout",
     "output_type": "stream",
     "text": [
      "      id                                        movie_title   genre  year  \\\n",
      "0      1                                             Avatar  action  2009   \n",
      "1      2                                     Jurassic World  action  2015   \n",
      "2      3                                       The Avengers  action  2012   \n",
      "3      4                                    The Dark Knight  action  2008   \n",
      "4      5          Star Wars: Episode I - The Phantom Menace  action  1999   \n",
      "5      6                                          Star Wars  action  1977   \n",
      "6      7                            Avengers: Age of Ultron  action  2015   \n",
      "7      8                              The Dark Knight Rises  action  2012   \n",
      "8      9          Pirates of the Caribbean: Dead Mans Chest  action  2006   \n",
      "9     10                                         Iron Man 3  action  2013   \n",
      "10    11                                         Spider-Man  action  2002   \n",
      "11    12                Transformers: Revenge of the Fallen  action  2009   \n",
      "12    13       Star Wars: Episode III - Revenge of the Sith  action  2005   \n",
      "13    14                                       Spider-Man 2  action  2004   \n",
      "14    15                     Transformers: Dark of the Moon  action  2011   \n",
      "15    16                                    American Sniper  action  2014   \n",
      "16    17                                      Furious Seven  action  2015   \n",
      "17    18                                       Spider-Man 3  action  2007   \n",
      "18    19                            Guardians of the Galaxy  action  2014   \n",
      "19    20                                       Transformers  action  2007   \n",
      "20    21                                           Iron Man  action  2008   \n",
      "21    22  Indiana Jones and the Kingdom of the Crystal S...  action  2008   \n",
      "22    23                                         Iron Man 2  action  2010   \n",
      "23    24       Star Wars: Episode II - Attack of the Clones  action  2002   \n",
      "24    25            Pirates of the Caribbean: At Worlds End  action  2007   \n",
      "25    26         Star Wars: Episode VI - Return of the Jedi  action  1983   \n",
      "26    27                                   Independence Day  action  1996   \n",
      "27    28  Pirates of the Caribbean: The Curse of the Bla...  action  2003   \n",
      "28    29                                            Skyfall  action  2012   \n",
      "29    30                                          Inception  action  2010   \n",
      "..   ...                                                ...     ...   ...   \n",
      "190  191                                      The Lion King   drama  1994   \n",
      "191  192       Harry Potter and the Deathly Hallows: Part 2   drama  2011   \n",
      "192  193                                    The Sixth Sense   drama  1999   \n",
      "193  194                                               Jaws   drama  1975   \n",
      "194  195                                        I Am Legend   drama  2007   \n",
      "195  196                                     The Blind Side   drama  2009   \n",
      "196  197                                          Cast Away   drama  2000   \n",
      "197  198                                              Signs   drama  2002   \n",
      "198  199                                Saving Private Ryan   drama  1998   \n",
      "199  200                     Dawn of the Planet of the Apes   drama  2014   \n",
      "200  201                                       Interstellar   drama  2014   \n",
      "201  202                                          Gladiator   drama  2000   \n",
      "202  203                                 Dances with Wolves   drama  1990   \n",
      "203  204                                  The Perfect Storm   drama  2000   \n",
      "204  205                                            Lincoln   drama  2012   \n",
      "205  206                     Rise of the Planet of the Apes   drama  2011   \n",
      "206  207                                     The Karate Kid   drama  2010   \n",
      "207  208                                           Rain Man   drama  1988   \n",
      "208  209                                      Air Force One   drama  1997   \n",
      "209  210                                          True Grit   drama  2010   \n",
      "210  211                                   A Beautiful Mind   drama  2001   \n",
      "211  212                                           The Help   drama  2011   \n",
      "212  213                                   3 Men and a Baby   drama  1987   \n",
      "213  214                                          Gone Girl   drama  2014   \n",
      "214  215                                    Kung Fu Panda 2   drama  2011   \n",
      "215  216                                           Hannibal   drama  2001   \n",
      "216  217                                Catch Me If You Can   drama  2002   \n",
      "217  218                                          Big Daddy   drama  1999   \n",
      "218  219                                              Se7en   drama  1995   \n",
      "219  220                                              Seven   drama  1979   \n",
      "\n",
      "     imdb_rating  \n",
      "0            7.9  \n",
      "1            7.3  \n",
      "2            8.1  \n",
      "3            9.0  \n",
      "4            6.6  \n",
      "5            8.7  \n",
      "6            7.9  \n",
      "7            8.5  \n",
      "8            7.3  \n",
      "9            7.3  \n",
      "10           7.3  \n",
      "11           6.0  \n",
      "12           7.7  \n",
      "13           7.3  \n",
      "14           6.3  \n",
      "15           7.4  \n",
      "16           7.4  \n",
      "17           6.2  \n",
      "18           8.1  \n",
      "19           7.1  \n",
      "20           7.9  \n",
      "21           6.2  \n",
      "22           7.1  \n",
      "23           6.7  \n",
      "24           7.1  \n",
      "25           8.4  \n",
      "26           6.9  \n",
      "27           8.1  \n",
      "28           7.8  \n",
      "29           8.8  \n",
      "..           ...  \n",
      "190          8.5  \n",
      "191          8.1  \n",
      "192          8.2  \n",
      "193          8.1  \n",
      "194          7.2  \n",
      "195          7.7  \n",
      "196          7.7  \n",
      "197          6.7  \n",
      "198          8.6  \n",
      "199          7.7  \n",
      "200          8.7  \n",
      "201          8.5  \n",
      "202          8.0  \n",
      "203          6.4  \n",
      "204          7.4  \n",
      "205          7.6  \n",
      "206          6.2  \n",
      "207          8.0  \n",
      "208          6.4  \n",
      "209          7.7  \n",
      "210          8.2  \n",
      "211          8.1  \n",
      "212          5.9  \n",
      "213          8.2  \n",
      "214          7.3  \n",
      "215          6.7  \n",
      "216          8.0  \n",
      "217          6.4  \n",
      "218          8.6  \n",
      "219          6.1  \n",
      "\n",
      "[220 rows x 5 columns]\n"
     ]
    }
   ],
   "source": [
    "df = pd.read_csv('imdb.csv')\n",
    "\n",
    "df.rename(columns={\n",
    "    'name' : 'movie_title'},\n",
    "    inplace=True)\n",
    "\n",
    "print(df)"
   ]
  },
  {
   "cell_type": "markdown",
   "metadata": {},
   "source": [
    "### Review\n",
    "Great job! In this lesson, you learned how to modify an existing DataFrame. Some of the skills you've learned include:\n",
    "\n",
    "Adding columns to a DataFrame\n",
    "Using lambda functions to calculate complex quantities\n",
    "Renaming columns\n",
    "Let's practice what you just learned!\n",
    "\n",
    "Once more, you'll be the data analyst for ShoeFly.com, a fictional online shoe store.\n",
    "\n",
    "More messy order data has been loaded into the variable orders. Examine the first 5 rows of the data using print and head.\n",
    "\n",
    "Many of our customers want to buy vegan shoes (shoes made from materials that do not come from animals). Add a new column called shoe_source, which is vegan if the materials is not leather and animal otherwise.\n",
    "\n",
    "Our marketing department wants to send out an email to each customer. Using the columns last_name and gender create a column called salutation which contains Dear Mr. <last_name> for men and Dear Ms. <last_name> for women."
   ]
  },
  {
   "cell_type": "code",
   "execution_count": 22,
   "metadata": {},
   "outputs": [
    {
     "data": {
      "text/plain": [
       "\"\\norders = pd.read_csv('shoefly.csv')\\n\\norders['shoe_source'] = orders.apply(lambda row: 'vegan'\\n    if row['shoe_material'] != 'leather'\\n    else 'animal',\\n    axis=1\\n)\\n\\norders['salutation'] = orders.apply(lambda row: 'Dear Mr. ' + row['last_name']\\n    if row['gender'] == 'male'\\n    else 'Dear Ms. ' + row['last_name'],        \\n    axis=1\\n)\\nprint(orders.head(5))\\n\""
      ]
     },
     "execution_count": 22,
     "metadata": {},
     "output_type": "execute_result"
    }
   ],
   "source": [
    "'''\n",
    "orders = pd.read_csv('shoefly.csv')\n",
    "\n",
    "orders['shoe_source'] = orders.apply(lambda row: 'vegan'\n",
    "    if row['shoe_material'] != 'leather'\n",
    "    else 'animal',\n",
    "    axis=1\n",
    ")\n",
    "\n",
    "orders['salutation'] = orders.apply(lambda row: 'Dear Mr. ' + row['last_name']\n",
    "    if row['gender'] == 'male'\n",
    "    else 'Dear Ms. ' + row['last_name'],        \n",
    "    axis=1\n",
    ")\n",
    "print(orders.head(5))\n",
    "'''"
   ]
  },
  {
   "cell_type": "code",
   "execution_count": null,
   "metadata": {},
   "outputs": [],
   "source": []
  }
 ],
 "metadata": {
  "kernelspec": {
   "display_name": "Python 3",
   "language": "python",
   "name": "python3"
  },
  "language_info": {
   "codemirror_mode": {
    "name": "ipython",
    "version": 3
   },
   "file_extension": ".py",
   "mimetype": "text/x-python",
   "name": "python",
   "nbconvert_exporter": "python",
   "pygments_lexer": "ipython3",
   "version": "3.6.3"
  }
 },
 "nbformat": 4,
 "nbformat_minor": 2
}
