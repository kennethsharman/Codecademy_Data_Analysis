{
 "cells": [
  {
   "cell_type": "markdown",
   "metadata": {},
   "source": [
    "### The Pandas Module\n",
    "Pandas is a Python module for working with tabular data (i.e., data in a table with rows and columns). Tabular data has a lot of the same functionality as SQL or Excel, but Pandas adds the power of Python."
   ]
  },
  {
   "cell_type": "code",
   "execution_count": 1,
   "metadata": {},
   "outputs": [],
   "source": [
    "import pandas as pd"
   ]
  },
  {
   "cell_type": "markdown",
   "metadata": {},
   "source": [
    "### Create a DataFrame I\n",
    "A DataFrame is an object that stores data as rows and columns. You can think of a DataFrame as a spreadsheet or as a SQL table. You can manually create a DataFrame or fill it with data from a CSV, an Excel spreadsheet, or a SQL query.\n",
    "\n",
    "DataFrames have rows and columns. Each column has a name, which is a string. Each row has an index, which is an integer. DataFrames can contain many different data types: strings, ints, floats, tuples, etc.\n",
    "\n",
    "You can pass in a dictionary to pd.DataFrame. Each key is a column name and each value is a list of column values. The columns must all be the same length or you will get an error. Here’s an example:"
   ]
  },
  {
   "cell_type": "code",
   "execution_count": 2,
   "metadata": {},
   "outputs": [],
   "source": [
    "df1 = pd.DataFrame({\n",
    "    'name': ['John Smith', 'Jane Doe', 'Joe Schmo'],\n",
    "    'address': ['123 Main St.', '456 Maple Ave.', '789 Broadway'],\n",
    "    'age': [34, 28, 51]\n",
    "})"
   ]
  },
  {
   "cell_type": "markdown",
   "metadata": {},
   "source": [
    "You run an online clothing store called Panda's Wardrobe. You need a DataFrame containing information about your products."
   ]
  },
  {
   "cell_type": "code",
   "execution_count": 3,
   "metadata": {},
   "outputs": [
    {
     "name": "stdout",
     "output_type": "stream",
     "text": [
      "   Color  Product ID Product Name\n",
      "0   blue           1      t-shirt\n",
      "1  green           2      t-shirt\n",
      "2    red           3        skirt\n",
      "3  black           4        skirt\n"
     ]
    }
   ],
   "source": [
    "df1 = pd.DataFrame({\n",
    "  'Product ID': [1, 2, 3, 4],\n",
    "  'Product Name': ['t-shirt', 't-shirt', 'skirt', 'skirt'],\n",
    "  'Color': ['blue', 'green', 'red', 'black']\n",
    "})\n",
    "\n",
    "print(df1)"
   ]
  },
  {
   "cell_type": "markdown",
   "metadata": {},
   "source": [
    "### Create a DataFrame II\n",
    "You can also add data using lists.\n",
    "\n",
    "For example, you can pass in a list of lists, where each one represents a row of data. Use the keyword argument columns to pass a list of column names."
   ]
  },
  {
   "cell_type": "code",
   "execution_count": 4,
   "metadata": {},
   "outputs": [],
   "source": [
    "df2 = pd.DataFrame([\n",
    "    ['John Smith', '123 Main St.', 34],\n",
    "    ['Jane Doe', '456 Maple Ave.', 28],\n",
    "    ['Joe Schmo', '789 Broadway', 51]\n",
    "    ],\n",
    "    columns=['name', 'address', 'age'])"
   ]
  },
  {
   "cell_type": "markdown",
   "metadata": {},
   "source": [
    "You're running a chain of pita shops called Pita Power. You want to create a DataFrame with information on your different store locations."
   ]
  },
  {
   "cell_type": "code",
   "execution_count": 5,
   "metadata": {},
   "outputs": [
    {
     "name": "stdout",
     "output_type": "stream",
     "text": [
      "   Store ID       Location  Number of Employees\n",
      "0         1      San Diego                  100\n",
      "1         2    Los Angeles                  120\n",
      "2         3  San Francisco                   90\n",
      "3         4     Sacramento                  115\n"
     ]
    }
   ],
   "source": [
    "df2 = pd.DataFrame([\n",
    "  [1, 'San Diego', 100],\n",
    "  [2, 'Los Angeles', 120],\n",
    "  [3, 'San Francisco', 90],\n",
    "  [4, 'Sacramento', 115]\n",
    "],\n",
    "  columns=['Store ID', 'Location', 'Number of Employees'])\n",
    "\n",
    "print(df2)"
   ]
  },
  {
   "cell_type": "markdown",
   "metadata": {},
   "source": [
    "### Comma Separated Variables (CSV)\n",
    "We now know how to create our own DataFrame. However, most of the time, we'll be working with datasets that already exist. One of the most common formats for big datasets is the CSV.\n",
    "\n",
    "CSV (comma separated values) is a text-only spreadsheet format.\n",
    "\n",
    "### Loading and Saving CSVs\n",
    "When you have data in a CSV, you can load it into a DataFrame in Pandas using .read_csv():"
   ]
  },
  {
   "cell_type": "code",
   "execution_count": 6,
   "metadata": {},
   "outputs": [],
   "source": [
    "# pd.read_csv('my-csv-file.csv')"
   ]
  },
  {
   "cell_type": "markdown",
   "metadata": {},
   "source": [
    "In the example above, the .read_csv() method is called. The CSV file called my-csv-file is passed in as an argument.\n",
    "\n",
    "We can also save data to a CSV, using .to_csv."
   ]
  },
  {
   "cell_type": "code",
   "execution_count": 7,
   "metadata": {},
   "outputs": [],
   "source": [
    "# df.to_csv('new-csv-file.csv')"
   ]
  },
  {
   "cell_type": "markdown",
   "metadata": {},
   "source": [
    "In the example above, the .to_csv() method is called on df (which represents a DataFrame object). The name of the CSV file is passed in as an argument (new-csv-file.csv). By default, this method will save the CSV file in your current directory.\n",
    "\n",
    "You're working for the County of Whoville and you just received a CSV of data about the different cities in your county. Read the CSV 'sample.csv' into a variable called df, so that you can learn more about the cities.\n",
    "\n",
    "Let's inspect the CSV.\n",
    "\n",
    "Type print(df) on the next line and then run your code. What sort of data were you sent?"
   ]
  },
  {
   "cell_type": "code",
   "execution_count": 8,
   "metadata": {},
   "outputs": [
    {
     "name": "stdout",
     "output_type": "stream",
     "text": [
      "            City  Population  Median Age\n",
      "0      Maplewood      100000          40\n",
      "1          Wayne      350000          33\n",
      "2  Forrest Hills      300000          35\n",
      "3        Paramus      400000          55\n",
      "4     Hackensack      290000          39\n"
     ]
    }
   ],
   "source": [
    "df = pd.read_csv('sample.csv')\n",
    "print(df)"
   ]
  },
  {
   "cell_type": "markdown",
   "metadata": {},
   "source": [
    "### Inspect a DataFrame\n",
    "When we load a new DataFrame from a CSV, we want to know what it looks like.\n",
    "\n",
    "If it's a small DataFrame, you can display it by typing print(df).\n",
    "\n",
    "If it's a larger DataFrame, it's helpful to be able to inspect a few items without having to look at the entire DataFrame.\n",
    "\n",
    "The method .head() gives the first 5 rows of a DataFrame. If you want to see more rows, you can pass in the positional argument n. For example, df.head(10) would show the first 10 rows.\n",
    "\n",
    "The method df.info() gives some statistics for each column.\n",
    "\n",
    "ou're working for a Hollywood studio, trying to use data to predict the next big hit. Load the CSV imdb.csv into a variable called df, so that you can learn about popular movies from the past 90 years."
   ]
  },
  {
   "cell_type": "code",
   "execution_count": 9,
   "metadata": {},
   "outputs": [],
   "source": [
    "df = pd.read_csv('imdb.csv')"
   ]
  },
  {
   "cell_type": "code",
   "execution_count": 10,
   "metadata": {},
   "outputs": [
    {
     "name": "stdout",
     "output_type": "stream",
     "text": [
      "   id    name   genre  year  imdb_rating\n",
      "0   1  Avatar  action  2009          7.9\n"
     ]
    }
   ],
   "source": [
    "print(df.head(1))"
   ]
  },
  {
   "cell_type": "code",
   "execution_count": 11,
   "metadata": {},
   "outputs": [
    {
     "name": "stdout",
     "output_type": "stream",
     "text": [
      "   id                                       name   genre  year  imdb_rating\n",
      "0   1                                     Avatar  action  2009          7.9\n",
      "1   2                             Jurassic World  action  2015          7.3\n",
      "2   3                               The Avengers  action  2012          8.1\n",
      "3   4                            The Dark Knight  action  2008          9.0\n",
      "4   5  Star Wars: Episode I - The Phantom Menace  action  1999          6.6\n"
     ]
    }
   ],
   "source": [
    "print(df.head())"
   ]
  },
  {
   "cell_type": "markdown",
   "metadata": {},
   "source": [
    "### Select Columns\n",
    "Now we know how to create and load data. Let's select parts of those datasets that are interesting or important to our analyses.\n",
    "\n",
    "Perhaps you want to take the average or plot a histogram of the ages. In order to do either of these tasks, you'd need to select the column.\n",
    "\n",
    "There are two possible syntaxes for selecting all values from a column.\n",
    "\n",
    "    Select the column as if you were selecting a value from a dictionary using a key. In our example, we would type customers['age'] to select the ages.\n",
    "    If the name of a column follows all of the rules for a variable name (doesn't start with a number, doesn't contain spaces or special characters, etc.), then you can select it using the following notation: df.MySecondColumn. In our example, we would type customers.age.\n",
    "    \n",
    "The DataFrame df represents data collected by four health clinics run by the same organization. Each row represents a month from January through June and shows the number of appointments made at four different clinics.\n",
    "\n",
    "You want to analyze what's been happening at the North location. Create a variable called clinic_north that contains ONLY the data from the column clinic_north."
   ]
  },
  {
   "cell_type": "code",
   "execution_count": 12,
   "metadata": {},
   "outputs": [
    {
     "name": "stdout",
     "output_type": "stream",
     "text": [
      "<class 'pandas.core.series.Series'>\n",
      "<class 'pandas.core.frame.DataFrame'>\n"
     ]
    }
   ],
   "source": [
    "df = pd.DataFrame([\n",
    "  ['January', 100, 100, 23, 100],\n",
    "  ['February', 51, 45, 145, 45],\n",
    "  ['March', 81, 96, 65, 96],\n",
    "  ['April', 80, 80, 54, 180],\n",
    "  ['May', 51, 54, 54, 154],\n",
    "  ['June', 112, 109, 79, 129]],\n",
    "  columns=['month', 'clinic_east',\n",
    "           'clinic_north', 'clinic_south',\n",
    "           'clinic_west']\n",
    ")\n",
    "\n",
    "clinic_north = df['clinic_north']\n",
    "print(type(clinic_north))\n",
    "print(type(df))"
   ]
  },
  {
   "cell_type": "markdown",
   "metadata": {},
   "source": [
    "### Selecting Multiple Columns\n",
    "When you have a larger DataFrame, you might want to select just a few columns.\n",
    "\n",
    "To select two or more columns from a DataFrame, we use a list of the column names. To create the DataFrame shown above, we would use:"
   ]
  },
  {
   "cell_type": "code",
   "execution_count": 13,
   "metadata": {},
   "outputs": [],
   "source": [
    "# new_df = orders[['last_name', 'email']]"
   ]
  },
  {
   "cell_type": "markdown",
   "metadata": {},
   "source": [
    "Now, you want to compare visits to the Northern and Southern clinics.\n",
    "\n",
    "Create a variable called clinic_north_south that contains ONLY the data from the columns clinic_north and clinic_south."
   ]
  },
  {
   "cell_type": "code",
   "execution_count": 14,
   "metadata": {},
   "outputs": [
    {
     "name": "stdout",
     "output_type": "stream",
     "text": [
      "<class 'pandas.core.frame.DataFrame'>\n"
     ]
    }
   ],
   "source": [
    "df = pd.DataFrame([\n",
    "  ['January', 100, 100, 23, 100],\n",
    "  ['February', 51, 45, 145, 45],\n",
    "  ['March', 81, 96, 65, 96],\n",
    "  ['April', 80, 80, 54, 180],\n",
    "  ['May', 51, 54, 54, 154],\n",
    "  ['June', 112, 109, 79, 129]],\n",
    "  columns=['month', 'clinic_east',\n",
    "           'clinic_north', 'clinic_south',\n",
    "           'clinic_west']\n",
    ")\n",
    "\n",
    "clinic_north_south = df[ ['clinic_north', 'clinic_south'] ]\n",
    "print(type(clinic_north_south))"
   ]
  },
  {
   "cell_type": "markdown",
   "metadata": {},
   "source": [
    "You're getting ready to staff the clinic for March this year. You want to know how many visits took place in March last year, to help you prepare.\n",
    "\n",
    "Write a command that will produce a Series made up of the March data from df from all four clinic sites and save it to the variable march."
   ]
  },
  {
   "cell_type": "code",
   "execution_count": 15,
   "metadata": {},
   "outputs": [
    {
     "name": "stdout",
     "output_type": "stream",
     "text": [
      "month           March\n",
      "clinic_east        81\n",
      "clinic_north       96\n",
      "clinic_south       65\n",
      "clinic_west        96\n",
      "Name: 2, dtype: object\n"
     ]
    }
   ],
   "source": [
    "# Remember that DataFrames are zero-indexed. The first row is accessed using df.iloc[0].\n",
    "\n",
    "march = df.iloc[2]\n",
    "print(march)"
   ]
  },
  {
   "cell_type": "markdown",
   "metadata": {},
   "source": [
    "### Selecting Multiple Rows\n",
    "You can also select multiple rows from a DataFrame.\n",
    "\n",
    "One of your doctors thinks that there are more clinic visits in the late Spring.\n",
    "\n",
    "Write a command that will produce a DataFrame made up of the data for April, May, and June from df for all four sites (rows 3 through 6), and save it to april_may_june."
   ]
  },
  {
   "cell_type": "code",
   "execution_count": 16,
   "metadata": {},
   "outputs": [
    {
     "name": "stdout",
     "output_type": "stream",
     "text": [
      "   month  clinic_east  clinic_north  clinic_south  clinic_west\n",
      "3  April           80            80            54          180\n",
      "4    May           51            54            54          154\n",
      "5   June          112           109            79          129\n"
     ]
    }
   ],
   "source": [
    "april_may_june = df.iloc[3:7]\n",
    "print(april_may_june)"
   ]
  },
  {
   "cell_type": "markdown",
   "metadata": {},
   "source": [
    "### Select Rows with Logic I\n",
    "You can select a subset of a DataFrame by using logical statements:"
   ]
  },
  {
   "cell_type": "code",
   "execution_count": 17,
   "metadata": {},
   "outputs": [],
   "source": [
    "# df[df.MyColumnName == desired_column_value]"
   ]
  },
  {
   "cell_type": "markdown",
   "metadata": {},
   "source": [
    "You're going to staff the clinic for January of this year. You want to know how many visits took place in January of last year, to help you prepare.\n",
    "\n",
    "Create variable january using a logical statement that selects the row of df where the 'month' column is 'January'."
   ]
  },
  {
   "cell_type": "code",
   "execution_count": 18,
   "metadata": {},
   "outputs": [
    {
     "name": "stdout",
     "output_type": "stream",
     "text": [
      "     month  clinic_east  clinic_north  clinic_south  clinic_west\n",
      "0  January          100           100            23          100\n"
     ]
    }
   ],
   "source": [
    "january = df[df.month == 'January']\n",
    "print(january)"
   ]
  },
  {
   "cell_type": "markdown",
   "metadata": {},
   "source": [
    "Select Rows with Logic II\n",
    "You can also combine multiple logical statements, as long as each statement is in parentheses.\n",
    "\n",
    "You want to see how the number of clinic visits changed between March and April.\n",
    "\n",
    "Create the variable march_april, which contains the data from March and April. Do this using two logical statements combined using |, which means \"or\"."
   ]
  },
  {
   "cell_type": "code",
   "execution_count": 19,
   "metadata": {},
   "outputs": [
    {
     "name": "stdout",
     "output_type": "stream",
     "text": [
      "   month  clinic_east  clinic_north  clinic_south  clinic_west\n",
      "2  March           81            96            65           96\n",
      "3  April           80            80            54          180\n"
     ]
    }
   ],
   "source": [
    "march_april = df[ (df.month == 'March') | (df.month == 'April') ]\n",
    "print(march_april)"
   ]
  },
  {
   "cell_type": "markdown",
   "metadata": {},
   "source": [
    "### Select Rows with Logic III\n",
    "Suppose we want to select the rows where the customer's name is either \"Martha Jones\", \"Rose Tyler\" or \"Amy Pond\"."
   ]
  },
  {
   "cell_type": "code",
   "execution_count": 20,
   "metadata": {},
   "outputs": [],
   "source": [
    "#df[df.name.isin(['Martha Jones',\n",
    "#     'Rose Tyler',\n",
    "#     'Amy Pond'])]"
   ]
  },
  {
   "cell_type": "markdown",
   "metadata": {},
   "source": [
    "Another doctor thinks that you have a lot of clinic visits in the late Winter.\n",
    "\n",
    "Create the variable january_february_march, containing the data from January, February, and March. Do this using a single logical statement with the isin command."
   ]
  },
  {
   "cell_type": "code",
   "execution_count": 21,
   "metadata": {},
   "outputs": [
    {
     "name": "stdout",
     "output_type": "stream",
     "text": [
      "      month  clinic_east  clinic_north  clinic_south  clinic_west\n",
      "0   January          100           100            23          100\n",
      "1  February           51            45           145           45\n",
      "2     March           81            96            65           96\n"
     ]
    }
   ],
   "source": [
    "january_february_march = df[df.month.isin(['January', 'February', 'March'])]\n",
    "print(january_february_march)"
   ]
  },
  {
   "cell_type": "markdown",
   "metadata": {},
   "source": [
    "### Setting indices\n",
    "When we select a subset of a DataFrame using logic, we end up with non-consecutive indices. This is inelegant and makes it hard to use .iloc.\n",
    "\n",
    "We can fix this using the method .reset_index().\n",
    "\n",
    "Note that the old indices have been moved into a new column called 'index'. Unless you need those values for something special, it's probably better to use the keyword drop=True so that you don't end up with that extra column.\n",
    "\n",
    "Examine the code in the workspace. Note that df2 is a subset of rows from df."
   ]
  },
  {
   "cell_type": "code",
   "execution_count": 22,
   "metadata": {},
   "outputs": [
    {
     "name": "stdout",
     "output_type": "stream",
     "text": [
      "      month  clinic_east  clinic_north  clinic_south  clinic_west\n",
      "1  February           51            45           145           45\n",
      "3     April           80            80            54          180\n",
      "5      June          112           109            79          129\n"
     ]
    }
   ],
   "source": [
    "df2 = df.loc[[1, 3, 5]]\n",
    "print(df2)"
   ]
  },
  {
   "cell_type": "markdown",
   "metadata": {},
   "source": [
    "Create a new DataFrame called df3 by resetting the indices on df2 (don't use inplace or drop). Did df2 change after you ran this command?\n",
    "\n",
    "Reset the indices of df2 by using the keyword inplace=True and drop=True. Did the indices of df2 change? How is df2 different from df3?"
   ]
  },
  {
   "cell_type": "code",
   "execution_count": 23,
   "metadata": {},
   "outputs": [
    {
     "name": "stdout",
     "output_type": "stream",
     "text": [
      "   index     month  clinic_east  clinic_north  clinic_south  clinic_west\n",
      "0      1  February           51            45           145           45\n",
      "1      3     April           80            80            54          180\n",
      "2      5      June          112           109            79          129\n",
      "      month  clinic_east  clinic_north  clinic_south  clinic_west\n",
      "0  February           51            45           145           45\n",
      "1     April           80            80            54          180\n",
      "2      June          112           109            79          129\n"
     ]
    }
   ],
   "source": [
    "df3 = df2.reset_index()\n",
    "df2.reset_index(inplace=True, drop=True)\n",
    "print(df3)\n",
    "print(df2)"
   ]
  },
  {
   "cell_type": "markdown",
   "metadata": {},
   "source": [
    "### Review\n",
    "You've completed the lesson! You've just learned the basics of working with a single table in Pandas, including:\n",
    "\n",
    "    Create a table from scratch\n",
    "    Loading data from another file\n",
    "    Selecting certain rows or columns of a table\n",
    "Let's practice what you've learned.\n",
    "\n",
    "In this example, you'll be the data analyst for ShoeFly.com, a fictional online shoe store. You've seen this data; now it's your turn to work with it!\n",
    "\n",
    "Load the data from shoefly.csv into the variable orders."
   ]
  },
  {
   "cell_type": "code",
   "execution_count": 24,
   "metadata": {},
   "outputs": [],
   "source": [
    "orders = pd.read_csv('shoefly.csv')"
   ]
  },
  {
   "cell_type": "markdown",
   "metadata": {},
   "source": [
    "Inspect the first 5 lines of the data."
   ]
  },
  {
   "cell_type": "code",
   "execution_count": 25,
   "metadata": {},
   "outputs": [
    {
     "name": "stdout",
     "output_type": "stream",
     "text": [
      "      id first_name last_name                         email     shoe_type  \\\n",
      "0  54791    Rebecca   Lindsay  RebeccaLindsay57@hotmail.com         clogs   \n",
      "1  53450      Emily     Joyce        EmilyJoyce25@gmail.com  ballet flats   \n",
      "2  91987      Joyce    Waller        Joyce.Waller@gmail.com       sandals   \n",
      "3  14437     Justin  Erickson   Justin.Erickson@outlook.com         clogs   \n",
      "4  79357     Andrew     Banks              AB4318@gmail.com         boots   \n",
      "5  52386      Julie     Marsh        JulieMarsh59@gmail.com       sandals   \n",
      "\n",
      "  shoe_material shoe_color  \n",
      "0  faux-leather      black  \n",
      "1  faux-leather       navy  \n",
      "2        fabric      black  \n",
      "3  faux-leather        red  \n",
      "4       leather      brown  \n",
      "5        fabric      black  \n"
     ]
    }
   ],
   "source": [
    "print(orders[:6])"
   ]
  },
  {
   "cell_type": "markdown",
   "metadata": {},
   "source": [
    "Your marketing department wants to send out an email blast to everyone who ordered shoes!\n",
    "\n",
    "Select all of the email addresses from the column email and save them to a variable called emails."
   ]
  },
  {
   "cell_type": "code",
   "execution_count": 26,
   "metadata": {},
   "outputs": [],
   "source": [
    "emails = orders['email']"
   ]
  },
  {
   "cell_type": "markdown",
   "metadata": {},
   "source": [
    "Frances Palmer claims that her order was wrong. What did Frances Palmer order?\n",
    "\n",
    "Use logic to select that row of orders and save it to the variable frances_palmer."
   ]
  },
  {
   "cell_type": "code",
   "execution_count": 27,
   "metadata": {},
   "outputs": [
    {
     "name": "stdout",
     "output_type": "stream",
     "text": [
      "      id first_name last_name                      email shoe_type  \\\n",
      "9  62083    Frances    Palmer  FrancesPalmer50@gmail.com    wedges   \n",
      "\n",
      "  shoe_material shoe_color  \n",
      "9       leather      white  \n"
     ]
    }
   ],
   "source": [
    "frances_palmer = orders[orders.first_name == 'Frances']\n",
    "print(frances_palmer)"
   ]
  },
  {
   "cell_type": "markdown",
   "metadata": {},
   "source": [
    "We need some customer reviews for our comfortable shoes. Select all orders for shoe_type: clogs, boots, and ballet flats and save them to the variable comfy_shoes."
   ]
  },
  {
   "cell_type": "code",
   "execution_count": 28,
   "metadata": {},
   "outputs": [
    {
     "name": "stdout",
     "output_type": "stream",
     "text": [
      "       id first_name   last_name                         email     shoe_type  \\\n",
      "0   54791    Rebecca     Lindsay  RebeccaLindsay57@hotmail.com         clogs   \n",
      "1   53450      Emily       Joyce        EmilyJoyce25@gmail.com  ballet flats   \n",
      "3   14437     Justin    Erickson   Justin.Erickson@outlook.com         clogs   \n",
      "4   79357     Andrew       Banks              AB4318@gmail.com         boots   \n",
      "6   20487     Thomas      Jensen              TJ5470@gmail.com         clogs   \n",
      "7   76971     Janice       Hicks        Janice.Hicks@gmail.com         clogs   \n",
      "8   21586    Gabriel      Porter     GabrielPorter24@gmail.com         clogs   \n",
      "10  91629    Jessica        Hale       JessicaHale25@gmail.com         clogs   \n",
      "12  45832      Susan      Dennis       SusanDennis58@gmail.com  ballet flats   \n",
      "14  73431    Rebecca     Charles     Rebecca.Charles@gmail.com         boots   \n",
      "16  39888    Vincent  Stephenson            VS4753@outlook.com         boots   \n",
      "17  35961        Roy     Tillman        RoyTillman20@gmail.com         boots   \n",
      "\n",
      "   shoe_material shoe_color  \n",
      "0   faux-leather      black  \n",
      "1   faux-leather       navy  \n",
      "3   faux-leather        red  \n",
      "4        leather      brown  \n",
      "6         fabric       navy  \n",
      "7   faux-leather       navy  \n",
      "8        leather      brown  \n",
      "10       leather        red  \n",
      "12        fabric      white  \n",
      "14  faux-leather      white  \n",
      "16       leather      black  \n",
      "17       leather      white  \n"
     ]
    }
   ],
   "source": [
    "comfy_shoes = orders[orders.shoe_type.isin(['clogs', 'boots', 'ballet flats'])]\n",
    "print(comfy_shoes)"
   ]
  },
  {
   "cell_type": "code",
   "execution_count": null,
   "metadata": {},
   "outputs": [],
   "source": []
  }
 ],
 "metadata": {
  "kernelspec": {
   "display_name": "Python 3",
   "language": "python",
   "name": "python3"
  },
  "language_info": {
   "codemirror_mode": {
    "name": "ipython",
    "version": 3
   },
   "file_extension": ".py",
   "mimetype": "text/x-python",
   "name": "python",
   "nbconvert_exporter": "python",
   "pygments_lexer": "ipython3",
   "version": "3.6.3"
  }
 },
 "nbformat": 4,
 "nbformat_minor": 2
}
