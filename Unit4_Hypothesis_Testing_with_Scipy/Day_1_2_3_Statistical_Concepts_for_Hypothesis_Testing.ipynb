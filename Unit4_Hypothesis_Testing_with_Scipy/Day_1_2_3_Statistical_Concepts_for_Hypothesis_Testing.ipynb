{
 "cells": [
  {
   "cell_type": "markdown",
   "metadata": {},
   "source": [
    "Data analysts attempt to say meaningful things about the persuasions of people. Often, we want to know if a change or difference we see in a dataset is \"real\" or if it’s just a normal fluctuation or a result of the specific sample of people we have chosen to measure. A difference we observe in our data is only important if we can be reasonably sure that it is representative of the population as a whole, and reasonably sure that our result is repeatable.\n",
    "\n",
    "This question of whether a difference is significant or not is essential to making decisions based on that difference. Some instances where this might come up include:\n",
    "\n",
    "    Performing an A/B test — are the different observations really the results of different conditions (i.e., Condition A vs. Condition B)? Or just the result of random chance?\n",
    "    Conducting a survey — is the fact that men gave slightly different responses than women a real difference between men and women? Or just the result of chance?\n",
    "In this lesson, we will cover the fundamental concepts that will help us create tests to measure our confidence in our statistical results:\n",
    "\n",
    "    Sample means and population means\n",
    "    The Central Limit Theorem\n",
    "    Why we use hypothesis tests\n",
    "    What errors we can come across and how to classify them"
   ]
  },
  {
   "cell_type": "markdown",
   "metadata": {},
   "source": [
    "### Sample Mean and Population Mean\n",
    "Suppose you want to know the average height of an oak tree in your local park. On Monday, you measure 10 trees and get an average height of 32 ft. On Tuesday, you measure 12 different trees and reach an average height of 35 ft. On Wednesday, you measure the remaining 11 trees in the park, whose average height is 31 ft. Overall, the average height for all trees in your local park is 32.8 ft.\n",
    "\n",
    "The individual measurements on Monday, Tuesday, and Wednesday are called samples. A sample is a subset of the entire population. The mean of each sample is the sample mean and it is an estimate of the population mean.\n",
    "\n",
    "Note that the sample means (32 ft., 35 ft., and 31 ft.) were all close to the population mean (32.8 ft.), but were all slightly different from the population mean and from each other.\n",
    "\n",
    "For a population, the mean is a constant value no matter how many times it's recalculated. But with a set of samples, the mean will depend on exactly what samples we happened to choose. From a sample mean, we can then extrapolate the mean of the population as a whole. There are many reasons we might use sampling, such as:\n",
    "\n",
    "    We don't have data for the whole population.\n",
    "    We have the whole population data, but it is so large that it is infeasible to analyze.\n",
    "    We can provide meaningful answers to questions faster with sampling.\n",
    "When we have a numerical dataset and want to know the average value, we calculate the mean. For a population, the mean is a constant value no matter how many times it's recalculated. But with a set of samples, the mean will depend on exactly what samples we happened to choose. From a sample mean, we can then extrapolate the mean of the population as a whole."
   ]
  },
  {
   "cell_type": "markdown",
   "metadata": {},
   "source": [
    "In the workspace, we've generated random samples from a population with a given population mean. We are going to look at how the means of different samples can vary within the same population.\n",
    "\n",
    "Run the code to print out the population mean and the mean of sample_1."
   ]
  },
  {
   "cell_type": "code",
   "execution_count": 8,
   "metadata": {},
   "outputs": [
    {
     "name": "stdout",
     "output_type": "stream",
     "text": [
      "Population Mean:  65.04324041730084\n",
      "Sample 1 Mean:  64.23535430585692\n",
      "Sample 2 Mean:  65.44485537615084\n",
      "Sample 3 Mean:  65.95791298037992\n",
      "Sample 4 Mean:  64.4990423672534\n",
      "Sample 5 Mean:  65.91164125834875\n"
     ]
    }
   ],
   "source": [
    "import numpy as np\n",
    "\n",
    "population = np.random.normal(loc=65, scale=3.5, size=300)\n",
    "population_mean = np.mean(population)\n",
    "\n",
    "print(\"Population Mean: \", population_mean)\n",
    "\n",
    "sample_1 = np.random.choice(population, size=30, replace=False)\n",
    "sample_2 = np.random.choice(population, size=30, replace=False)\n",
    "sample_3 = np.random.choice(population, size=30, replace=False)\n",
    "sample_4 = np.random.choice(population, size=30, replace=False)\n",
    "sample_5 = np.random.choice(population, size=30, replace=False)\n",
    "\n",
    "sample_1_mean = np.mean(sample_1)\n",
    "print(\"Sample 1 Mean: \", sample_1_mean)\n",
    "\n",
    "sample_2_mean = np.mean(sample_2)\n",
    "sample_3_mean = np.mean(sample_3)\n",
    "sample_4_mean = np.mean(sample_4)\n",
    "sample_5_mean = np.mean(sample_5)\n",
    "\n",
    "print(\"Sample 2 Mean: \", sample_2_mean)\n",
    "print(\"Sample 3 Mean: \", sample_3_mean)\n",
    "print(\"Sample 4 Mean: \", sample_4_mean)\n",
    "print(\"Sample 5 Mean: \", sample_5_mean)"
   ]
  },
  {
   "cell_type": "markdown",
   "metadata": {},
   "source": [
    "### Central Limit Theorem\n",
    "Perhaps, this time, you're a tailor of school uniforms at a middle school. You need to know the average height of people from 10-13 years old in order to know which sizes to make the uniforms. Knowing the best decisions are based on data, you set out to do some research at your local middle school. Organizing with the school, you measure the heights of some students. Their average height is 57.5 inches. You know a little about sampling and decide that measuring 30 out of the 300 students gives enough data to assume 57.5 inches is roughly the average height of everyone at the middle school. You set to work with this dimension and make uniforms that fit people of this height, some smaller and some larger.\n",
    "\n",
    "Unfortunately, when you go about making your uniforms many reports come back saying that they are too small. Something must have gone wrong with your decision-making process! You go back to collect the rest of the data: you measure the sixth graders one day (56.7, not so bad), the seventh graders after that (59 inches tall on average), and the eighth graders the next day (61.7 inches!). Your sample mean was so far off from your population mean. How did this happen?\n",
    "\n",
    "Well, your sample selection was skewed to one direction of the total population. It looks like you must have measured more sixth graders than is representative of the whole middle school. How do you get an average sample height that looks more like the average population height?\n",
    "\n",
    "In the previous exercise, we looked at different sets of samples taken from a population and how the mean of each set could be different from the population mean. This is a natural consequence of the fact that a set of samples has less data than the population to which it belongs. If our sample selection is poor then we will have a sample mean seriously skewed from our population mean.\n",
    "\n",
    "There is one surefire way to mitigate the risk of having a skewed sample mean — take a larger set of samples. The sample mean of a larger sample set will more closely approximate the population mean. This phenomenon, known as the Central Limit Theorem, states that if we have a large enough sample size, all of our sample means will be sufficiently close to the population mean.\n",
    "\n",
    "Later, we'll learn how to put numeric values on \"large enough\" and \"sufficiently close\"."
   ]
  },
  {
   "cell_type": "code",
   "execution_count": 9,
   "metadata": {},
   "outputs": [
    {
     "name": "stdout",
     "output_type": "stream",
     "text": [
      "Extra Small Sample Mean:  23.597138473183545\n",
      "Small Sample Mean:  36.86670228880811\n",
      "Medium Sample Mean:  43.48232267726312\n",
      "Large Sample Mean:  64.48442995910962\n",
      "Extra Large Sample Mean:  65.21576617947785\n",
      "\n",
      "Population Mean:  66.15443512120643\n"
     ]
    }
   ],
   "source": [
    "# Create population and find population mean\n",
    "population = np.random.normal(loc=65, scale=100, size=3000)\n",
    "population_mean = np.mean(population)\n",
    "\n",
    "# Select increasingly larger samples\n",
    "extra_small_sample = population[:10]\n",
    "small_sample = population[:50]\n",
    "medium_sample = population[:100]\n",
    "large_sample = population[:500]\n",
    "extra_large_sample = population[:1000]\n",
    "\n",
    "# Calculate the mean of those samples\n",
    "extra_small_sample_mean = np.mean(extra_small_sample)\n",
    "small_sample_mean = np.mean(small_sample)\n",
    "medium_sample_mean = np.mean(medium_sample)\n",
    "large_sample_mean = np.mean(large_sample)\n",
    "extra_large_sample_mean = np.mean(extra_large_sample)\n",
    "\n",
    "# Print them all out!\n",
    "print(\"Extra Small Sample Mean: \", extra_small_sample_mean)\n",
    "print(\"Small Sample Mean: \", small_sample_mean)\n",
    "print(\"Medium Sample Mean: \", medium_sample_mean)\n",
    "print(\"Large Sample Mean: \", large_sample_mean)\n",
    "print (\"Extra Large Sample Mean: \", extra_large_sample_mean)\n",
    "\n",
    "print(\"\\nPopulation Mean: \", population_mean)\n"
   ]
  },
  {
   "cell_type": "markdown",
   "metadata": {},
   "source": [
    "### Hypothesis Tests\n",
    "When observing differences in data, a data analyst understands the possibility that these differences could be the result of random chance.\n",
    "\n",
    "Suppose we want to know if men are more likely to sign up for a given programming class than women. We invite 100 men and 100 women to this class. After one week, 34 women sign up, and 39 men sign up. More men than women signed up, but is this a \"real\" difference?\n",
    "\n",
    "We have taken sample means from two different populations, men and women. We want to know if the difference that we observe in these sample means reflects a difference in the population means. To formally answer this question, we need to re-frame it in terms of probability:\n",
    "\n",
    "\"What is the probability that men and women have the same level of interest in this class and that the difference we observed is just chance?\"\n",
    "\n",
    "In other words, \"If we gave the same invitation to every person in the world, would more men still sign up?\"\n",
    "\n",
    "A more formal version is: \"What is the probability that the two population means are the same and that the difference we observed in the sample means is just chance?\"\n",
    "\n",
    "These statements are all ways of expressing a null hypothesis. A null hypothesis is a statement that the observed difference is the result of chance.\n",
    "\n",
    "Hypothesis testing is a mathematical way of determining whether we can be confident that the null hypothesis is false. Different situations will require different types of hypothesis testing, which we will learn about in the next lesson."
   ]
  },
  {
   "cell_type": "markdown",
   "metadata": {},
   "source": [
    "### Type I Or Type II\n",
    "When we rely on automated processes to make our decisions for us, we need to be aware of how this automation can lead to mistakes. Computer programs are as fallible as the humans who design them. As humans capable of programming, the responsibility is on us to understand what can go wrong and what we can do to contain these foreseeable problems.\n",
    "\n",
    "In statistical hypothesis testing, we concern ourselves primarily with two types of error. The first kind of error, known as a Type I error, is finding a correlation between things that are not related. This error is sometimes called a \"false positive\" and occurs when the null hypothesis is rejected even though it is true.\n",
    "\n",
    "For example, let's say you conduct an A/B test for an online store and conclude that interface B is significantly better than interface A at directing traffic to a checkout page. You have rejected the null hypothesis that there is no difference between the two interfaces. If, in reality, your results were due to the groups you happened to pick, and there is actually no significant difference between interface A and interface B in the greater population, you have been the victim of a false positive.\n",
    "\n",
    "The second kind of error, a Type II error, is failing to find a correlation between things that are actually related. This error is referred to as a \"false negative\" and occurs when the null hypothesis is accepted even though it is false.\n",
    "\n",
    "For example, with the A/B test situation, let's say that after the test, you concluded that there was no significant difference between interface A and interface B. If there actually is a difference in the population as a whole, your test has resulted in a false negative."
   ]
  },
  {
   "cell_type": "code",
   "execution_count": 10,
   "metadata": {},
   "outputs": [],
   "source": [
    "# TYPE I --> False Positive: Null hypothesis is rejected even though its true\n",
    "# TYPE II --> False Negative: The null hypothesis is accepted even though it is false"
   ]
  },
  {
   "cell_type": "markdown",
   "metadata": {},
   "source": [
    "In the workspace you will find four lists: actual_positive, actual_negative, experimental_positive, and experimental_negative. These lists represent outcomes from a statistical experiment. Also given is an intersect function that takes two lists as arguments and returns a list of all items in both lists.\n",
    "\n",
    "Examine these lists and make sure you understand what they represent."
   ]
  },
  {
   "cell_type": "code",
   "execution_count": 13,
   "metadata": {},
   "outputs": [],
   "source": [
    "def intersect(list1, list2):\n",
    "  return [sample for sample in list1 if sample in list2]\n",
    "\n",
    "# the true positives and negatives:\n",
    "actual_positive = [2, 5, 6, 7, 8, 10, 18, 21, 24, 25, 29, 30, 32, 33, 38, 39, 42, 44, 45, 47]\n",
    "actual_negative = [1, 3, 4, 9, 11, 12, 13, 14, 15, 16, 17, 19, 20, 22, 23, 26, 27, 28, 31, 34,\\\n",
    "                   35, 36, 37, 40, 41, 43, 46, 48, 49]\n",
    "\n",
    "# the positives and negatives we determine by running the experiment:\n",
    "experimental_positive = [2, 4, 5, 7, 8, 9, 10, 11, 13, 15, 16, 17, 18, 19, 20, 21, 22, 24, 26,\\\n",
    "                         27, 28, 32, 35, 36, 38, 39, 40, 45, 46, 49]\n",
    "experimental_negative = [1, 3, 6, 12, 14, 23, 25, 29, 30, 31, 33, 34, 37, 41, 42, 43, 44, 47, 48]"
   ]
  },
  {
   "cell_type": "markdown",
   "metadata": {},
   "source": [
    "Use the intersect function and the lists provided to define type_i_errors. This list should contain the false positives of the experiment."
   ]
  },
  {
   "cell_type": "code",
   "execution_count": 14,
   "metadata": {},
   "outputs": [],
   "source": [
    "#define type_i_errors and type_ii_errors here\n",
    "type_i_errors = intersect(actual_negative, experimental_positive)\n",
    "type_ii_errors = intersect(actual_positive, experimental_negative)"
   ]
  },
  {
   "cell_type": "markdown",
   "metadata": {},
   "source": [
    "### P-Values\n",
    "We have discussed how a hypothesis test is used to determine the validity of a null hypothesis. A hypothesis test provides a numerical answer, called a p-value, that helps us decide how confident we can be in the result. A p-value is the probability that the null hypothesis is true.\n",
    "\n",
    "A p-value of 0.05 would mean that there is a 5% chance that the null hypothesis is true. This generally means there is a 5% chance that there is no difference between the two population means.\n",
    "\n",
    "Before conducting a hypothesis test, we determine the necessary threshold we would need before concluding that the results are significant. A higher p-value is more likely to give a false positive so if we want to be very sure that the result is not due to just chance, we will select a very small p-value.\n",
    "\n",
    "It is important that we choose the p-value before we see the results. If we wait until after we see the results, we might pick our threshold such that we get the result we want to see. For instance, if we're trying to publish our results, we might set a p-value such that our results are significant. Choosing our p-value in advance helps keep us honest.\n",
    "\n",
    "Generally, we want a p-value of less than 0.05, meaning that there is a less than 5% chance that our results are due to random chance."
   ]
  },
  {
   "cell_type": "code",
   "execution_count": 15,
   "metadata": {},
   "outputs": [],
   "source": [
    "# A p-value of 0.05 would mean that there is a 5% chance that the null hypothesis is true. \n",
    "# This generally means there is a 5% chance that there is no difference between the two population means."
   ]
  },
  {
   "cell_type": "markdown",
   "metadata": {},
   "source": [
    "Fill in the body of the given function accept_null_hypothesis to return False if the p-value is small enough that the data is significant (i.e., it would reject the null hypothesis), and returns True if the p-value is large enough that the data is not likely to be significant."
   ]
  },
  {
   "cell_type": "code",
   "execution_count": 24,
   "metadata": {},
   "outputs": [
    {
     "name": "stdout",
     "output_type": "stream",
     "text": [
      "True\n",
      "False\n",
      "True\n",
      "False\n",
      "True\n",
      "True\n",
      "True\n",
      "False\n",
      "False\n",
      "False\n"
     ]
    }
   ],
   "source": [
    "def accept_null_hypothesis(p_value):\n",
    "  \"\"\"\n",
    "  Returns the truthiness of the null_hypothesis\n",
    "\n",
    "  Takes a p-value as its input and assumes p < 0.05 is significant\n",
    "  \"\"\"\n",
    "  if p_value < 0.05:\n",
    "    return False\n",
    "  else:\n",
    "    return True\n",
    "\n",
    "\n",
    "hypothesis_tests = [0.1, 0.009, 0.051, 0.012, 0.37, 0.6, 0.11, 0.025, 0.0499, 0.0001]\n",
    "\n",
    "for p_value in hypothesis_tests:\n",
    "    print(accept_null_hypothesis(p_value))"
   ]
  },
  {
   "cell_type": "code",
   "execution_count": null,
   "metadata": {},
   "outputs": [],
   "source": []
  }
 ],
 "metadata": {
  "kernelspec": {
   "display_name": "Python 3",
   "language": "python",
   "name": "python3"
  },
  "language_info": {
   "codemirror_mode": {
    "name": "ipython",
    "version": 3
   },
   "file_extension": ".py",
   "mimetype": "text/x-python",
   "name": "python",
   "nbconvert_exporter": "python",
   "pygments_lexer": "ipython3",
   "version": "3.6.3"
  }
 },
 "nbformat": 4,
 "nbformat_minor": 2
}
