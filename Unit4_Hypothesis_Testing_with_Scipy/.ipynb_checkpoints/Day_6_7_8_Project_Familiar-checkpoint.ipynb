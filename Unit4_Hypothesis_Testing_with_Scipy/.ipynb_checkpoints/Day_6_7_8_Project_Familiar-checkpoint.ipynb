{
 "cells": [
  {
   "cell_type": "markdown",
   "metadata": {},
   "source": [
    "### Familiar: A Study In Data Analysis\n",
    "Welcome to Familiar, a startup in the new market of blood transfusion! You've joined the team because you appreciate the flexible hours and extremely intelligent team, but the overeager doorman welcoming you into the office is a nice way to start your workday (well, work-evening).\n",
    "\n",
    "Familiar has fallen into some tough times lately, so you're hoping to help them make some insights about their product and help move the needle (so to speak).\n",
    "\n",
    "#### What Can Familiar Do For You?\n",
    "We're going to start by including a data interface that a previous software engineer wrote for you, it's aptly titled familiar, so just import that."
   ]
  },
  {
   "cell_type": "code",
   "execution_count": 1,
   "metadata": {},
   "outputs": [],
   "source": [
    "# import familiar"
   ]
  },
  {
   "cell_type": "markdown",
   "metadata": {},
   "source": [
    "Perfect, now the first thing we want to show is that our most basic package, the Vein Pack, actually has a significant impact on the subscribers. It would be a marketing goldmine if we can show that subscribers to the Vein Pack live longer than other people.\n",
    "\n",
    "Lifespans of Vein Pack users are returned by the function lifespans(package='vein'), which is part of the familiar module. Call that function and save the data into a variable called vein_pack_lifespans."
   ]
  },
  {
   "cell_type": "code",
   "execution_count": 2,
   "metadata": {},
   "outputs": [
    {
     "name": "stdout",
     "output_type": "stream",
     "text": [
      "[76.93767431371617, 75.99335913014681, 74.79815012354048, 74.50202147158551, 77.48888897587436, 72.14256573154043, 75.99303167191182, 76.34155048095228, 77.48475562999882, 76.5321014800867, 76.25508955276418, 77.58398316566651, 77.04737034962294, 72.87475174594711, 77.43504547002844, 77.4923414107892, 78.32672046879952, 73.34370246887067, 79.96915765236346, 74.83800583300325]\n"
     ]
    }
   ],
   "source": [
    "# vein_pack_lifespans = familiar.lifespans(package='vein')\n",
    "\n",
    "# Copied the data here and reassigned to reference variable\n",
    "vein_pack_lifespans = [76.93767431371617, 75.99335913014681, 74.79815012354048, 74.50202147158551, 77.48888897587436, \\\n",
    "                       72.14256573154043, 75.99303167191182, 76.34155048095228, 77.48475562999882, 76.5321014800867, \\\n",
    "                       76.25508955276418, 77.58398316566651, 77.04737034962294, 72.87475174594711, 77.43504547002844, \\\n",
    "                       77.4923414107892, 78.32672046879952, 73.34370246887067, 79.96915765236346, 74.83800583300325]\n",
    "print(vein_pack_lifespans)"
   ]
  },
  {
   "cell_type": "markdown",
   "metadata": {},
   "source": [
    "We'd like to find out if the average lifespan of a Vein Pack subscriber is significantly different from the average life expectancy of 71 years.\n",
    "\n",
    "Import the statistical test we would use to determine if a sample comes from a population that has a given mean from scipy.stats."
   ]
  },
  {
   "cell_type": "code",
   "execution_count": 3,
   "metadata": {},
   "outputs": [
    {
     "name": "stdout",
     "output_type": "stream",
     "text": [
      "76.16901335636044\n"
     ]
    }
   ],
   "source": [
    "from scipy.stats import ttest_1samp\n",
    "import numpy as np\n",
    "\n",
    "vein_pack_lifespan_mean = np.mean(vein_pack_lifespans)\n",
    "print(vein_pack_lifespan_mean)"
   ]
  },
  {
   "cell_type": "markdown",
   "metadata": {},
   "source": [
    "Now use the 1-Sample T-Test to compare vein_pack_lifespans to the average life expectancy 71. Save the result into a variable called vein_pack_test."
   ]
  },
  {
   "cell_type": "code",
   "execution_count": 4,
   "metadata": {},
   "outputs": [
    {
     "name": "stdout",
     "output_type": "stream",
     "text": [
      "p-value: 2.7463117986584107e-10\n"
     ]
    }
   ],
   "source": [
    "vein_pack_test = ttest_1samp(vein_pack_lifespans, 71.)\n",
    "print('p-value:', vein_pack_test[1])\n"
   ]
  },
  {
   "cell_type": "markdown",
   "metadata": {},
   "source": [
    "Let's check if the results are significant! Check the pvalue of vein_pack_test. If it's less than 0.05, we've got significance!"
   ]
  },
  {
   "cell_type": "code",
   "execution_count": 5,
   "metadata": {},
   "outputs": [
    {
     "name": "stdout",
     "output_type": "stream",
     "text": [
      "The Vein Pack Is Proven to Make You Live Longer!\n"
     ]
    }
   ],
   "source": [
    "# pvalue < 0.05 therefore we have got a significant difference\n",
    "if vein_pack_test[1] < 0.05:\n",
    "  print('The Vein Pack Is Proven to Make You Live Longer!')\n",
    "else:\n",
    "  print('The Vein Pack Is Probably Good For You Somehow')"
   ]
  },
  {
   "cell_type": "markdown",
   "metadata": {},
   "source": [
    "#### Upselling Familiar: Pumping Life Into The Company\n",
    "In order to differentiate Familiar's different product lines, we'd like to compare this lifespan data between our different packages. Our next step up from the Vein Pack is the Artery Pack. Let's get the lifespans of Artery Pack subscribers using the same method, called with package='artery' instead. Save the value into a variable called artery_pack_lifespans."
   ]
  },
  {
   "cell_type": "code",
   "execution_count": 6,
   "metadata": {},
   "outputs": [
    {
     "name": "stdout",
     "output_type": "stream",
     "text": [
      "[76.33537008426835, 76.92308231559062, 75.9524416448778, 74.5449834807203, 76.4045042754472, 73.07924888636576, 77.02354461052992, 74.1174204200688, 77.38650656208344, 73.04476583718993, 74.96311850866167, 73.31954301933486, 75.85740137696862, 76.15265351351255, 73.3551028632267, 73.90221256458788, 73.77121195092475, 68.31489830285578, 74.63975717775328, 78.38547730843979]\n"
     ]
    }
   ],
   "source": [
    "#artery_pack_lifespans = familiar.lifespans(package='artery')\n",
    "\n",
    "artery_pack_lifespans = [76.33537008426835, 76.92308231559062, 75.9524416448778, 74.5449834807203, 76.4045042754472, \\\n",
    "                         73.07924888636576, 77.02354461052992, 74.1174204200688, 77.38650656208344, 73.04476583718993, \\\n",
    "                         74.96311850866167, 73.31954301933486, 75.85740137696862, 76.15265351351255, 73.3551028632267, \\\n",
    "                         73.90221256458788, 73.77121195092475, 68.31489830285578, 74.63975717775328, 78.38547730843979]\n",
    "print(artery_pack_lifespans)"
   ]
  },
  {
   "cell_type": "markdown",
   "metadata": {},
   "source": [
    "Now we want to show that the subscribers to the Artery Pack experience a significant improvement even beyond what a Vein Pack subscriber's benefits. Import the 2-Sample T-Test and we'll use that to see if there is a significant difference between the two subscriptions.\n",
    "\n",
    "Okay let's run the 2-Sample test! Save the results into a variable named package_comparison_results."
   ]
  },
  {
   "cell_type": "code",
   "execution_count": 7,
   "metadata": {},
   "outputs": [
    {
     "name": "stdout",
     "output_type": "stream",
     "text": [
      "Ttest_indResult(statistic=1.9722687784695117, pvalue=0.05588883079070819)\n"
     ]
    }
   ],
   "source": [
    "from scipy.stats import ttest_ind\n",
    "\n",
    "package_comparison_results = ttest_ind(vein_pack_lifespans, artery_pack_lifespans)\n",
    "print(package_comparison_results)"
   ]
  },
  {
   "cell_type": "markdown",
   "metadata": {},
   "source": [
    "Let's see the results! If the p-value from our experiment is less than 0.05, the results are significant and we should print out \"the Artery Package guarantees even stronger results!\". Otherwise we should print out \"the Artery Package is also a great product!\""
   ]
  },
  {
   "cell_type": "code",
   "execution_count": 8,
   "metadata": {},
   "outputs": [
    {
     "name": "stdout",
     "output_type": "stream",
     "text": [
      "The Artery Package Is Also A Great Product!\n"
     ]
    }
   ],
   "source": [
    "if package_comparison_results[1] < 0.05:\n",
    "  print('The Artery Package Guarantees Even Stronger Results!')\n",
    "else:\n",
    "  print('The Artery Package Is Also A Great Product!')"
   ]
  },
  {
   "cell_type": "markdown",
   "metadata": {},
   "source": [
    "Well, shame that it's not significantly better, but maybe there's a way to demonstrate the benefits of the Artery Package yet.\n",
    "\n",
    "#### Benefitting Everyone: A Familiar Problem\n",
    "If your lifespan isn't significantly increased by signing up for the Artery Package, maybe we can make some other claim about the benefits of the package. To that end, we've sent out a survey collecting the iron counts for our subscribers, and filtered that data into \"low\", \"normal\", and \"high\".\n",
    "\n",
    "We received 200 responses from our Vein Package subscribers. 70% of them had low iron counts, 20% had normal, and 10% of them have high iron counts.\n",
    "\n",
    "We were only able to get 145 responses from our Artery Package subscribers, but only 20% of them had low iron counts. 60% had normal, and 20% have high iron counts.\n",
    "\n",
    "The data from the survey has been collected and formatted into a contingency table. You can access that data from the function familiar.iron_counts_for_package(). Save the survey results into a variable called iron_contingency_table."
   ]
  },
  {
   "cell_type": "code",
   "execution_count": 9,
   "metadata": {},
   "outputs": [
    {
     "name": "stdout",
     "output_type": "stream",
     "text": [
      "[[140, 29], [40, 87], [20, 29]]\n"
     ]
    }
   ],
   "source": [
    "# iron_contingency_table = familiar.iron_counts_for_package()\n",
    "iron_contingency_table = [[140, 29], [40, 87], [20, 29]]\n",
    "print(iron_contingency_table)"
   ]
  },
  {
   "cell_type": "markdown",
   "metadata": {},
   "source": [
    "We want to be able to tell if what seems like a higher number of our Artery Package subscribers is a significant difference from what was reported by Vein Package subscribers. Import the Chi-Squared test so that we can find out."
   ]
  },
  {
   "cell_type": "code",
   "execution_count": 10,
   "metadata": {},
   "outputs": [],
   "source": [
    "from scipy.stats import chi2_contingency"
   ]
  },
  {
   "cell_type": "markdown",
   "metadata": {},
   "source": [
    "Run the Chi-Squared test on the iron_contingency_table and save the p-value in a variable called iron_pvalue. Remember that this test returns four things: the test statistic, the p-value, the number of degrees of freedom, and the expected frequencies."
   ]
  },
  {
   "cell_type": "code",
   "execution_count": 11,
   "metadata": {},
   "outputs": [],
   "source": [
    "chi2, iron_value, dof, expected = chi2_contingency(iron_contingency_table)"
   ]
  },
  {
   "cell_type": "markdown",
   "metadata": {},
   "source": [
    "Here's the big moment: if the iron_pvalue is less than 0.05, print out \"The Artery Package Is Proven To Make You Healthier!\" otherwise we'll have to use our other marketing copy: \"While We Can't Say The Artery Package Will Help You, I Bet It's Nice!\""
   ]
  },
  {
   "cell_type": "code",
   "execution_count": 12,
   "metadata": {},
   "outputs": [
    {
     "name": "stdout",
     "output_type": "stream",
     "text": [
      "The Atery Package Is Proven To Make You Healthier!\n"
     ]
    }
   ],
   "source": [
    "if iron_value<0.05:\n",
    "  print('The Atery Package Is Proven To Make You Healthier!')\n",
    "else:\n",
    "  print('While We Can\\'t Say The Atery Package Will Help You, I Bet It\\'s Nice')"
   ]
  },
  {
   "cell_type": "markdown",
   "metadata": {},
   "source": [
    "Fantastic! With proven benefits to both of our product lines, we can definitely ramp up our marketing and sales. Look out for a Familiar face in drug stores everywhere."
   ]
  },
  {
   "cell_type": "code",
   "execution_count": null,
   "metadata": {},
   "outputs": [],
   "source": []
  }
 ],
 "metadata": {
  "kernelspec": {
   "display_name": "Python 3",
   "language": "python",
   "name": "python3"
  },
  "language_info": {
   "codemirror_mode": {
    "name": "ipython",
    "version": 3
   },
   "file_extension": ".py",
   "mimetype": "text/x-python",
   "name": "python",
   "nbconvert_exporter": "python",
   "pygments_lexer": "ipython3",
   "version": "3.6.3"
  }
 },
 "nbformat": 4,
 "nbformat_minor": 2
}
