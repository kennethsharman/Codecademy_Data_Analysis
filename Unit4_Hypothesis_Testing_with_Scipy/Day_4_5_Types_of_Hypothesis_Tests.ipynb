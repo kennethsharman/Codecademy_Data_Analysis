{
 "cells": [
  {
   "cell_type": "markdown",
   "metadata": {},
   "source": [
    "### Types of Hypothesis Test\n",
    "When we are trying to compare datasets, we often need a way to be confident knowing if datasets are significantly different from each other.\n",
    "\n",
    "In this lesson, you will learn how about how we can use hypothesis testing to answer these questions. There are several different types of hypothesis tests for the various scenarios you may encounter. Luckily, SciPy has built-in functions that perform all of these tests for us, normally using just one line of code.\n",
    "\n",
    "For numerical data, we will cover:\n",
    "\n",
    "    One Sample T-Tests\n",
    "    Two Sample T-Tests\n",
    "    ANOVA\n",
    "    Tukey Tests\n",
    "    For categorical data, we will cover:\n",
    "\n",
    "    Binomial Tests\n",
    "    Chi Square\n",
    "After this lesson, you will have a wide range of tools in your arsenal to find meaningful correlations in data.\n",
    "\n",
    "### 1 Sample T-Testing\n",
    "Let's imagine the fictional business BuyPie, which sends ingredients for pies to your household, so that you can make them from scratch. Suppose that a product manager wants the average age of visitors to BuyPie.com to be 30. In the past hour, the website had 100 visitors and the average age was 31. Are the visitors too old? Or is this just the result of chance and a small sample size?\n",
    "\n",
    "We can test this using a univariate T-test. A univariate T-test compares a sample mean to a hypothetical population mean. It answers the question \"What is the probability that the sample came from a distribution with the desired mean?\"\n",
    "\n",
    "When we conduct a hypothesis test, we want to first create a null hypothesis, which is a prediction that there is no significant difference. The null hypothesis that this test examines can be phrased as such: \"The set of samples belongs to a population with the target mean\".\n",
    "\n",
    "The result of the 1 Sample T Test is a p-value, which will tell us whether or not we can reject this null hypothesis. Generally, if we receive a p-value of less than 0.05, we can reject the null hypothesis and state that there is a significant difference.\n",
    "\n",
    "SciPy has a function called ttest_1samp, which performs a 1 Sample T-Test for you.\n",
    "\n",
    "ttest_1samp requires two inputs, a distribution of values and an expected mean:\n",
    "\n",
    "tstat, pval = ttest_1samp(example_distribution, expected_mean)\n",
    "print pval\n",
    "It also returns two outputs: the t-statistic (which we won't cover in this course), and the p-value — telling us how confident we can be that the sample of values came from a distribution with the mean specified."
   ]
  },
  {
   "cell_type": "markdown",
   "metadata": {},
   "source": [
    "We have provided a small dataset called ages, representing the ages of customers to BuyPie.com in the past hour.\n",
    "\n",
    "First, print out ages to the console and examine the numbers."
   ]
  },
  {
   "cell_type": "code",
   "execution_count": 2,
   "metadata": {},
   "outputs": [
    {
     "name": "stdout",
     "output_type": "stream",
     "text": [
      "[32. 34. 29. 29. 22. 39. 38. 37. 38. 36. 30. 26. 22. 22.]\n"
     ]
    }
   ],
   "source": [
    "from scipy.stats import ttest_1samp\n",
    "import numpy as np\n",
    "\n",
    "ages = np.array([32., 34., 29., 29., 22., 39., 38., 37., 38., 36., 30., 26., 22., 22.])\n",
    "print(ages)"
   ]
  },
  {
   "cell_type": "markdown",
   "metadata": {},
   "source": [
    "Even with a small dataset like this, it is hard to make judgments from just looking at the numbers.\n",
    "\n",
    "To understand the data better, let's look at the mean. Calculate the mean of ages using np.mean. Store it in a variable called ages_mean and print it out."
   ]
  },
  {
   "cell_type": "code",
   "execution_count": 3,
   "metadata": {},
   "outputs": [
    {
     "name": "stdout",
     "output_type": "stream",
     "text": [
      "31.0\n"
     ]
    }
   ],
   "source": [
    "ages_mean = np.mean(ages)\n",
    "print(ages_mean)"
   ]
  },
  {
   "cell_type": "markdown",
   "metadata": {},
   "source": [
    "Use ttest_1samp with ages to see what p-value the experiment returns for this distribution, where we expect the mean to be 30.\n",
    "\n",
    "Store the p-value in a variable called pval. Remember that it is the second output of the ttest_1samp function. We don't use the first output, the t-statistic, so you can store it in a variable with whatever name you'd like."
   ]
  },
  {
   "cell_type": "code",
   "execution_count": 4,
   "metadata": {},
   "outputs": [
    {
     "name": "stdout",
     "output_type": "stream",
     "text": [
      "0.5605155888171379\n"
     ]
    }
   ],
   "source": [
    "tstat, pval = ttest_1samp(ages, 30.)\n",
    "print(pval)"
   ]
  },
  {
   "cell_type": "code",
   "execution_count": null,
   "metadata": {},
   "outputs": [],
   "source": []
  }
 ],
 "metadata": {
  "kernelspec": {
   "display_name": "Python 3",
   "language": "python",
   "name": "python3"
  },
  "language_info": {
   "codemirror_mode": {
    "name": "ipython",
    "version": 3
   },
   "file_extension": ".py",
   "mimetype": "text/x-python",
   "name": "python",
   "nbconvert_exporter": "python",
   "pygments_lexer": "ipython3",
   "version": "3.6.3"
  }
 },
 "nbformat": 4,
 "nbformat_minor": 2
}
