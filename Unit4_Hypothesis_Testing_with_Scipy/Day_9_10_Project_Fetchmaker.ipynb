{
 "cells": [
  {
   "cell_type": "markdown",
   "metadata": {},
   "source": [
    "### FetchMaker\n",
    "Congratulations! You’ve just started working at the hottest new tech startup, FetchMaker. FetchMaker’s mission is to match up prospective dog owners with their perfect pet. Data on thousands of adoptable dogs are in FetchMaker’s system, and it’s your job to analyze some of that data.\n",
    "\n",
    "Let's start by including a data interface called fetchmaker that will give you access to FetchMaker's dog data.\n",
    "\n",
    "Use import fetchmaker at the top of your script.py file to import the fetchmaker package.\n",
    "\n",
    "The attributes that FetchMaker keeps track of are:\n",
    "\n",
    "    weight, an integer representing how heavy a dog is in pounds\n",
    "    tail_length, a float representing tail length in inches\n",
    "    age, in years\n",
    "    color, a String such as \"brown\" or \"grey\"\n",
    "    is_rescue, a boolean 0 or 1\n",
    "The fetchmaker package lets you access this data for a specific breed of dog with the following format:"
   ]
  },
  {
   "cell_type": "code",
   "execution_count": 1,
   "metadata": {},
   "outputs": [],
   "source": [
    "# fetchmaker.get_weight(\"poodle\")"
   ]
  },
  {
   "cell_type": "markdown",
   "metadata": {},
   "source": [
    "This returns a Pandas DataFrame of the weights of the poodles recorded in the system. The other methods are get_tail_length, get_color, get_age, and get_is_rescue, which all take a breed as an input.\n",
    "\n",
    "Get the tail lengths of all of the \"rottweiler\"s in the system, and store it in a variable called rottweiler_tl."
   ]
  },
  {
   "cell_type": "code",
   "execution_count": 2,
   "metadata": {},
   "outputs": [],
   "source": [
    "# import fetchmaker\n",
    "\n",
    "# rottweiler_tl = fetchmaker.get_tail_length('rottweiler')"
   ]
  },
  {
   "cell_type": "markdown",
   "metadata": {},
   "source": [
    "Print out the mean of rottweiler_tl and the standard deviation of rottweiler_tl, using np.mean and np.std."
   ]
  },
  {
   "cell_type": "code",
   "execution_count": 3,
   "metadata": {},
   "outputs": [],
   "source": [
    "import numpy as np\n",
    "# print(np.mean(rottweiler_tl), np.std(rottweiler_tl))"
   ]
  },
  {
   "cell_type": "markdown",
   "metadata": {},
   "source": [
    "Over the years, we have seen that we expect 8% of dogs in the FetchMaker system to be rescues. We want to know if whippets are significantly more or less likely to be a rescue.\n",
    "\n",
    "Store the is_rescue values for \"whippet\"s in a variable called whippet_rescue."
   ]
  },
  {
   "cell_type": "code",
   "execution_count": 4,
   "metadata": {},
   "outputs": [],
   "source": [
    "# whippet_rescue = fetchmaker.get_is_rescue('whippet')"
   ]
  },
  {
   "cell_type": "markdown",
   "metadata": {},
   "source": [
    "Use np.count_nonzero to get the number of entries in whippet_rescue that are 1. Store this number in a variable called num_whippet_rescues."
   ]
  },
  {
   "cell_type": "code",
   "execution_count": 5,
   "metadata": {},
   "outputs": [],
   "source": [
    "# num_whippet_rescues = np.count_nonzero(whippet_rescue)"
   ]
  },
  {
   "cell_type": "markdown",
   "metadata": {},
   "source": [
    "Get the number of samples in the whippet set by taking the np.size of whippet_rescue. Store this in a variable called num_whippets."
   ]
  },
  {
   "cell_type": "code",
   "execution_count": 6,
   "metadata": {},
   "outputs": [],
   "source": [
    "# num_whippets = np.size(whippet_rescue)"
   ]
  },
  {
   "cell_type": "markdown",
   "metadata": {},
   "source": [
    "Use a binomial test to test the number of whippet rescues, num_whippet_rescues, against our expected percentage, 8%.\n",
    "\n",
    "Remember to import the binomial test by using from scipy.stats import binom_test."
   ]
  },
  {
   "cell_type": "code",
   "execution_count": 7,
   "metadata": {},
   "outputs": [],
   "source": [
    "from scipy.stats import binom_test\n",
    "# pval = binom_test(num_whippet_rescues, n=num_whippets, p=0.08)\n",
    "# print(pval)"
   ]
  },
  {
   "cell_type": "markdown",
   "metadata": {},
   "source": [
    "Three of our most popular mid-sized dog breeds are whippets, terriers, and pitbulls. Is there a significant difference in the average weights of these three dog breeds? Perform a comparative numerical test to determine if there is a significant difference."
   ]
  },
  {
   "cell_type": "code",
   "execution_count": 8,
   "metadata": {},
   "outputs": [],
   "source": [
    "# from scipy.stats import f_oneway\n",
    "# fstat, pval = f_oneway(fetchmaker.get_weight('whippet'), \\\n",
    "    # fetchmaker.get_weight('terrier'), fetchmaker.get_weight('pitbull'))\n",
    "# print(pval)"
   ]
  },
  {
   "cell_type": "markdown",
   "metadata": {},
   "source": [
    "Now, perform another test to determine which of the pairs of these dog breeds differ from each other."
   ]
  },
  {
   "cell_type": "code",
   "execution_count": 11,
   "metadata": {},
   "outputs": [],
   "source": [
    "# dog_weights = np.concatenate([fetchmaker.get_weight('whippet'),\\\n",
    "                              # fetchmaker.get_weight('terrier'),\\\n",
    "                              # fetchmaker.get_weight('pitbull')])\n",
    "# labels = ['whippet'] * len(fetchmaker.get_weight('whippet')) + \\\n",
    "# ['terrier'] * len(fetchmaker.get_weight('terrier')) + \\\n",
    "# ['pitbull'] * len(fetchmaker.get_weight('pitbull'))\n",
    "\n",
    "# from statsmodels.stats.multicomp import pairwise_tukeyhsd\n",
    "\n",
    "# tukey_results = pairwise_tukeyhsd(dog_weights, labels, 0.05)\n",
    "# print(tukey_results)"
   ]
  },
  {
   "cell_type": "markdown",
   "metadata": {},
   "source": [
    "We want to see if \"poodle\"s and \"shihtzu\"s have significantly different color breakdowns.\n",
    "\n",
    "Get the poodle colors and store it in a variable called poodle_colors.\n",
    "\n",
    "Get the shih tzu colors and store it in a variable called shihtzu_colors."
   ]
  },
  {
   "cell_type": "code",
   "execution_count": 12,
   "metadata": {},
   "outputs": [],
   "source": [
    "# poodle_colors = fetchmaker.get_color('poodle')\n",
    "# shihtzu_colors = fetchmaker.get_color('shihtzu')"
   ]
  },
  {
   "cell_type": "markdown",
   "metadata": {},
   "source": [
    "You can get the number of occurrences of brown poodles by using np.count_nonzero(poodle_colors == \"brown\").\n",
    "\n",
    "Use this function to build a Chi Square contingency table, called color_table"
   ]
  },
  {
   "cell_type": "code",
   "execution_count": 14,
   "metadata": {},
   "outputs": [],
   "source": [
    "# X = [[np.count_nonzero(poodle_colors == 'black'), np.count_nonzero(shihtzu_colors == 'black')], \n",
    "#      [np.count_nonzero(poodle_colors == 'brown'), np.count_nonzero(shihtzu_colors == 'brown')], \n",
    "#      [np.count_nonzero(poodle_colors == 'gold'), np.count_nonzero(shihtzu_colors == 'gold')], \n",
    "#      [np.count_nonzero(poodle_colors == 'grey'), np.count_nonzero(shihtzu_colors == 'grey')], \n",
    "#      [np.count_nonzero(poodle_colors == 'white'), np.count_nonzero(shihtzu_colors == 'white')]]\n",
    "\n",
    "# from scipy.stats import chi2_contingency\n",
    "# chi2, pval, dof, expected = chi2_contingency(X)\n",
    "# print(pval)"
   ]
  },
  {
   "cell_type": "code",
   "execution_count": null,
   "metadata": {},
   "outputs": [],
   "source": []
  }
 ],
 "metadata": {
  "kernelspec": {
   "display_name": "Python 3",
   "language": "python",
   "name": "python3"
  },
  "language_info": {
   "codemirror_mode": {
    "name": "ipython",
    "version": 3
   },
   "file_extension": ".py",
   "mimetype": "text/x-python",
   "name": "python",
   "nbconvert_exporter": "python",
   "pygments_lexer": "ipython3",
   "version": "3.6.3"
  }
 },
 "nbformat": 4,
 "nbformat_minor": 2
}
