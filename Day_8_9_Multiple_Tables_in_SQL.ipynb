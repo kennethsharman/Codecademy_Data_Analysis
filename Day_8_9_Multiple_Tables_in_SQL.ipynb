{
 "cells": [
  {
   "cell_type": "markdown",
   "metadata": {},
   "source": [
    "### Introduction\n",
    "In order to efficiently store data, we often spread related information across multiple tables.\n",
    "\n",
    "For instance, imagine that we're running a magazine company where users can have different types of subscriptions to different products. Different subscriptions might have many different properties. Each customer would also have lots of associated information.\n",
    "\n",
    "We could have one table with all of the following information:\n",
    "\n",
    "    order_id\n",
    "    customer_id\n",
    "    customer_name\n",
    "    customer_address\n",
    "    subscription_id\n",
    "    subscription_description\n",
    "    subscription_monthly_price\n",
    "    subscription_length\n",
    "    purchase_date\n",
    "However, a lot of this information would be repeated. If the same customer has multiple subscriptions, that customer's name and address will be reported multiple times. If the same subscription type is ordered by multiple customers, then the subscription price and subscription description will be repeated. This will make our table big and unmanageable.\n",
    "\n",
    "So instead, we can split our data into three tables:\n",
    "\n",
    "orders would contain just the information necessary to describe what was ordered:\n",
    "    order_id\n",
    "    customer_id\n",
    "    subscription_id\n",
    "    purchase_date\n",
    "subscriptions would contain the information to describe each type of subscription:\n",
    "    subscription_id\n",
    "    description\n",
    "    price_per_month\n",
    "    subscription_length\n",
    "customers would contain the information for each customer:\n",
    "    customer_id\n",
    "    customer_name\n",
    "    address\n",
    "In this lesson, we'll learn the SQL commands that will help us work with data that is stored in multiple tables."
   ]
  },
  {
   "cell_type": "code",
   "execution_count": 1,
   "metadata": {},
   "outputs": [],
   "source": [
    "# SELECT * FROM orders LIMIT 5;\n",
    "\n",
    "# SELECT * FROM subscriptions LIMIT 5;\n",
    "\n",
    "# SELECT * FROM customers LIMIT 5;"
   ]
  },
  {
   "cell_type": "markdown",
   "metadata": {},
   "source": []
  }
 ],
 "metadata": {
  "kernelspec": {
   "display_name": "Python 3",
   "language": "python",
   "name": "python3"
  },
  "language_info": {
   "codemirror_mode": {
    "name": "ipython",
    "version": 3
   },
   "file_extension": ".py",
   "mimetype": "text/x-python",
   "name": "python",
   "nbconvert_exporter": "python",
   "pygments_lexer": "ipython3",
   "version": "3.6.3"
  }
 },
 "nbformat": 4,
 "nbformat_minor": 2
}
