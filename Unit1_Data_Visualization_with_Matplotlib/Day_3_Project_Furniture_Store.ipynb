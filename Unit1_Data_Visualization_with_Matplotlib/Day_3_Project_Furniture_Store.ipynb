{
 "cells": [
  {
   "cell_type": "markdown",
   "metadata": {},
   "source": [
    "### Create Purchasing Information and Receipts for Lovely Loveseats\n",
    "We've decided to pursue the dream of small-business ownership and open up a furniture store called Lovely Loveseats for Neat Suites on Fleet Street. With our newfound knowledge of Python programming, we're going to build a system to help speed up the process of creating receipts for your customers.\n",
    "\n",
    "In this project, we will be storing the names and prices of a furniture store's catalog in variables. You will then process the total price and item list of customers, printing them to the output terminal.\n",
    "\n",
    "Let's add in our first item, the Lovely Loveseat that is the store's namesake. Create a variable called lovely_loveseat_description and assign to it the following string:"
   ]
  },
  {
   "cell_type": "code",
   "execution_count": 6,
   "metadata": {},
   "outputs": [],
   "source": [
    "lovely_loveseat_description = \"Lovely Loveseat. Tufted polyster blend on wood. 32 inches high x 40 inches wide x 30 inches \\\n",
    "deep. Red or white.\""
   ]
  },
  {
   "cell_type": "markdown",
   "metadata": {},
   "source": [
    "Great, now let's create a price for the loveseat. Create a variable lovely_loveseat_price and set it equal to 254.00."
   ]
  },
  {
   "cell_type": "code",
   "execution_count": null,
   "metadata": {},
   "outputs": [],
   "source": [
    "lovely_loveseat_price = 254.00"
   ]
  },
  {
   "cell_type": "markdown",
   "metadata": {},
   "source": [
    "Let's extend our inventory with another characteristic piece of furniture! Create a variable called stylish_settee_description and assign to it the following string:"
   ]
  },
  {
   "cell_type": "code",
   "execution_count": 7,
   "metadata": {},
   "outputs": [],
   "source": [
    "stylish_settee_description = \"Stylish Settee. Faux leather on birch. 29.50 inches high x 54.75 inches wide x 28 inches \\\n",
    "deep. Black.\""
   ]
  },
  {
   "cell_type": "markdown",
   "metadata": {},
   "source": [
    "Now let's set the price for our Stylish Settee. Create a variable stylish_settee_price and assign it the value of 180.50."
   ]
  },
  {
   "cell_type": "code",
   "execution_count": 10,
   "metadata": {},
   "outputs": [],
   "source": [
    "sytlish_settee_price = 180.50"
   ]
  },
  {
   "cell_type": "markdown",
   "metadata": {},
   "source": [
    "Fantastic, we just need one more item before we're ready for business. Create a new variable called luxurious_lamp_description and assign it the following:"
   ]
  },
  {
   "cell_type": "code",
   "execution_count": 11,
   "metadata": {},
   "outputs": [],
   "source": [
    "luxurious_lamp_description = \"Luxurious Lamp. Glass and iron. 36 inches tall. Brown with cream shade.\""
   ]
  },
  {
   "cell_type": "markdown",
   "metadata": {},
   "source": [
    "Let's set the price for this item. Create a variable called luxurious_lamp_price and set it equal to 52.15."
   ]
  },
  {
   "cell_type": "code",
   "execution_count": 12,
   "metadata": {},
   "outputs": [],
   "source": [
    "luxurious_lamp_price = 52.15"
   ]
  },
  {
   "cell_type": "markdown",
   "metadata": {},
   "source": [
    "In order to business, we should also be calculating sales tax. Let's store that in a variable as well.\n",
    "\n",
    "Define the variable sales_tax and set it equal to .088. That's 8.8%."
   ]
  },
  {
   "cell_type": "code",
   "execution_count": 13,
   "metadata": {},
   "outputs": [],
   "source": [
    "sales_tax = 0.088"
   ]
  },
  {
   "cell_type": "markdown",
   "metadata": {},
   "source": [
    "Our first customer is making their purchase! Let's keep a running tally of their expenses by defining a variable called customer_one_total. Since they haven't purchased anything yet, let's set that variable equal to 0 for now."
   ]
  },
  {
   "cell_type": "code",
   "execution_count": 14,
   "metadata": {},
   "outputs": [],
   "source": [
    "customer_one_total = 0"
   ]
  },
  {
   "cell_type": "markdown",
   "metadata": {},
   "source": [
    "We should also keep a list of the descriptions of things they're purchasing. Create a variable called customer_one_itemization and set that equal to the empty string \"\". We'll tack on the descriptions to this as they make their purchases."
   ]
  },
  {
   "cell_type": "code",
   "execution_count": 15,
   "metadata": {},
   "outputs": [],
   "source": [
    "customer_one_itemization = \"\""
   ]
  },
  {
   "cell_type": "markdown",
   "metadata": {},
   "source": [
    "Our customer has decided they are going to purchase our Lovely Loveseat! Add the price to customer_one_total."
   ]
  },
  {
   "cell_type": "code",
   "execution_count": 16,
   "metadata": {},
   "outputs": [],
   "source": [
    "customer_one_total += lovely_loveseat_price"
   ]
  },
  {
   "cell_type": "markdown",
   "metadata": {},
   "source": [
    "Let's start keeping track of the items our customer purchased. Add the description of the Lovely Loveseat to customer_one_itemization."
   ]
  },
  {
   "cell_type": "code",
   "execution_count": 17,
   "metadata": {},
   "outputs": [],
   "source": [
    "customer_one_itemization += lovely_loveseat_description + \"\\n\""
   ]
  },
  {
   "cell_type": "markdown",
   "metadata": {},
   "source": [
    "Our customer has also decided to purchase the Luxurious Lamp! Let's add the price to the customer's total."
   ]
  },
  {
   "cell_type": "code",
   "execution_count": 18,
   "metadata": {},
   "outputs": [],
   "source": [
    "customer_one_total += luxurious_lamp_price"
   ]
  },
  {
   "cell_type": "markdown",
   "metadata": {},
   "source": [
    "Let's keep the itemization up-to-date and add the description of the Luxurious Lamp to our itemization."
   ]
  },
  {
   "cell_type": "code",
   "execution_count": 19,
   "metadata": {},
   "outputs": [],
   "source": [
    "customer_one_itemization += luxurious_lamp_description + \"\\n\""
   ]
  },
  {
   "cell_type": "markdown",
   "metadata": {},
   "source": [
    "They're ready to check out! Let's begin by calculating sales tax. Create a variable called customer_one_tax and set it equal to customer_one_total times sales_tax."
   ]
  },
  {
   "cell_type": "code",
   "execution_count": 20,
   "metadata": {},
   "outputs": [],
   "source": [
    "customer_one_tax = customer_one_total * sales_tax"
   ]
  },
  {
   "cell_type": "markdown",
   "metadata": {},
   "source": [
    "Add the sales tax to the customer's total cost."
   ]
  },
  {
   "cell_type": "code",
   "execution_count": 21,
   "metadata": {},
   "outputs": [],
   "source": [
    "customer_one_total += customer_one_tax"
   ]
  },
  {
   "cell_type": "markdown",
   "metadata": {},
   "source": [
    "Let's start printing up their receipt! Begin by printing out the heading for their itemization. Print the phrase \"Customer One Items:\".\n",
    "\n",
    "\n",
    "Print customer_one_itemization.\n",
    "\n",
    "Now add a heading for their total cost: print() out \"Customer One Total:\"\n",
    "\n",
    "Now print out their total! Our first customer now has a receipt for the things they purchased."
   ]
  },
  {
   "cell_type": "code",
   "execution_count": 23,
   "metadata": {},
   "outputs": [
    {
     "name": "stdout",
     "output_type": "stream",
     "text": [
      "Customer One Items:\n",
      "Lovely Loveseat. Tufted polyster blend on wood. 32 inches high x 40 inches wide x 30 inches deep. Red or white.\n",
      "Luxurious Lamp. Glass and iron. 36 inches tall. Brown with cream shade.\n",
      "\n",
      "Customer One Total:\n",
      "333.09119999999996\n"
     ]
    }
   ],
   "source": [
    "print(\"Customer One Items:\")\n",
    "print(customer_one_itemization)\n",
    "print(\"Customer One Total:\")\n",
    "print(customer_one_total)"
   ]
  },
  {
   "cell_type": "markdown",
   "metadata": {},
   "source": [
    "We have a new customer! Let's create their total in a new variable called customer_two_total and set it equal to 0.\n",
    "\n",
    "Begin their itemization with a new variable called customer_two_itemization and set that equal to an empty string(\"\").\n",
    "\n",
    "Our second customer has decided to purchase our Stylish Settee. Add the price of the settee to their total.\n",
    "\n",
    "Add the description of the Stylish Settee to the itemization.\n",
    "\n",
    "Customer two has also decided to purchase our Luxurious Lamp (our best-selling item!). Add the price of the Luxurious Lamp to customer_two_total.\n",
    "\n",
    "Update customer_two_itemization to include the description of the Luxurious Lamp.\n",
    "\n",
    "Our customer is ready to check out. Let's calculate the sales tax for their purchase! Save the results in customer_two_tax.\n",
    "\n",
    "Add the calculated tax to the total.\n",
    "\n",
    "Let's print out the second customer's receipt. Start with the heading \"Customer 2 Items:\"\n",
    "\n",
    "Now print out customer_two_itemization.\n",
    "\n",
    "Now add a heading for the second customer's total cost. Print \"Customer Two Total:\".\n",
    "\n",
    "Print out their total that we've stored in customer_two_total."
   ]
  },
  {
   "cell_type": "code",
   "execution_count": 24,
   "metadata": {},
   "outputs": [
    {
     "name": "stdout",
     "output_type": "stream",
     "text": [
      "Customer Two Items:\n",
      "Stylish Settee. Faux leather on birch. 29.50 inches high x 54.75 inches wide x 28 inches deep. Black.\n",
      "Luxurious Lamp. Glass and iron. 36 inches tall. Brown with cream shade.\n",
      "\n",
      "Customer Two Total:\n",
      "253.1232\n"
     ]
    }
   ],
   "source": [
    "customer_two_total = 0\n",
    "customer_two_itemization = \"\"\n",
    "\n",
    "customer_two_total += sytlish_settee_price\n",
    "customer_two_itemization += stylish_settee_description + \"\\n\"\n",
    "customer_two_total += luxurious_lamp_price\n",
    "customer_two_itemization += luxurious_lamp_description\n",
    "\n",
    "customer_two_tax = customer_two_total * sales_tax\n",
    "customer_two_total += customer_two_tax\n",
    "\n",
    "print(\"Customer Two Items:\")\n",
    "print(customer_two_itemization)\n",
    "print(\"\\nCustomer Two Total:\")\n",
    "print(customer_two_total)"
   ]
  },
  {
   "cell_type": "markdown",
   "metadata": {},
   "source": [
    "Congratulations! We created our catalog and served our first two customers. We used our knowledge of strings and numbers to create and update variables. We were able to print out an itemized list and a total cost for each of our customers. Lovely!"
   ]
  },
  {
   "cell_type": "code",
   "execution_count": null,
   "metadata": {},
   "outputs": [],
   "source": []
  }
 ],
 "metadata": {
  "kernelspec": {
   "display_name": "Python 3",
   "language": "python",
   "name": "python3"
  },
  "language_info": {
   "codemirror_mode": {
    "name": "ipython",
    "version": 3
   },
   "file_extension": ".py",
   "mimetype": "text/x-python",
   "name": "python",
   "nbconvert_exporter": "python",
   "pygments_lexer": "ipython3",
   "version": "3.6.3"
  }
 },
 "nbformat": 4,
 "nbformat_minor": 2
}
